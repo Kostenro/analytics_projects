{
 "cells": [
  {
   "cell_type": "markdown",
   "id": "5585670c-69ec-45b4-bff8-aa6169e9377e",
   "metadata": {},
   "source": [
    "<h1>Сборный проект</h1>\n",
    "\n",
    "<h2>Задача:</h2>\n",
    "\n",
    "***выявить закономерности, определяющие успешность игр, для построения маркетингоавой стратегии стримингово сервиса.***<br>\n",
    "\n",
    "ESRB (Entertainment Software Rating Board) — это ассоциация, определяющая возрастной рейтинг компьютерных игр. ESRB оценивает игровой контент и присваивает ему подходящую возрастную категорию, например, «Для взрослых», «Для детей младшего возраста» или «Для подростков».\n",
    "\n",
    "\n",
    "<a id='bullet_0'></a><h2>План реализации проекта</h2>\n",
    "\n",
    "##### [Часть 1. Изучение общей информации:](#bullet_1)\n",
    " 1.1 Изученеие файлов с данными, получение общей информации, загрузка библиотек.(Путь к файлу: /datasets/games.csv.)<br>\n",
    "\n",
    " 1.2 Заменить названия столбцов (привести к нижнему регистру);<br>\n",
    "\n",
    "##### [Часть 2. Подготовка данных:](#bullet_2)\n",
    "\n",
    "\n",
    "\n",
    " 2.1. Приведение данных к нужным типам.<br>\n",
    " \n",
    " 2.2 Ликвидация пропусков<br>\n",
    " \n",
    " 2.3. Посчитать и добавить отдельный столбец: суммарные продажи во всех регионах.<br>\n",
    "\n",
    "\n",
    " ##### [Часть 3. Провести исследовательский анализ данных:](#bullet_3)\n",
    "\n",
    "\n",
    "\n",
    " ##### [Часть 4. Составить порьрет пользователя для каждого региона](#bullet_4)\n",
    " ##### [Часть 5. Проверка гипотиз](#bullet_5)\n",
    " \n",
    "\n",
    "* Средние пользовательские рейтинги платформ Xbox One и PC одинаковые;<br>\n",
    "* Средние пользовательские рейтинги жанров Action (англ. «действие», экшен-игры) и Sports (англ. «спортивные соревнования») разные.<br>\n",
    "\n",
    "\n",
    "##### [Часть 6. Напишите общий вывод](#bullet_6)\n"
   ]
  },
  {
   "cell_type": "markdown",
   "id": "1d514254-1b00-44d0-9a0c-a6fcdddfaacf",
   "metadata": {},
   "source": [
    "<h3>Влияние рейтинга ESRB на продажи в регионах<h3>"
   ]
  },
  {
   "cell_type": "markdown",
   "id": "d2bc2391-06cb-4741-b2d5-8cf345b24395",
   "metadata": {},
   "source": [
    "<h2>1. Изучение общей информации:</h2>"
   ]
  },
  {
   "cell_type": "markdown",
   "id": "a465e32e-05e6-4e89-8f71-ea4256db128b",
   "metadata": {},
   "source": [
    "<a id='bullet_1'></a><h3>1. Изученеие файлов с данными, получение общей информации, загрузка библиотек.</h3>"
   ]
  },
  {
   "cell_type": "code",
   "execution_count": 1,
   "id": "3db5dd1e-a8ef-4cf4-9782-0a2804e998aa",
   "metadata": {},
   "outputs": [],
   "source": [
    "#импорт библиотек\n",
    "import pandas as pd\n",
    "import math as mt\n",
    "from scipy import stats as st\n",
    "from datetime import datetime\n",
    "import matplotlib.pyplot as plt\n",
    "import numpy as np"
   ]
  },
  {
   "cell_type": "code",
   "execution_count": 2,
   "id": "7d5a9d8a-0122-4fcf-8fa9-30ce5e2d320b",
   "metadata": {},
   "outputs": [
    {
     "data": {
      "text/html": [
       "<div>\n",
       "<style scoped>\n",
       "    .dataframe tbody tr th:only-of-type {\n",
       "        vertical-align: middle;\n",
       "    }\n",
       "\n",
       "    .dataframe tbody tr th {\n",
       "        vertical-align: top;\n",
       "    }\n",
       "\n",
       "    .dataframe thead th {\n",
       "        text-align: right;\n",
       "    }\n",
       "</style>\n",
       "<table border=\"1\" class=\"dataframe\">\n",
       "  <thead>\n",
       "    <tr style=\"text-align: right;\">\n",
       "      <th></th>\n",
       "      <th>name</th>\n",
       "      <th>platform</th>\n",
       "      <th>year_of_release</th>\n",
       "      <th>genre</th>\n",
       "      <th>na_sales</th>\n",
       "      <th>eu_sales</th>\n",
       "      <th>jp_sales</th>\n",
       "      <th>other_sales</th>\n",
       "      <th>critic_score</th>\n",
       "      <th>user_score</th>\n",
       "      <th>esrb_rating</th>\n",
       "    </tr>\n",
       "  </thead>\n",
       "  <tbody>\n",
       "    <tr>\n",
       "      <th>0</th>\n",
       "      <td>Wii Sports</td>\n",
       "      <td>Wii</td>\n",
       "      <td>2006.0</td>\n",
       "      <td>Sports</td>\n",
       "      <td>41.36</td>\n",
       "      <td>28.96</td>\n",
       "      <td>3.77</td>\n",
       "      <td>8.45</td>\n",
       "      <td>76.0</td>\n",
       "      <td>8</td>\n",
       "      <td>E</td>\n",
       "    </tr>\n",
       "    <tr>\n",
       "      <th>1</th>\n",
       "      <td>Super Mario Bros.</td>\n",
       "      <td>NES</td>\n",
       "      <td>1985.0</td>\n",
       "      <td>Platform</td>\n",
       "      <td>29.08</td>\n",
       "      <td>3.58</td>\n",
       "      <td>6.81</td>\n",
       "      <td>0.77</td>\n",
       "      <td>NaN</td>\n",
       "      <td>NaN</td>\n",
       "      <td>NaN</td>\n",
       "    </tr>\n",
       "    <tr>\n",
       "      <th>2</th>\n",
       "      <td>Mario Kart Wii</td>\n",
       "      <td>Wii</td>\n",
       "      <td>2008.0</td>\n",
       "      <td>Racing</td>\n",
       "      <td>15.68</td>\n",
       "      <td>12.76</td>\n",
       "      <td>3.79</td>\n",
       "      <td>3.29</td>\n",
       "      <td>82.0</td>\n",
       "      <td>8.3</td>\n",
       "      <td>E</td>\n",
       "    </tr>\n",
       "    <tr>\n",
       "      <th>3</th>\n",
       "      <td>Wii Sports Resort</td>\n",
       "      <td>Wii</td>\n",
       "      <td>2009.0</td>\n",
       "      <td>Sports</td>\n",
       "      <td>15.61</td>\n",
       "      <td>10.93</td>\n",
       "      <td>3.28</td>\n",
       "      <td>2.95</td>\n",
       "      <td>80.0</td>\n",
       "      <td>8</td>\n",
       "      <td>E</td>\n",
       "    </tr>\n",
       "    <tr>\n",
       "      <th>4</th>\n",
       "      <td>Pokemon Red/Pokemon Blue</td>\n",
       "      <td>GB</td>\n",
       "      <td>1996.0</td>\n",
       "      <td>Role-Playing</td>\n",
       "      <td>11.27</td>\n",
       "      <td>8.89</td>\n",
       "      <td>10.22</td>\n",
       "      <td>1.00</td>\n",
       "      <td>NaN</td>\n",
       "      <td>NaN</td>\n",
       "      <td>NaN</td>\n",
       "    </tr>\n",
       "  </tbody>\n",
       "</table>\n",
       "</div>"
      ],
      "text/plain": [
       "                       name platform  year_of_release         genre  na_sales  \\\n",
       "0                Wii Sports      Wii           2006.0        Sports     41.36   \n",
       "1         Super Mario Bros.      NES           1985.0      Platform     29.08   \n",
       "2            Mario Kart Wii      Wii           2008.0        Racing     15.68   \n",
       "3         Wii Sports Resort      Wii           2009.0        Sports     15.61   \n",
       "4  Pokemon Red/Pokemon Blue       GB           1996.0  Role-Playing     11.27   \n",
       "\n",
       "   eu_sales  jp_sales  other_sales  critic_score user_score esrb_rating  \n",
       "0     28.96      3.77         8.45          76.0          8           E  \n",
       "1      3.58      6.81         0.77           NaN        NaN         NaN  \n",
       "2     12.76      3.79         3.29          82.0        8.3           E  \n",
       "3     10.93      3.28         2.95          80.0          8           E  \n",
       "4      8.89     10.22         1.00           NaN        NaN         NaN  "
      ]
     },
     "execution_count": 2,
     "metadata": {},
     "output_type": "execute_result"
    }
   ],
   "source": [
    "#загрузили, посмотрели, сразу поправили названия столбцов\n",
    "games = pd.read_csv('games.csv')\n",
    "games.columns = map(str.lower, games.columns)\n",
    "games = games.rename(columns={'rating':'esrb_rating'})\n",
    "games.head(5)"
   ]
  },
  {
   "cell_type": "code",
   "execution_count": 3,
   "id": "aab85ce8-d97c-44b0-a71f-6b5b5b3f14ce",
   "metadata": {},
   "outputs": [
    {
     "data": {
      "text/html": [
       "<div>\n",
       "<style scoped>\n",
       "    .dataframe tbody tr th:only-of-type {\n",
       "        vertical-align: middle;\n",
       "    }\n",
       "\n",
       "    .dataframe tbody tr th {\n",
       "        vertical-align: top;\n",
       "    }\n",
       "\n",
       "    .dataframe thead th {\n",
       "        text-align: right;\n",
       "    }\n",
       "</style>\n",
       "<table border=\"1\" class=\"dataframe\">\n",
       "  <thead>\n",
       "    <tr style=\"text-align: right;\">\n",
       "      <th></th>\n",
       "      <th>name</th>\n",
       "      <th>platform</th>\n",
       "      <th>year_of_release</th>\n",
       "      <th>genre</th>\n",
       "      <th>na_sales</th>\n",
       "      <th>eu_sales</th>\n",
       "      <th>jp_sales</th>\n",
       "      <th>other_sales</th>\n",
       "      <th>critic_score</th>\n",
       "      <th>user_score</th>\n",
       "      <th>esrb_rating</th>\n",
       "    </tr>\n",
       "  </thead>\n",
       "  <tbody>\n",
       "    <tr>\n",
       "      <th>16710</th>\n",
       "      <td>Samurai Warriors: Sanada Maru</td>\n",
       "      <td>PS3</td>\n",
       "      <td>2016.0</td>\n",
       "      <td>Action</td>\n",
       "      <td>0.00</td>\n",
       "      <td>0.00</td>\n",
       "      <td>0.01</td>\n",
       "      <td>0.0</td>\n",
       "      <td>NaN</td>\n",
       "      <td>NaN</td>\n",
       "      <td>NaN</td>\n",
       "    </tr>\n",
       "    <tr>\n",
       "      <th>16711</th>\n",
       "      <td>LMA Manager 2007</td>\n",
       "      <td>X360</td>\n",
       "      <td>2006.0</td>\n",
       "      <td>Sports</td>\n",
       "      <td>0.00</td>\n",
       "      <td>0.01</td>\n",
       "      <td>0.00</td>\n",
       "      <td>0.0</td>\n",
       "      <td>NaN</td>\n",
       "      <td>NaN</td>\n",
       "      <td>NaN</td>\n",
       "    </tr>\n",
       "    <tr>\n",
       "      <th>16712</th>\n",
       "      <td>Haitaka no Psychedelica</td>\n",
       "      <td>PSV</td>\n",
       "      <td>2016.0</td>\n",
       "      <td>Adventure</td>\n",
       "      <td>0.00</td>\n",
       "      <td>0.00</td>\n",
       "      <td>0.01</td>\n",
       "      <td>0.0</td>\n",
       "      <td>NaN</td>\n",
       "      <td>NaN</td>\n",
       "      <td>NaN</td>\n",
       "    </tr>\n",
       "    <tr>\n",
       "      <th>16713</th>\n",
       "      <td>Spirits &amp; Spells</td>\n",
       "      <td>GBA</td>\n",
       "      <td>2003.0</td>\n",
       "      <td>Platform</td>\n",
       "      <td>0.01</td>\n",
       "      <td>0.00</td>\n",
       "      <td>0.00</td>\n",
       "      <td>0.0</td>\n",
       "      <td>NaN</td>\n",
       "      <td>NaN</td>\n",
       "      <td>NaN</td>\n",
       "    </tr>\n",
       "    <tr>\n",
       "      <th>16714</th>\n",
       "      <td>Winning Post 8 2016</td>\n",
       "      <td>PSV</td>\n",
       "      <td>2016.0</td>\n",
       "      <td>Simulation</td>\n",
       "      <td>0.00</td>\n",
       "      <td>0.00</td>\n",
       "      <td>0.01</td>\n",
       "      <td>0.0</td>\n",
       "      <td>NaN</td>\n",
       "      <td>NaN</td>\n",
       "      <td>NaN</td>\n",
       "    </tr>\n",
       "  </tbody>\n",
       "</table>\n",
       "</div>"
      ],
      "text/plain": [
       "                                name platform  year_of_release       genre  \\\n",
       "16710  Samurai Warriors: Sanada Maru      PS3           2016.0      Action   \n",
       "16711               LMA Manager 2007     X360           2006.0      Sports   \n",
       "16712        Haitaka no Psychedelica      PSV           2016.0   Adventure   \n",
       "16713               Spirits & Spells      GBA           2003.0    Platform   \n",
       "16714            Winning Post 8 2016      PSV           2016.0  Simulation   \n",
       "\n",
       "       na_sales  eu_sales  jp_sales  other_sales  critic_score user_score  \\\n",
       "16710      0.00      0.00      0.01          0.0           NaN        NaN   \n",
       "16711      0.00      0.01      0.00          0.0           NaN        NaN   \n",
       "16712      0.00      0.00      0.01          0.0           NaN        NaN   \n",
       "16713      0.01      0.00      0.00          0.0           NaN        NaN   \n",
       "16714      0.00      0.00      0.01          0.0           NaN        NaN   \n",
       "\n",
       "      esrb_rating  \n",
       "16710         NaN  \n",
       "16711         NaN  \n",
       "16712         NaN  \n",
       "16713         NaN  \n",
       "16714         NaN  "
      ]
     },
     "execution_count": 3,
     "metadata": {},
     "output_type": "execute_result"
    }
   ],
   "source": [
    "games.tail(5)"
   ]
  },
  {
   "cell_type": "code",
   "execution_count": 4,
   "id": "6d5eb838-7c4f-4597-a511-e3cf835217e0",
   "metadata": {},
   "outputs": [
    {
     "data": {
      "text/plain": [
       "array(['E', nan, 'M', 'T', 'E10+', 'K-A', 'AO', 'EC', 'RP'], dtype=object)"
      ]
     },
     "execution_count": 4,
     "metadata": {},
     "output_type": "execute_result"
    }
   ],
   "source": [
    "games['esrb_rating'].unique()"
   ]
  },
  {
   "cell_type": "code",
   "execution_count": 5,
   "id": "de1bddf9-79b6-4f15-8d2e-41e24295909d",
   "metadata": {},
   "outputs": [
    {
     "data": {
      "text/plain": [
       "name                  2\n",
       "platform              0\n",
       "year_of_release     269\n",
       "genre                 2\n",
       "na_sales              0\n",
       "eu_sales              0\n",
       "jp_sales              0\n",
       "other_sales           0\n",
       "critic_score       8578\n",
       "user_score         6701\n",
       "esrb_rating        6766\n",
       "dtype: int64"
      ]
     },
     "execution_count": 5,
     "metadata": {},
     "output_type": "execute_result"
    }
   ],
   "source": [
    "games.isnull().sum()"
   ]
  },
  {
   "cell_type": "code",
   "execution_count": 6,
   "id": "29153850-cfbc-4b12-8635-0d1c6387415c",
   "metadata": {},
   "outputs": [
    {
     "data": {
      "text/plain": [
       "array(['E', nan, 'M', 'T', 'E10+', 'K-A', 'AO', 'EC', 'RP'], dtype=object)"
      ]
     },
     "execution_count": 6,
     "metadata": {},
     "output_type": "execute_result"
    }
   ],
   "source": [
    "games['esrb_rating'].unique()"
   ]
  },
  {
   "cell_type": "code",
   "execution_count": 7,
   "id": "27c8ea53-9247-410e-b671-58e223f91814",
   "metadata": {},
   "outputs": [
    {
     "data": {
      "text/plain": [
       "array([2006., 1985., 2008., 2009., 1996., 1989., 1984., 2005., 1999.,\n",
       "       2007., 2010., 2013., 2004., 1990., 1988., 2002., 2001., 2011.,\n",
       "       1998., 2015., 2012., 2014., 1992., 1997., 1993., 1994., 1982.,\n",
       "       2016., 2003., 1986., 2000.,   nan, 1995., 1991., 1981., 1987.,\n",
       "       1980., 1983.])"
      ]
     },
     "execution_count": 7,
     "metadata": {},
     "output_type": "execute_result"
    }
   ],
   "source": [
    "games['year_of_release'].unique()"
   ]
  },
  {
   "cell_type": "code",
   "execution_count": 8,
   "id": "117111bf-ed48-4d73-a72e-4ea8b66178b9",
   "metadata": {},
   "outputs": [
    {
     "data": {
      "text/plain": [
       "0"
      ]
     },
     "execution_count": 8,
     "metadata": {},
     "output_type": "execute_result"
    }
   ],
   "source": [
    "games.duplicated().sum()"
   ]
  },
  {
   "cell_type": "code",
   "execution_count": 9,
   "id": "e09c51de-82d3-48ff-9755-54befd1c1514",
   "metadata": {},
   "outputs": [
    {
     "data": {
      "text/html": [
       "<div>\n",
       "<style scoped>\n",
       "    .dataframe tbody tr th:only-of-type {\n",
       "        vertical-align: middle;\n",
       "    }\n",
       "\n",
       "    .dataframe tbody tr th {\n",
       "        vertical-align: top;\n",
       "    }\n",
       "\n",
       "    .dataframe thead th {\n",
       "        text-align: right;\n",
       "    }\n",
       "</style>\n",
       "<table border=\"1\" class=\"dataframe\">\n",
       "  <thead>\n",
       "    <tr style=\"text-align: right;\">\n",
       "      <th></th>\n",
       "      <th>year_of_release</th>\n",
       "      <th>na_sales</th>\n",
       "      <th>eu_sales</th>\n",
       "      <th>jp_sales</th>\n",
       "      <th>other_sales</th>\n",
       "      <th>critic_score</th>\n",
       "    </tr>\n",
       "  </thead>\n",
       "  <tbody>\n",
       "    <tr>\n",
       "      <th>count</th>\n",
       "      <td>16446.000000</td>\n",
       "      <td>16715.000000</td>\n",
       "      <td>16715.000000</td>\n",
       "      <td>16715.000000</td>\n",
       "      <td>16715.000000</td>\n",
       "      <td>8137.000000</td>\n",
       "    </tr>\n",
       "    <tr>\n",
       "      <th>mean</th>\n",
       "      <td>2006.484616</td>\n",
       "      <td>0.263377</td>\n",
       "      <td>0.145060</td>\n",
       "      <td>0.077617</td>\n",
       "      <td>0.047342</td>\n",
       "      <td>68.967679</td>\n",
       "    </tr>\n",
       "    <tr>\n",
       "      <th>std</th>\n",
       "      <td>5.877050</td>\n",
       "      <td>0.813604</td>\n",
       "      <td>0.503339</td>\n",
       "      <td>0.308853</td>\n",
       "      <td>0.186731</td>\n",
       "      <td>13.938165</td>\n",
       "    </tr>\n",
       "    <tr>\n",
       "      <th>min</th>\n",
       "      <td>1980.000000</td>\n",
       "      <td>0.000000</td>\n",
       "      <td>0.000000</td>\n",
       "      <td>0.000000</td>\n",
       "      <td>0.000000</td>\n",
       "      <td>13.000000</td>\n",
       "    </tr>\n",
       "    <tr>\n",
       "      <th>25%</th>\n",
       "      <td>2003.000000</td>\n",
       "      <td>0.000000</td>\n",
       "      <td>0.000000</td>\n",
       "      <td>0.000000</td>\n",
       "      <td>0.000000</td>\n",
       "      <td>60.000000</td>\n",
       "    </tr>\n",
       "    <tr>\n",
       "      <th>50%</th>\n",
       "      <td>2007.000000</td>\n",
       "      <td>0.080000</td>\n",
       "      <td>0.020000</td>\n",
       "      <td>0.000000</td>\n",
       "      <td>0.010000</td>\n",
       "      <td>71.000000</td>\n",
       "    </tr>\n",
       "    <tr>\n",
       "      <th>75%</th>\n",
       "      <td>2010.000000</td>\n",
       "      <td>0.240000</td>\n",
       "      <td>0.110000</td>\n",
       "      <td>0.040000</td>\n",
       "      <td>0.030000</td>\n",
       "      <td>79.000000</td>\n",
       "    </tr>\n",
       "    <tr>\n",
       "      <th>max</th>\n",
       "      <td>2016.000000</td>\n",
       "      <td>41.360000</td>\n",
       "      <td>28.960000</td>\n",
       "      <td>10.220000</td>\n",
       "      <td>10.570000</td>\n",
       "      <td>98.000000</td>\n",
       "    </tr>\n",
       "  </tbody>\n",
       "</table>\n",
       "</div>"
      ],
      "text/plain": [
       "       year_of_release      na_sales      eu_sales      jp_sales  \\\n",
       "count     16446.000000  16715.000000  16715.000000  16715.000000   \n",
       "mean       2006.484616      0.263377      0.145060      0.077617   \n",
       "std           5.877050      0.813604      0.503339      0.308853   \n",
       "min        1980.000000      0.000000      0.000000      0.000000   \n",
       "25%        2003.000000      0.000000      0.000000      0.000000   \n",
       "50%        2007.000000      0.080000      0.020000      0.000000   \n",
       "75%        2010.000000      0.240000      0.110000      0.040000   \n",
       "max        2016.000000     41.360000     28.960000     10.220000   \n",
       "\n",
       "        other_sales  critic_score  \n",
       "count  16715.000000   8137.000000  \n",
       "mean       0.047342     68.967679  \n",
       "std        0.186731     13.938165  \n",
       "min        0.000000     13.000000  \n",
       "25%        0.000000     60.000000  \n",
       "50%        0.010000     71.000000  \n",
       "75%        0.030000     79.000000  \n",
       "max       10.570000     98.000000  "
      ]
     },
     "execution_count": 9,
     "metadata": {},
     "output_type": "execute_result"
    }
   ],
   "source": [
    "games.describe()"
   ]
  },
  {
   "cell_type": "markdown",
   "id": "be13be21-f0a3-4e92-81dd-d19a99e2af27",
   "metadata": {},
   "source": [
    "[назад к оглавлению](#bullet_0)"
   ]
  },
  {
   "cell_type": "markdown",
   "id": "37104656-7efb-4215-9f5f-9ae51cfa5f7f",
   "metadata": {},
   "source": [
    "***Подгрузили библиотеки,открыли файлы с данными, изучили общую информацию, поправили названия столбцов.<br> Обнаружили пропуски и нулевые значения.<br> Проверили на наличие дубликатов - отсутсвуют.<br> Нужно замеить тип данных: user_score на float, он стал object из-за значения 'tbd'(прописано в задании) - гуглим значения 'tbd' - To Be Determined, т.е не определен - нужно заменить на NAN***<br> \n",
    "\n",
    "***По пропускам:***<br>\n",
    "year_of_release     269   -  поменять тип на int<br>\n",
    "critic_score       8578  - заменить пропуски на маркер<br>\n",
    "user_score         6701  -поменять на float, заменить пропуски маркером<br>\n",
    "esrb_rating             6766<br> оставим как есть\n",
    "Значения рейтингов заменить на средние нельзя(будет не честно), год релиза . Численные рейтинги заменим числом-маркером, для возможности работы с данными в этих столбцах. пропуски в дате и esrb_rating оставим"
   ]
  },
  {
   "cell_type": "markdown",
   "id": "b1bf7796-0a43-43b2-b881-acc2bfc6fe31",
   "metadata": {},
   "source": [
    "<a id='bullet_1'></a><h2>2. Подготовка данных</h2>"
   ]
  },
  {
   "cell_type": "markdown",
   "id": "42445004-153b-4b67-b7ee-0fa979bb385d",
   "metadata": {},
   "source": [
    "***2.1 Приведение данных к нужным типам***"
   ]
  },
  {
   "cell_type": "markdown",
   "id": "de9f9048-e258-4609-a29c-5a53cf84cf85",
   "metadata": {},
   "source": [
    "#чтобы заменить тип даных user_score нужно убрать 'tbd' - заменить на nan\n",
    "games['user_score'] = games['user_score'].replace('tbd', np.NaN)\n",
    "games['user_score'] = games['user_score'].astype('float')"
   ]
  },
  {
   "cell_type": "code",
   "execution_count": 10,
   "id": "b5834e2a-bfb9-4f76-b07b-4588db1009ee",
   "metadata": {},
   "outputs": [],
   "source": [
    "#сделаем год int для красоты, предварительн убрав nan\n",
    "games['year_of_release'] = games['year_of_release'].fillna(0)\n",
    "games['year_of_release'] = games['year_of_release'].astype('int')\n",
    "#games.info()\n",
    "#games.head()"
   ]
  },
  {
   "cell_type": "markdown",
   "id": "c074cd1a-3f0b-4692-b4d7-c925633d652e",
   "metadata": {},
   "source": [
    "***2.2 Избавляемся от пропусков***"
   ]
  },
  {
   "cell_type": "code",
   "execution_count": 11,
   "id": "a73bdef9-7203-44ed-80c2-759eedaef462",
   "metadata": {},
   "outputs": [
    {
     "data": {
      "text/plain": [
       "name                  2\n",
       "platform              0\n",
       "year_of_release       0\n",
       "genre                 2\n",
       "na_sales              0\n",
       "eu_sales              0\n",
       "jp_sales              0\n",
       "other_sales           0\n",
       "critic_score          0\n",
       "user_score            0\n",
       "esrb_rating        6766\n",
       "dtype: int64"
      ]
     },
     "execution_count": 11,
     "metadata": {},
     "output_type": "execute_result"
    }
   ],
   "source": [
    "games['critic_score'] = games['critic_score'].fillna(-1)\n",
    "games['user_score'] = games['user_score'].fillna(-1)\n",
    "games.isnull().sum()"
   ]
  },
  {
   "cell_type": "markdown",
   "id": "58e213a8-15b3-45e9-80c6-42386e816ebb",
   "metadata": {},
   "source": [
    "***2.3. Посчитать и добавить отдельный столбец: суммарные продажи во всех регионах.***"
   ]
  },
  {
   "cell_type": "code",
   "execution_count": 12,
   "id": "9a863cda-42dc-47cd-ada9-573d326149db",
   "metadata": {},
   "outputs": [],
   "source": [
    "games['total_sales'] = games['na_sales'] + games['eu_sales'] + games['jp_sales'] + games['other_sales']\n",
    "#games['total_sales'].tail(40)"
   ]
  },
  {
   "cell_type": "markdown",
   "id": "b488c61d-5695-406d-ab0f-6a4dc8c12217",
   "metadata": {},
   "source": [
    "[назад к оглавлению](#bullet_0)"
   ]
  },
  {
   "cell_type": "markdown",
   "id": "a7a8dbe2-dd63-4e42-b787-c2d32c049ed4",
   "metadata": {},
   "source": [
    "<a id='bullet_3'></a><h2>3. Провести исследовательский анализ данных<h2>"
   ]
  },
  {
   "cell_type": "markdown",
   "id": "8c94485b-212d-4377-9b46-8112f6a265c1",
   "metadata": {},
   "source": [
    "* Посмотреть распределение по годам(построить гистограмму)\n",
    "* Посмотреть распределение по платформам. Построить распределени по годам для платформ с наибольшими продажами.\n",
    "* Сделать вывод по периодам для определения выборки\n",
    "* Построить \"ящик с усами\" по глобальным продажам игр в разбивке по платформам. Описать результат.\n",
    "* Узнайте, на какой платформе было выпущено больше всего игр\n",
    "* Определите, игр какого жанра больше всего\n",
    "* Найдите игры с наибольшей и наименьшей оценкой от пользователей\n",
    "* Найдите игры с наибольшей и наименьшей оценкой от критиков\n",
    "* Оцените корреляцию между оценками критиков и пользовательскими оценками"
   ]
  },
  {
   "cell_type": "code",
   "execution_count": 13,
   "id": "d9050f29-e4a7-4619-84c3-820f61da0cbf",
   "metadata": {},
   "outputs": [
    {
     "data": {
      "text/plain": [
       "<matplotlib.legend.Legend at 0x2e6632cb250>"
      ]
     },
     "execution_count": 13,
     "metadata": {},
     "output_type": "execute_result"
    },
    {
     "data": {
      "image/png": "[encoded data removed]",
      "text/plain": [
       "<Figure size 432x288 with 1 Axes>"
      ]
     },
     "metadata": {
      "needs_background": "light"
     },
     "output_type": "display_data"
    }
   ],
   "source": [
    "#строим распределение релизов по годам\n",
    "title = 'Количество вышедших игр по годам'\n",
    "plt.xlabel('Год выхода игры')\n",
    "games[games['year_of_release'] != 0]['year_of_release'].plot(kind='hist', bins=30, title = title, ec='black', alpha=0.8).legend()"
   ]
  },
  {
   "cell_type": "markdown",
   "id": "99826aaf-ab72-4be0-bc08-298867990924",
   "metadata": {},
   "source": [
    "***Есть период роста продаж с 1990 го по 2011 с пиками(возможно технологческие прорывы). В 2011 году падение и, видимо новый виток на рост. Возможно 2011-2015 г. можно взять за период намечающейся новой тенденции с возможным ростом или продолжением снижения интереса к играм в 2016.***"
   ]
  },
  {
   "cell_type": "code",
   "execution_count": 14,
   "id": "97d15cda-dce4-415a-a5db-f332853a995a",
   "metadata": {},
   "outputs": [
    {
     "data": {
      "text/plain": [
       "<matplotlib.legend.Legend at 0x2e6633f9c40>"
      ]
     },
     "execution_count": 14,
     "metadata": {},
     "output_type": "execute_result"
    },
    {
     "data": {
      "image/png": "[encoded data removed]",
      "text/plain": [
       "<Figure size 1080x720 with 1 Axes>"
      ]
     },
     "metadata": {
      "needs_background": "light"
     },
     "output_type": "display_data"
    }
   ],
   "source": [
    "#Смотрим на каких платформах болше всего играли\n",
    "title='Продажи по платформам'\n",
    "plt.xlabel('Продажи')\n",
    "df_to_plot = games.groupby('platform')['total_sales']\n",
    "df_to_plot_calculated = df_to_plot.sum().sort_values()\n",
    "df_to_plot_calculated.plot(kind='barh', figsize=(15,10), title=title, ec='black', alpha=0.8).legend()"
   ]
  },
  {
   "cell_type": "markdown",
   "id": "e7c663f8-f98b-4bff-bf28-6fa08a70d21f",
   "metadata": {},
   "source": [
    "***Шсть безусловных лидеров, в порядке убывания: PS2, X360, PS3, Wii, DS, PS***"
   ]
  },
  {
   "cell_type": "code",
   "execution_count": 15,
   "id": "a76daeea-6849-4ce3-8c68-37053edf9106",
   "metadata": {},
   "outputs": [],
   "source": [
    "#Построить распределени по годам для платформ с наибольшими продажами.\n",
    "popular_pl = games[games['platform'].isin(['PS3', 'PS2', 'X360', 'Wii', 'DS', 'PS'])]"
   ]
  },
  {
   "cell_type": "code",
   "execution_count": 16,
   "id": "30bb72ab-e901-4cfc-93d4-c1542fc9ae18",
   "metadata": {},
   "outputs": [
    {
     "data": {
      "text/plain": [
       "<matplotlib.legend.Legend at 0x2e66358be80>"
      ]
     },
     "execution_count": 16,
     "metadata": {},
     "output_type": "execute_result"
    },
    {
     "data": {
      "image/png": "[encoded data removed]",
      "text/plain": [
       "<Figure size 1080x360 with 1 Axes>"
      ]
     },
     "metadata": {
      "needs_background": "light"
     },
     "output_type": "display_data"
    }
   ],
   "source": [
    "title='Срок жизни популярных платформ PS2, PS3, X360'\n",
    "plt.xlabel('Год')\n",
    "popular_pl[(popular_pl['year_of_release'] != 0) & (popular_pl['platform'].isin(['PS2']))]['year_of_release'].plot(kind='hist', bins=25, figsize=(20,5), title=title).legend()\n",
    "popular_pl[(popular_pl['year_of_release'] != 0) & (popular_pl['platform'].isin(['X360']))]['year_of_release'].plot(kind='hist', bins=25, figsize=(15,5), alpha=0.8).legend()\n",
    "popular_pl[(popular_pl['year_of_release'] != 0) & (popular_pl['platform'].isin(['PS3']))]['year_of_release'].plot(kind='hist', bins=25, figsize=(15,5), alpha=0.8).legend()\n"
   ]
  },
  {
   "cell_type": "code",
   "execution_count": 17,
   "id": "be8c320d-d447-4335-bfb4-2a2938827331",
   "metadata": {},
   "outputs": [
    {
     "data": {
      "text/plain": [
       "<matplotlib.legend.Legend at 0x2e66365cdc0>"
      ]
     },
     "execution_count": 17,
     "metadata": {},
     "output_type": "execute_result"
    },
    {
     "data": {
      "image/png": "[encoded data removed]",
      "text/plain": [
       "<Figure size 1080x360 with 1 Axes>"
      ]
     },
     "metadata": {
      "needs_background": "light"
     },
     "output_type": "display_data"
    }
   ],
   "source": [
    "title='Срок жизни популярных платформ Wii и PS'\n",
    "plt.xlabel('Год')\n",
    "popular_pl[(popular_pl['year_of_release'] != 0) & (popular_pl['platform'].isin(['Wii']))]['year_of_release'].plot(kind='hist', bins=25, figsize=(15,5), alpha=0.8, title=title).legend()\n",
    "popular_pl[(popular_pl['year_of_release'] != 0) & (popular_pl['platform'].isin(['PS']))]['year_of_release'].plot(kind='hist', bins=25, figsize=(15,5), alpha=0.8).legend()\n"
   ]
  },
  {
   "cell_type": "code",
   "execution_count": 18,
   "id": "c3a27d97-2e97-4785-85da-a4a99253b77b",
   "metadata": {},
   "outputs": [
    {
     "data": {
      "text/plain": [
       "<matplotlib.legend.Legend at 0x2e6636debb0>"
      ]
     },
     "execution_count": 18,
     "metadata": {},
     "output_type": "execute_result"
    },
    {
     "data": {
      "image/png": "[encoded data removed]",
      "text/plain": [
       "<Figure size 1080x360 with 1 Axes>"
      ]
     },
     "metadata": {
      "needs_background": "light"
     },
     "output_type": "display_data"
    }
   ],
   "source": [
    "#срок жизни DS\n",
    "title='Срок жизни популярных платформ DS'\n",
    "plt.xlabel('Год')\n",
    "popular_pl[(popular_pl['year_of_release'] != 0) & (popular_pl['platform'].isin(['DS']))]['year_of_release'].plot(kind='hist', bins=55, figsize=(15,5), alpha=0.8, title=title).legend()"
   ]
  },
  {
   "cell_type": "code",
   "execution_count": 19,
   "id": "1d9887d2-22c2-495e-87ad-3a21e98d15f9",
   "metadata": {},
   "outputs": [],
   "source": [
    "#itle='время жизни PS2'\n",
    "#lt.xlabel('Год')\n",
    "#opular_pl = games[games['platform'].isin(['PS2'])]\n",
    "#opular_pl[popular_pl['year_of_release'] != 0]['year_of_release'].plot(kind='hist', bins=30, title = title, ec='black', alpha=0.8).legend()\n"
   ]
  },
  {
   "cell_type": "code",
   "execution_count": 20,
   "id": "cb1eb39a-4668-4360-917b-c27c99aac309",
   "metadata": {},
   "outputs": [
    {
     "data": {
      "text/plain": [
       "<AxesSubplot:title={'center':'Общие родажи за каждый год'}, xlabel='year_of_release'>"
      ]
     },
     "execution_count": 20,
     "metadata": {},
     "output_type": "execute_result"
    },
    {
     "data": {
      "image/png": "[encoded data removed]",
      "text/plain": [
       "<Figure size 432x288 with 1 Axes>"
      ]
     },
     "metadata": {
      "needs_background": "light"
     },
     "output_type": "display_data"
    }
   ],
   "source": [
    "title='Общие родажи за каждый год'\n",
    "games[games['year_of_release'] != 0].groupby('year_of_release').agg({'total_sales':'sum'}).plot(title=title)"
   ]
  },
  {
   "cell_type": "markdown",
   "id": "e93b3eb0-a134-4ef2-a4ba-bdc616420f0b",
   "metadata": {},
   "source": [
    "***PS -  10 лет;<br>\n",
    "PS2 - 11 лет;<br>\n",
    "PS3 - с 2006 по настоящее время;<br>\n",
    "DS -  8 лет;<br>\n",
    "Wii - 10 лет.<br>\n",
    "Таким образом, в среднем консоль живет 10 лет видимо до выхода более продвинутой модели.*** \n",
    "\n",
    "***Выбрать актуальный период! Возьмем данные за последние 10 лет с 2006 по 2016 (среднюю продолжительность жизни платформы).Туда же попадают данные по популярным платформам.*** "
   ]
  },
  {
   "cell_type": "code",
   "execution_count": 21,
   "id": "d4d82f5f-4684-4993-bb54-413670eea473",
   "metadata": {},
   "outputs": [],
   "source": [
    "last_dt = games[games['year_of_release'] >= 2011].sort_values(by='year_of_release')\n",
    "#title='Продажи по платформам'\n",
    "#plt.xlabel('Продажи')\n",
    "#last_df_to_plot = last_dt.groupby('platform')['total_sales']\n",
    "#last_df_to_plot_calculated = last_df_to_plot.sum().sort_values()\n",
    "#last_df_to_plot_calculated.plot(kind='barh', figsize=(15,10), title=title, ec='black', alpha=0.8).legend()"
   ]
  },
  {
   "cell_type": "markdown",
   "id": "78181aa5-1c1a-42e5-8aa5-38c08a1ac79b",
   "metadata": {},
   "source": [
    "<div class=\"alert alert-block alert-info\">\n",
    "<b>Возьмем период с 2011, когда произошло падение после роста и началась новая тенденция.</b>\n",
    "</div>"
   ]
  },
  {
   "cell_type": "code",
   "execution_count": 22,
   "id": "eba89a59-eccc-4fd8-8f5c-7ac03b79d550",
   "metadata": {},
   "outputs": [
    {
     "data": {
      "text/html": [
       "<div>\n",
       "<style scoped>\n",
       "    .dataframe tbody tr th:only-of-type {\n",
       "        vertical-align: middle;\n",
       "    }\n",
       "\n",
       "    .dataframe tbody tr th {\n",
       "        vertical-align: top;\n",
       "    }\n",
       "\n",
       "    .dataframe thead th {\n",
       "        text-align: right;\n",
       "    }\n",
       "</style>\n",
       "<table border=\"1\" class=\"dataframe\">\n",
       "  <thead>\n",
       "    <tr style=\"text-align: right;\">\n",
       "      <th></th>\n",
       "      <th>name</th>\n",
       "      <th>platform</th>\n",
       "      <th>year_of_release</th>\n",
       "      <th>genre</th>\n",
       "      <th>na_sales</th>\n",
       "      <th>eu_sales</th>\n",
       "      <th>jp_sales</th>\n",
       "      <th>other_sales</th>\n",
       "      <th>critic_score</th>\n",
       "      <th>user_score</th>\n",
       "      <th>esrb_rating</th>\n",
       "      <th>total_sales</th>\n",
       "    </tr>\n",
       "  </thead>\n",
       "  <tbody>\n",
       "    <tr>\n",
       "      <th>9576</th>\n",
       "      <td>Sengoku Basara 3 Utage</td>\n",
       "      <td>Wii</td>\n",
       "      <td>2011</td>\n",
       "      <td>Action</td>\n",
       "      <td>0.00</td>\n",
       "      <td>0.00</td>\n",
       "      <td>0.13</td>\n",
       "      <td>0.00</td>\n",
       "      <td>-1.0</td>\n",
       "      <td>-1</td>\n",
       "      <td>NaN</td>\n",
       "      <td>0.13</td>\n",
       "    </tr>\n",
       "    <tr>\n",
       "      <th>5732</th>\n",
       "      <td>Shin Megami Tensei: Devil Survivor 2</td>\n",
       "      <td>DS</td>\n",
       "      <td>2011</td>\n",
       "      <td>Role-Playing</td>\n",
       "      <td>0.16</td>\n",
       "      <td>0.01</td>\n",
       "      <td>0.12</td>\n",
       "      <td>0.01</td>\n",
       "      <td>79.0</td>\n",
       "      <td>8.8</td>\n",
       "      <td>T</td>\n",
       "      <td>0.30</td>\n",
       "    </tr>\n",
       "    <tr>\n",
       "      <th>12326</th>\n",
       "      <td>Pop'n Music Portable 2</td>\n",
       "      <td>PSP</td>\n",
       "      <td>2011</td>\n",
       "      <td>Misc</td>\n",
       "      <td>0.00</td>\n",
       "      <td>0.00</td>\n",
       "      <td>0.06</td>\n",
       "      <td>0.00</td>\n",
       "      <td>-1.0</td>\n",
       "      <td>-1</td>\n",
       "      <td>NaN</td>\n",
       "      <td>0.06</td>\n",
       "    </tr>\n",
       "    <tr>\n",
       "      <th>5728</th>\n",
       "      <td>Bust-A-Move Universe</td>\n",
       "      <td>3DS</td>\n",
       "      <td>2011</td>\n",
       "      <td>Puzzle</td>\n",
       "      <td>0.08</td>\n",
       "      <td>0.15</td>\n",
       "      <td>0.06</td>\n",
       "      <td>0.03</td>\n",
       "      <td>49.0</td>\n",
       "      <td>4.8</td>\n",
       "      <td>E</td>\n",
       "      <td>0.32</td>\n",
       "    </tr>\n",
       "    <tr>\n",
       "      <th>5725</th>\n",
       "      <td>1001 Touch Games</td>\n",
       "      <td>DS</td>\n",
       "      <td>2011</td>\n",
       "      <td>Action</td>\n",
       "      <td>0.11</td>\n",
       "      <td>0.16</td>\n",
       "      <td>0.00</td>\n",
       "      <td>0.04</td>\n",
       "      <td>-1.0</td>\n",
       "      <td>tbd</td>\n",
       "      <td>E</td>\n",
       "      <td>0.31</td>\n",
       "    </tr>\n",
       "    <tr>\n",
       "      <th>...</th>\n",
       "      <td>...</td>\n",
       "      <td>...</td>\n",
       "      <td>...</td>\n",
       "      <td>...</td>\n",
       "      <td>...</td>\n",
       "      <td>...</td>\n",
       "      <td>...</td>\n",
       "      <td>...</td>\n",
       "      <td>...</td>\n",
       "      <td>...</td>\n",
       "      <td>...</td>\n",
       "      <td>...</td>\n",
       "    </tr>\n",
       "    <tr>\n",
       "      <th>7585</th>\n",
       "      <td>Odin Sphere: Leifthrasir</td>\n",
       "      <td>PS4</td>\n",
       "      <td>2016</td>\n",
       "      <td>Role-Playing</td>\n",
       "      <td>0.07</td>\n",
       "      <td>0.04</td>\n",
       "      <td>0.07</td>\n",
       "      <td>0.02</td>\n",
       "      <td>87.0</td>\n",
       "      <td>8.2</td>\n",
       "      <td>T</td>\n",
       "      <td>0.20</td>\n",
       "    </tr>\n",
       "    <tr>\n",
       "      <th>10970</th>\n",
       "      <td>MXGP 2</td>\n",
       "      <td>PS4</td>\n",
       "      <td>2016</td>\n",
       "      <td>Racing</td>\n",
       "      <td>0.02</td>\n",
       "      <td>0.05</td>\n",
       "      <td>0.00</td>\n",
       "      <td>0.01</td>\n",
       "      <td>-1.0</td>\n",
       "      <td>-1</td>\n",
       "      <td>NaN</td>\n",
       "      <td>0.08</td>\n",
       "    </tr>\n",
       "    <tr>\n",
       "      <th>10963</th>\n",
       "      <td>Football Manager 2017</td>\n",
       "      <td>PC</td>\n",
       "      <td>2016</td>\n",
       "      <td>Simulation</td>\n",
       "      <td>0.00</td>\n",
       "      <td>0.09</td>\n",
       "      <td>0.00</td>\n",
       "      <td>0.01</td>\n",
       "      <td>81.0</td>\n",
       "      <td>4.3</td>\n",
       "      <td>E</td>\n",
       "      <td>0.10</td>\n",
       "    </tr>\n",
       "    <tr>\n",
       "      <th>14759</th>\n",
       "      <td>Bus Simulator 16</td>\n",
       "      <td>PC</td>\n",
       "      <td>2016</td>\n",
       "      <td>Simulation</td>\n",
       "      <td>0.00</td>\n",
       "      <td>0.03</td>\n",
       "      <td>0.00</td>\n",
       "      <td>0.00</td>\n",
       "      <td>46.0</td>\n",
       "      <td>6.1</td>\n",
       "      <td>NaN</td>\n",
       "      <td>0.03</td>\n",
       "    </tr>\n",
       "    <tr>\n",
       "      <th>16714</th>\n",
       "      <td>Winning Post 8 2016</td>\n",
       "      <td>PSV</td>\n",
       "      <td>2016</td>\n",
       "      <td>Simulation</td>\n",
       "      <td>0.00</td>\n",
       "      <td>0.00</td>\n",
       "      <td>0.01</td>\n",
       "      <td>0.00</td>\n",
       "      <td>-1.0</td>\n",
       "      <td>-1</td>\n",
       "      <td>NaN</td>\n",
       "      <td>0.01</td>\n",
       "    </tr>\n",
       "  </tbody>\n",
       "</table>\n",
       "<p>4022 rows × 12 columns</p>\n",
       "</div>"
      ],
      "text/plain": [
       "                                       name platform  year_of_release  \\\n",
       "9576                 Sengoku Basara 3 Utage      Wii             2011   \n",
       "5732   Shin Megami Tensei: Devil Survivor 2       DS             2011   \n",
       "12326                Pop'n Music Portable 2      PSP             2011   \n",
       "5728                   Bust-A-Move Universe      3DS             2011   \n",
       "5725                       1001 Touch Games       DS             2011   \n",
       "...                                     ...      ...              ...   \n",
       "7585               Odin Sphere: Leifthrasir      PS4             2016   \n",
       "10970                                MXGP 2      PS4             2016   \n",
       "10963                 Football Manager 2017       PC             2016   \n",
       "14759                      Bus Simulator 16       PC             2016   \n",
       "16714                   Winning Post 8 2016      PSV             2016   \n",
       "\n",
       "              genre  na_sales  eu_sales  jp_sales  other_sales  critic_score  \\\n",
       "9576         Action      0.00      0.00      0.13         0.00          -1.0   \n",
       "5732   Role-Playing      0.16      0.01      0.12         0.01          79.0   \n",
       "12326          Misc      0.00      0.00      0.06         0.00          -1.0   \n",
       "5728         Puzzle      0.08      0.15      0.06         0.03          49.0   \n",
       "5725         Action      0.11      0.16      0.00         0.04          -1.0   \n",
       "...             ...       ...       ...       ...          ...           ...   \n",
       "7585   Role-Playing      0.07      0.04      0.07         0.02          87.0   \n",
       "10970        Racing      0.02      0.05      0.00         0.01          -1.0   \n",
       "10963    Simulation      0.00      0.09      0.00         0.01          81.0   \n",
       "14759    Simulation      0.00      0.03      0.00         0.00          46.0   \n",
       "16714    Simulation      0.00      0.00      0.01         0.00          -1.0   \n",
       "\n",
       "      user_score esrb_rating  total_sales  \n",
       "9576          -1         NaN         0.13  \n",
       "5732         8.8           T         0.30  \n",
       "12326         -1         NaN         0.06  \n",
       "5728         4.8           E         0.32  \n",
       "5725         tbd           E         0.31  \n",
       "...          ...         ...          ...  \n",
       "7585         8.2           T         0.20  \n",
       "10970         -1         NaN         0.08  \n",
       "10963        4.3           E         0.10  \n",
       "14759        6.1         NaN         0.03  \n",
       "16714         -1         NaN         0.01  \n",
       "\n",
       "[4022 rows x 12 columns]"
      ]
     },
     "execution_count": 22,
     "metadata": {},
     "output_type": "execute_result"
    }
   ],
   "source": [
    "last_dt"
   ]
  },
  {
   "cell_type": "markdown",
   "id": "b9ac4d66-ce94-47b8-8d66-f3c36fafe6d2",
   "metadata": {},
   "source": [
    "<h3>Построить \"ящик с усами\" по глобальным продажам игр в разбивке по платформам. Описать результат.</h3>"
   ]
  },
  {
   "cell_type": "code",
   "execution_count": 23,
   "id": "a5438ae1-92be-49e6-a085-6248020838f7",
   "metadata": {},
   "outputs": [
    {
     "data": {
      "text/html": [
       "<div>\n",
       "<style scoped>\n",
       "    .dataframe tbody tr th:only-of-type {\n",
       "        vertical-align: middle;\n",
       "    }\n",
       "\n",
       "    .dataframe tbody tr th {\n",
       "        vertical-align: top;\n",
       "    }\n",
       "\n",
       "    .dataframe thead th {\n",
       "        text-align: right;\n",
       "    }\n",
       "</style>\n",
       "<table border=\"1\" class=\"dataframe\">\n",
       "  <thead>\n",
       "    <tr style=\"text-align: right;\">\n",
       "      <th></th>\n",
       "      <th>year_of_release</th>\n",
       "      <th>na_sales</th>\n",
       "      <th>eu_sales</th>\n",
       "      <th>jp_sales</th>\n",
       "      <th>other_sales</th>\n",
       "      <th>critic_score</th>\n",
       "      <th>total_sales</th>\n",
       "    </tr>\n",
       "  </thead>\n",
       "  <tbody>\n",
       "    <tr>\n",
       "      <th>count</th>\n",
       "      <td>4022.000000</td>\n",
       "      <td>4022.000000</td>\n",
       "      <td>4022.000000</td>\n",
       "      <td>4022.000000</td>\n",
       "      <td>4022.000000</td>\n",
       "      <td>4022.000000</td>\n",
       "      <td>4022.000000</td>\n",
       "    </tr>\n",
       "    <tr>\n",
       "      <th>mean</th>\n",
       "      <td>2013.092989</td>\n",
       "      <td>0.206305</td>\n",
       "      <td>0.166532</td>\n",
       "      <td>0.061077</td>\n",
       "      <td>0.051942</td>\n",
       "      <td>31.561164</td>\n",
       "      <td>0.485855</td>\n",
       "    </tr>\n",
       "    <tr>\n",
       "      <th>std</th>\n",
       "      <td>1.776160</td>\n",
       "      <td>0.570441</td>\n",
       "      <td>0.482864</td>\n",
       "      <td>0.220248</td>\n",
       "      <td>0.155342</td>\n",
       "      <td>37.022542</td>\n",
       "      <td>1.219503</td>\n",
       "    </tr>\n",
       "    <tr>\n",
       "      <th>min</th>\n",
       "      <td>2011.000000</td>\n",
       "      <td>0.000000</td>\n",
       "      <td>0.000000</td>\n",
       "      <td>0.000000</td>\n",
       "      <td>0.000000</td>\n",
       "      <td>-1.000000</td>\n",
       "      <td>0.010000</td>\n",
       "    </tr>\n",
       "    <tr>\n",
       "      <th>25%</th>\n",
       "      <td>2011.000000</td>\n",
       "      <td>0.000000</td>\n",
       "      <td>0.000000</td>\n",
       "      <td>0.000000</td>\n",
       "      <td>0.000000</td>\n",
       "      <td>-1.000000</td>\n",
       "      <td>0.040000</td>\n",
       "    </tr>\n",
       "    <tr>\n",
       "      <th>50%</th>\n",
       "      <td>2013.000000</td>\n",
       "      <td>0.040000</td>\n",
       "      <td>0.030000</td>\n",
       "      <td>0.000000</td>\n",
       "      <td>0.010000</td>\n",
       "      <td>-1.000000</td>\n",
       "      <td>0.130000</td>\n",
       "    </tr>\n",
       "    <tr>\n",
       "      <th>75%</th>\n",
       "      <td>2015.000000</td>\n",
       "      <td>0.170000</td>\n",
       "      <td>0.130000</td>\n",
       "      <td>0.050000</td>\n",
       "      <td>0.040000</td>\n",
       "      <td>72.000000</td>\n",
       "      <td>0.407500</td>\n",
       "    </tr>\n",
       "    <tr>\n",
       "      <th>max</th>\n",
       "      <td>2016.000000</td>\n",
       "      <td>9.660000</td>\n",
       "      <td>9.090000</td>\n",
       "      <td>4.390000</td>\n",
       "      <td>3.960000</td>\n",
       "      <td>97.000000</td>\n",
       "      <td>21.050000</td>\n",
       "    </tr>\n",
       "  </tbody>\n",
       "</table>\n",
       "</div>"
      ],
      "text/plain": [
       "       year_of_release     na_sales     eu_sales     jp_sales  other_sales  \\\n",
       "count      4022.000000  4022.000000  4022.000000  4022.000000  4022.000000   \n",
       "mean       2013.092989     0.206305     0.166532     0.061077     0.051942   \n",
       "std           1.776160     0.570441     0.482864     0.220248     0.155342   \n",
       "min        2011.000000     0.000000     0.000000     0.000000     0.000000   \n",
       "25%        2011.000000     0.000000     0.000000     0.000000     0.000000   \n",
       "50%        2013.000000     0.040000     0.030000     0.000000     0.010000   \n",
       "75%        2015.000000     0.170000     0.130000     0.050000     0.040000   \n",
       "max        2016.000000     9.660000     9.090000     4.390000     3.960000   \n",
       "\n",
       "       critic_score  total_sales  \n",
       "count   4022.000000  4022.000000  \n",
       "mean      31.561164     0.485855  \n",
       "std       37.022542     1.219503  \n",
       "min       -1.000000     0.010000  \n",
       "25%       -1.000000     0.040000  \n",
       "50%       -1.000000     0.130000  \n",
       "75%       72.000000     0.407500  \n",
       "max       97.000000    21.050000  "
      ]
     },
     "execution_count": 23,
     "metadata": {},
     "output_type": "execute_result"
    }
   ],
   "source": [
    "last_dt.describe()"
   ]
  },
  {
   "cell_type": "code",
   "execution_count": 24,
   "id": "07b63a2a-d2ff-4936-9949-40306deee65f",
   "metadata": {},
   "outputs": [
    {
     "data": {
      "text/html": [
       "<div>\n",
       "<style scoped>\n",
       "    .dataframe tbody tr th:only-of-type {\n",
       "        vertical-align: middle;\n",
       "    }\n",
       "\n",
       "    .dataframe tbody tr th {\n",
       "        vertical-align: top;\n",
       "    }\n",
       "\n",
       "    .dataframe thead th {\n",
       "        text-align: right;\n",
       "    }\n",
       "</style>\n",
       "<table border=\"1\" class=\"dataframe\">\n",
       "  <thead>\n",
       "    <tr style=\"text-align: right;\">\n",
       "      <th></th>\n",
       "      <th>name</th>\n",
       "      <th>platform</th>\n",
       "      <th>year_of_release</th>\n",
       "      <th>genre</th>\n",
       "      <th>na_sales</th>\n",
       "      <th>eu_sales</th>\n",
       "      <th>jp_sales</th>\n",
       "      <th>other_sales</th>\n",
       "      <th>critic_score</th>\n",
       "      <th>user_score</th>\n",
       "      <th>esrb_rating</th>\n",
       "      <th>total_sales</th>\n",
       "    </tr>\n",
       "  </thead>\n",
       "  <tbody>\n",
       "    <tr>\n",
       "      <th>9576</th>\n",
       "      <td>Sengoku Basara 3 Utage</td>\n",
       "      <td>Wii</td>\n",
       "      <td>2011</td>\n",
       "      <td>Action</td>\n",
       "      <td>0.00</td>\n",
       "      <td>0.00</td>\n",
       "      <td>0.13</td>\n",
       "      <td>0.00</td>\n",
       "      <td>-1.0</td>\n",
       "      <td>-1</td>\n",
       "      <td>NaN</td>\n",
       "      <td>0.13</td>\n",
       "    </tr>\n",
       "    <tr>\n",
       "      <th>5732</th>\n",
       "      <td>Shin Megami Tensei: Devil Survivor 2</td>\n",
       "      <td>DS</td>\n",
       "      <td>2011</td>\n",
       "      <td>Role-Playing</td>\n",
       "      <td>0.16</td>\n",
       "      <td>0.01</td>\n",
       "      <td>0.12</td>\n",
       "      <td>0.01</td>\n",
       "      <td>79.0</td>\n",
       "      <td>8.8</td>\n",
       "      <td>T</td>\n",
       "      <td>0.30</td>\n",
       "    </tr>\n",
       "    <tr>\n",
       "      <th>12326</th>\n",
       "      <td>Pop'n Music Portable 2</td>\n",
       "      <td>PSP</td>\n",
       "      <td>2011</td>\n",
       "      <td>Misc</td>\n",
       "      <td>0.00</td>\n",
       "      <td>0.00</td>\n",
       "      <td>0.06</td>\n",
       "      <td>0.00</td>\n",
       "      <td>-1.0</td>\n",
       "      <td>-1</td>\n",
       "      <td>NaN</td>\n",
       "      <td>0.06</td>\n",
       "    </tr>\n",
       "    <tr>\n",
       "      <th>5728</th>\n",
       "      <td>Bust-A-Move Universe</td>\n",
       "      <td>3DS</td>\n",
       "      <td>2011</td>\n",
       "      <td>Puzzle</td>\n",
       "      <td>0.08</td>\n",
       "      <td>0.15</td>\n",
       "      <td>0.06</td>\n",
       "      <td>0.03</td>\n",
       "      <td>49.0</td>\n",
       "      <td>4.8</td>\n",
       "      <td>E</td>\n",
       "      <td>0.32</td>\n",
       "    </tr>\n",
       "    <tr>\n",
       "      <th>5725</th>\n",
       "      <td>1001 Touch Games</td>\n",
       "      <td>DS</td>\n",
       "      <td>2011</td>\n",
       "      <td>Action</td>\n",
       "      <td>0.11</td>\n",
       "      <td>0.16</td>\n",
       "      <td>0.00</td>\n",
       "      <td>0.04</td>\n",
       "      <td>-1.0</td>\n",
       "      <td>tbd</td>\n",
       "      <td>E</td>\n",
       "      <td>0.31</td>\n",
       "    </tr>\n",
       "    <tr>\n",
       "      <th>...</th>\n",
       "      <td>...</td>\n",
       "      <td>...</td>\n",
       "      <td>...</td>\n",
       "      <td>...</td>\n",
       "      <td>...</td>\n",
       "      <td>...</td>\n",
       "      <td>...</td>\n",
       "      <td>...</td>\n",
       "      <td>...</td>\n",
       "      <td>...</td>\n",
       "      <td>...</td>\n",
       "      <td>...</td>\n",
       "    </tr>\n",
       "    <tr>\n",
       "      <th>7585</th>\n",
       "      <td>Odin Sphere: Leifthrasir</td>\n",
       "      <td>PS4</td>\n",
       "      <td>2016</td>\n",
       "      <td>Role-Playing</td>\n",
       "      <td>0.07</td>\n",
       "      <td>0.04</td>\n",
       "      <td>0.07</td>\n",
       "      <td>0.02</td>\n",
       "      <td>87.0</td>\n",
       "      <td>8.2</td>\n",
       "      <td>T</td>\n",
       "      <td>0.20</td>\n",
       "    </tr>\n",
       "    <tr>\n",
       "      <th>10970</th>\n",
       "      <td>MXGP 2</td>\n",
       "      <td>PS4</td>\n",
       "      <td>2016</td>\n",
       "      <td>Racing</td>\n",
       "      <td>0.02</td>\n",
       "      <td>0.05</td>\n",
       "      <td>0.00</td>\n",
       "      <td>0.01</td>\n",
       "      <td>-1.0</td>\n",
       "      <td>-1</td>\n",
       "      <td>NaN</td>\n",
       "      <td>0.08</td>\n",
       "    </tr>\n",
       "    <tr>\n",
       "      <th>10963</th>\n",
       "      <td>Football Manager 2017</td>\n",
       "      <td>PC</td>\n",
       "      <td>2016</td>\n",
       "      <td>Simulation</td>\n",
       "      <td>0.00</td>\n",
       "      <td>0.09</td>\n",
       "      <td>0.00</td>\n",
       "      <td>0.01</td>\n",
       "      <td>81.0</td>\n",
       "      <td>4.3</td>\n",
       "      <td>E</td>\n",
       "      <td>0.10</td>\n",
       "    </tr>\n",
       "    <tr>\n",
       "      <th>14759</th>\n",
       "      <td>Bus Simulator 16</td>\n",
       "      <td>PC</td>\n",
       "      <td>2016</td>\n",
       "      <td>Simulation</td>\n",
       "      <td>0.00</td>\n",
       "      <td>0.03</td>\n",
       "      <td>0.00</td>\n",
       "      <td>0.00</td>\n",
       "      <td>46.0</td>\n",
       "      <td>6.1</td>\n",
       "      <td>NaN</td>\n",
       "      <td>0.03</td>\n",
       "    </tr>\n",
       "    <tr>\n",
       "      <th>16714</th>\n",
       "      <td>Winning Post 8 2016</td>\n",
       "      <td>PSV</td>\n",
       "      <td>2016</td>\n",
       "      <td>Simulation</td>\n",
       "      <td>0.00</td>\n",
       "      <td>0.00</td>\n",
       "      <td>0.01</td>\n",
       "      <td>0.00</td>\n",
       "      <td>-1.0</td>\n",
       "      <td>-1</td>\n",
       "      <td>NaN</td>\n",
       "      <td>0.01</td>\n",
       "    </tr>\n",
       "  </tbody>\n",
       "</table>\n",
       "<p>4022 rows × 12 columns</p>\n",
       "</div>"
      ],
      "text/plain": [
       "                                       name platform  year_of_release  \\\n",
       "9576                 Sengoku Basara 3 Utage      Wii             2011   \n",
       "5732   Shin Megami Tensei: Devil Survivor 2       DS             2011   \n",
       "12326                Pop'n Music Portable 2      PSP             2011   \n",
       "5728                   Bust-A-Move Universe      3DS             2011   \n",
       "5725                       1001 Touch Games       DS             2011   \n",
       "...                                     ...      ...              ...   \n",
       "7585               Odin Sphere: Leifthrasir      PS4             2016   \n",
       "10970                                MXGP 2      PS4             2016   \n",
       "10963                 Football Manager 2017       PC             2016   \n",
       "14759                      Bus Simulator 16       PC             2016   \n",
       "16714                   Winning Post 8 2016      PSV             2016   \n",
       "\n",
       "              genre  na_sales  eu_sales  jp_sales  other_sales  critic_score  \\\n",
       "9576         Action      0.00      0.00      0.13         0.00          -1.0   \n",
       "5732   Role-Playing      0.16      0.01      0.12         0.01          79.0   \n",
       "12326          Misc      0.00      0.00      0.06         0.00          -1.0   \n",
       "5728         Puzzle      0.08      0.15      0.06         0.03          49.0   \n",
       "5725         Action      0.11      0.16      0.00         0.04          -1.0   \n",
       "...             ...       ...       ...       ...          ...           ...   \n",
       "7585   Role-Playing      0.07      0.04      0.07         0.02          87.0   \n",
       "10970        Racing      0.02      0.05      0.00         0.01          -1.0   \n",
       "10963    Simulation      0.00      0.09      0.00         0.01          81.0   \n",
       "14759    Simulation      0.00      0.03      0.00         0.00          46.0   \n",
       "16714    Simulation      0.00      0.00      0.01         0.00          -1.0   \n",
       "\n",
       "      user_score esrb_rating  total_sales  \n",
       "9576          -1         NaN         0.13  \n",
       "5732         8.8           T         0.30  \n",
       "12326         -1         NaN         0.06  \n",
       "5728         4.8           E         0.32  \n",
       "5725         tbd           E         0.31  \n",
       "...          ...         ...          ...  \n",
       "7585         8.2           T         0.20  \n",
       "10970         -1         NaN         0.08  \n",
       "10963        4.3           E         0.10  \n",
       "14759        6.1         NaN         0.03  \n",
       "16714         -1         NaN         0.01  \n",
       "\n",
       "[4022 rows x 12 columns]"
      ]
     },
     "execution_count": 24,
     "metadata": {},
     "output_type": "execute_result"
    }
   ],
   "source": [
    "last_dt"
   ]
  },
  {
   "cell_type": "code",
   "execution_count": 25,
   "id": "e9776e7a-8347-4cea-9828-d66268c7857b",
   "metadata": {},
   "outputs": [
    {
     "data": {
      "image/png": "[encoded data removed]",
      "text/plain": [
       "<Figure size 1800x720 with 1 Axes>"
      ]
     },
     "metadata": {
      "needs_background": "light"
     },
     "output_type": "display_data"
    }
   ],
   "source": [
    "#Boxplot по глобальным продажам игр.\n",
    "plot = last_dt.boxplot('total_sales', fontsize=20, figsize=(25,10)).set_ylim(0, 2.5) "
   ]
  },
  {
   "cell_type": "markdown",
   "id": "4e0525fb-22c0-4f9e-9e33-c229bc81343c",
   "metadata": {},
   "source": [
    "***Среднее значение по продажам до 1,2 млн долларов. Медиана - 0,2 миллиона долларов.***"
   ]
  },
  {
   "cell_type": "code",
   "execution_count": 26,
   "id": "abeadb11-171e-4ce7-bc42-7109037fce9f",
   "metadata": {},
   "outputs": [
    {
     "data": {
      "image/png": "[encoded data removed]",
      "text/plain": [
       "<Figure size 1800x720 with 1 Axes>"
      ]
     },
     "metadata": {
      "needs_background": "light"
     },
     "output_type": "display_data"
    }
   ],
   "source": [
    "#Boxplot для DS\n",
    "ds_plt = last_dt.query('platform == \"PS2\"')\n",
    "plot_1 = ds_plt.boxplot('total_sales', fontsize=20, figsize=(25,10)).set_ylim(0, 2.5)"
   ]
  },
  {
   "cell_type": "code",
   "execution_count": 27,
   "id": "ea5bbcaa-d5ec-4324-9cea-e0732e3d849b",
   "metadata": {},
   "outputs": [
    {
     "data": {
      "image/png": "[encoded data removed]",
      "text/plain": [
       "<Figure size 1800x720 with 1 Axes>"
      ]
     },
     "metadata": {
      "needs_background": "light"
     },
     "output_type": "display_data"
    }
   ],
   "source": [
    "#Boxplot для PS3\n",
    "ps3_plt = last_dt.query('platform == \"PS3\"')\n",
    "plot_2 = ps3_plt.boxplot('total_sales', fontsize=20, figsize=(25,10)).set_ylim(0, 2.5)"
   ]
  },
  {
   "cell_type": "code",
   "execution_count": 28,
   "id": "3d83638b-7c97-42ba-a2ff-0a7a90bffa27",
   "metadata": {},
   "outputs": [
    {
     "data": {
      "image/png": "[encoded data removed]",
      "text/plain": [
       "<Figure size 1800x720 with 1 Axes>"
      ]
     },
     "metadata": {
      "needs_background": "light"
     },
     "output_type": "display_data"
    }
   ],
   "source": [
    "#Boxplot для X360\n",
    "x360_plt = last_dt.query('platform == \"X360\"')\n",
    "plot_3 = x360_plt.boxplot('total_sales', fontsize=20, figsize=(25,10)).set_ylim(0, 2.5)"
   ]
  },
  {
   "cell_type": "markdown",
   "id": "f38786ce-4867-4039-9e7f-7663787a1ed2",
   "metadata": {},
   "source": [
    "***Медиана по топовым платформам варьируется от 0,2 до 0,25 млн долларов прибыли за игру.\n",
    "Верхняя граница предела, за которыми уже определяются аномалии, у двух платформ - PS3 и X360 - на уровне 1,7 млн долларов.\n",
    "У остальных - от 1 до 1,5 миллионов долларов.\n",
    "Среди всех выделяется Nintendo DS - у него эти показатели сильное ниже. Медиана < 0,1 миллиона долларов, верхняя граница - 0,6 млн.***"
   ]
  },
  {
   "cell_type": "code",
   "execution_count": 29,
   "id": "dc341266-37f1-4a22-9c3a-be3f6486d9e0",
   "metadata": {},
   "outputs": [
    {
     "data": {
      "image/png": "[encoded data removed]",
      "text/plain": [
       "<Figure size 1800x720 with 1 Axes>"
      ]
     },
     "metadata": {
      "needs_background": "light"
     },
     "output_type": "display_data"
    }
   ],
   "source": [
    "title='boxplot по top-платформам'\n",
    "top_platforms = ['PS2', 'X360', 'PS3', 'Wii', 'DS', 'PS']\n",
    "df_query = last_dt.query(\"platform in @top_platforms\")\n",
    "x1 =df_query.boxplot(column='total_sales', by='platform', fontsize=30, figsize=(25,10)).set_ylim(0,3)"
   ]
  },
  {
   "cell_type": "markdown",
   "id": "665d5533-3b5c-40fa-982e-41e022d54d5a",
   "metadata": {},
   "source": [
    "<h3>Посмотрим как влияют отзывы пользователей и критиков на продажи внутри одной платформы</h3>"
   ]
  },
  {
   "cell_type": "markdown",
   "id": "9aa9819c-29d1-4892-8093-8bd4e1dc172a",
   "metadata": {},
   "source": [
    "Считать будем на PS3.\n",
    "\n",
    "* отзывы от пользователей\n",
    "* отзывы от критиков<br>\n",
    "Оценить корреляцию между оценками критиков и пользовательскими оценками"
   ]
  },
  {
   "cell_type": "code",
   "execution_count": 30,
   "id": "6e642bc5-70e0-417e-bbb9-485e04af107a",
   "metadata": {},
   "outputs": [],
   "source": [
    "#продажи/отзывы критиков\n",
    "games_ps3 = games[(games['platform'] == 'PS3') & (games['critic_score'] > 0)].copy()"
   ]
  },
  {
   "cell_type": "code",
   "execution_count": 31,
   "id": "3d828838-5806-47bc-ab17-c3e9deb4c29e",
   "metadata": {},
   "outputs": [
    {
     "data": {
      "text/plain": [
       "<AxesSubplot:xlabel='critic_score', ylabel='total_sales'>"
      ]
     },
     "execution_count": 31,
     "metadata": {},
     "output_type": "execute_result"
    },
    {
     "data": {
      "image/png": "[encoded data removed]",
      "text/plain": [
       "<Figure size 720x432 with 1 Axes>"
      ]
     },
     "metadata": {
      "needs_background": "light"
     },
     "output_type": "display_data"
    }
   ],
   "source": [
    "from matplotlib.axes._axes import _log as matplotlib_axes_logger\n",
    "matplotlib_axes_logger.setLevel('ERROR')\n",
    "\n",
    "critic_ps3 = games[(games['platform'] == 'PS3') & (games['critic_score'] > 0)].copy()\n",
    "critic_ps3.plot(kind='scatter', x='critic_score', y='total_sales', figsize=(10,6))"
   ]
  },
  {
   "cell_type": "markdown",
   "id": "23de95bd-6168-4cfd-8d44-1ab6934f5a86",
   "metadata": {},
   "source": [
    "***Рейтинг критиков оказывает влияние на продажи! Продажи увеличиваются с увеличением рейтингов критиков.***\n"
   ]
  },
  {
   "cell_type": "code",
   "execution_count": 32,
   "id": "bcb47ca4-0460-4918-8a4a-338c83e86b6e",
   "metadata": {},
   "outputs": [],
   "source": [
    "#продажи/отзывы пользователей\n",
    "#user_ps3 = games[(games['platform'] == 'PS3') & (games['user_score'] > 0)].copy()\n",
    "#user_ps3.plot(kind='scatter', x='user_score', y='total_sales', figsize=(10,6))"
   ]
  },
  {
   "cell_type": "markdown",
   "id": "d47413fb-ca89-421d-a34e-6165fc8ac8ac",
   "metadata": {},
   "source": [
    "***Зависимость сохраняется. Чуть больше выбивающихся значений***"
   ]
  },
  {
   "cell_type": "code",
   "execution_count": 33,
   "id": "fe9a272a-1319-4813-9efa-ff3d41f4336f",
   "metadata": {},
   "outputs": [],
   "source": [
    "#проверим корреляцией, убираем маркеры\n",
    "critic_score = games[games['critic_score'] != -1]\n",
    "user_score = games[games['user_score'] != -1]"
   ]
  },
  {
   "cell_type": "code",
   "execution_count": 34,
   "id": "4d2811a7-7b51-4bf8-9fe9-8505ab59dad9",
   "metadata": {},
   "outputs": [],
   "source": [
    "corr_df = pd.DataFrame()\n",
    "corr_df['critic_score'] = critic_score['critic_score']\n",
    "corr_df['user_score'] = user_score['user_score']\n",
    "#corr_df"
   ]
  },
  {
   "cell_type": "code",
   "execution_count": 35,
   "id": "99427934-6631-466e-bbf0-9a4e25e99e88",
   "metadata": {},
   "outputs": [
    {
     "data": {
      "text/html": [
       "<div>\n",
       "<style scoped>\n",
       "    .dataframe tbody tr th:only-of-type {\n",
       "        vertical-align: middle;\n",
       "    }\n",
       "\n",
       "    .dataframe tbody tr th {\n",
       "        vertical-align: top;\n",
       "    }\n",
       "\n",
       "    .dataframe thead th {\n",
       "        text-align: right;\n",
       "    }\n",
       "</style>\n",
       "<table border=\"1\" class=\"dataframe\">\n",
       "  <thead>\n",
       "    <tr style=\"text-align: right;\">\n",
       "      <th></th>\n",
       "      <th>critic_score</th>\n",
       "    </tr>\n",
       "  </thead>\n",
       "  <tbody>\n",
       "    <tr>\n",
       "      <th>critic_score</th>\n",
       "      <td>1.0</td>\n",
       "    </tr>\n",
       "  </tbody>\n",
       "</table>\n",
       "</div>"
      ],
      "text/plain": [
       "              critic_score\n",
       "critic_score           1.0"
      ]
     },
     "execution_count": 35,
     "metadata": {},
     "output_type": "execute_result"
    }
   ],
   "source": [
    "corr = corr_df[['critic_score', 'user_score']].corr()\n",
    "corr"
   ]
  },
  {
   "cell_type": "markdown",
   "id": "398d04fd-05d7-4b65-850a-22bfe63a6e3f",
   "metadata": {},
   "source": [
    "***Зависимость подтвердилась. Зависимость продаж от отзывов критиков сильнее чем от отзывов игроков***"
   ]
  },
  {
   "cell_type": "markdown",
   "id": "4ff47ad7-47fa-4c06-a2bc-050d1eddd5b5",
   "metadata": {},
   "source": [
    "<div class=\"alert alert-block alert-info\">Проверим для X360 и Wii"
   ]
  },
  {
   "cell_type": "code",
   "execution_count": 36,
   "id": "3c35e377-fa62-42d7-b6de-95def91dca0d",
   "metadata": {},
   "outputs": [
    {
     "ename": "TypeError",
     "evalue": "'>' not supported between instances of 'str' and 'int'",
     "output_type": "error",
     "traceback": [
      "\u001b[1;31m---------------------------------------------------------------------------\u001b[0m",
      "\u001b[1;31mTypeError\u001b[0m                                 Traceback (most recent call last)",
      "Input \u001b[1;32mIn [36]\u001b[0m, in \u001b[0;36m<cell line: 7>\u001b[1;34m()\u001b[0m\n\u001b[0;32m      5\u001b[0m critic_X360 \u001b[38;5;241m=\u001b[39m games[(games[\u001b[38;5;124m'\u001b[39m\u001b[38;5;124mplatform\u001b[39m\u001b[38;5;124m'\u001b[39m] \u001b[38;5;241m==\u001b[39m \u001b[38;5;124m'\u001b[39m\u001b[38;5;124mX360\u001b[39m\u001b[38;5;124m'\u001b[39m) \u001b[38;5;241m&\u001b[39m (games[\u001b[38;5;124m'\u001b[39m\u001b[38;5;124mcritic_score\u001b[39m\u001b[38;5;124m'\u001b[39m] \u001b[38;5;241m>\u001b[39m \u001b[38;5;241m0\u001b[39m)]\u001b[38;5;241m.\u001b[39mcopy()\n\u001b[0;32m      6\u001b[0m critic_X360\u001b[38;5;241m.\u001b[39mplot(kind\u001b[38;5;241m=\u001b[39m\u001b[38;5;124m'\u001b[39m\u001b[38;5;124mscatter\u001b[39m\u001b[38;5;124m'\u001b[39m, x\u001b[38;5;241m=\u001b[39m\u001b[38;5;124m'\u001b[39m\u001b[38;5;124mcritic_score\u001b[39m\u001b[38;5;124m'\u001b[39m, y\u001b[38;5;241m=\u001b[39m\u001b[38;5;124m'\u001b[39m\u001b[38;5;124mtotal_sales\u001b[39m\u001b[38;5;124m'\u001b[39m, figsize\u001b[38;5;241m=\u001b[39m(\u001b[38;5;241m10\u001b[39m,\u001b[38;5;241m6\u001b[39m))\n\u001b[1;32m----> 7\u001b[0m user_X360 \u001b[38;5;241m=\u001b[39m games[(games[\u001b[38;5;124m'\u001b[39m\u001b[38;5;124mplatform\u001b[39m\u001b[38;5;124m'\u001b[39m] \u001b[38;5;241m==\u001b[39m \u001b[38;5;124m'\u001b[39m\u001b[38;5;124mX360\u001b[39m\u001b[38;5;124m'\u001b[39m) \u001b[38;5;241m&\u001b[39m (\u001b[43mgames\u001b[49m\u001b[43m[\u001b[49m\u001b[38;5;124;43m'\u001b[39;49m\u001b[38;5;124;43muser_score\u001b[39;49m\u001b[38;5;124;43m'\u001b[39;49m\u001b[43m]\u001b[49m\u001b[43m \u001b[49m\u001b[38;5;241;43m>\u001b[39;49m\u001b[43m \u001b[49m\u001b[38;5;241;43m0\u001b[39;49m)]\u001b[38;5;241m.\u001b[39mcopy()\n\u001b[0;32m      8\u001b[0m user_X360\u001b[38;5;241m.\u001b[39mplot(kind\u001b[38;5;241m=\u001b[39m\u001b[38;5;124m'\u001b[39m\u001b[38;5;124mscatter\u001b[39m\u001b[38;5;124m'\u001b[39m, x\u001b[38;5;241m=\u001b[39m\u001b[38;5;124m'\u001b[39m\u001b[38;5;124muser_score\u001b[39m\u001b[38;5;124m'\u001b[39m, y\u001b[38;5;241m=\u001b[39m\u001b[38;5;124m'\u001b[39m\u001b[38;5;124mtotal_sales\u001b[39m\u001b[38;5;124m'\u001b[39m, figsize\u001b[38;5;241m=\u001b[39m(\u001b[38;5;241m10\u001b[39m,\u001b[38;5;241m6\u001b[39m))\n",
      "File \u001b[1;32m~\\AppData\\Roaming\\Python\\Python39\\site-packages\\pandas\\core\\ops\\common.py:65\u001b[0m, in \u001b[0;36m_unpack_zerodim_and_defer.<locals>.new_method\u001b[1;34m(self, other)\u001b[0m\n\u001b[0;32m     61\u001b[0m             \u001b[38;5;28;01mreturn\u001b[39;00m \u001b[38;5;28mNotImplemented\u001b[39m\n\u001b[0;32m     63\u001b[0m other \u001b[38;5;241m=\u001b[39m item_from_zerodim(other)\n\u001b[1;32m---> 65\u001b[0m \u001b[38;5;28;01mreturn\u001b[39;00m \u001b[43mmethod\u001b[49m\u001b[43m(\u001b[49m\u001b[38;5;28;43mself\u001b[39;49m\u001b[43m,\u001b[49m\u001b[43m \u001b[49m\u001b[43mother\u001b[49m\u001b[43m)\u001b[49m\n",
      "File \u001b[1;32m~\\AppData\\Roaming\\Python\\Python39\\site-packages\\pandas\\core\\ops\\__init__.py:370\u001b[0m, in \u001b[0;36m_comp_method_SERIES.<locals>.wrapper\u001b[1;34m(self, other)\u001b[0m\n\u001b[0;32m    367\u001b[0m lvalues \u001b[38;5;241m=\u001b[39m extract_array(\u001b[38;5;28mself\u001b[39m, extract_numpy\u001b[38;5;241m=\u001b[39m\u001b[38;5;28;01mTrue\u001b[39;00m)\n\u001b[0;32m    368\u001b[0m rvalues \u001b[38;5;241m=\u001b[39m extract_array(other, extract_numpy\u001b[38;5;241m=\u001b[39m\u001b[38;5;28;01mTrue\u001b[39;00m)\n\u001b[1;32m--> 370\u001b[0m res_values \u001b[38;5;241m=\u001b[39m \u001b[43mcomparison_op\u001b[49m\u001b[43m(\u001b[49m\u001b[43mlvalues\u001b[49m\u001b[43m,\u001b[49m\u001b[43m \u001b[49m\u001b[43mrvalues\u001b[49m\u001b[43m,\u001b[49m\u001b[43m \u001b[49m\u001b[43mop\u001b[49m\u001b[43m)\u001b[49m\n\u001b[0;32m    372\u001b[0m \u001b[38;5;28;01mreturn\u001b[39;00m \u001b[38;5;28mself\u001b[39m\u001b[38;5;241m.\u001b[39m_construct_result(res_values, name\u001b[38;5;241m=\u001b[39mres_name)\n",
      "File \u001b[1;32m~\\AppData\\Roaming\\Python\\Python39\\site-packages\\pandas\\core\\ops\\array_ops.py:244\u001b[0m, in \u001b[0;36mcomparison_op\u001b[1;34m(left, right, op)\u001b[0m\n\u001b[0;32m    241\u001b[0m     \u001b[38;5;28;01mreturn\u001b[39;00m invalid_comparison(lvalues, rvalues, op)\n\u001b[0;32m    243\u001b[0m \u001b[38;5;28;01melif\u001b[39;00m is_object_dtype(lvalues\u001b[38;5;241m.\u001b[39mdtype):\n\u001b[1;32m--> 244\u001b[0m     res_values \u001b[38;5;241m=\u001b[39m \u001b[43mcomp_method_OBJECT_ARRAY\u001b[49m\u001b[43m(\u001b[49m\u001b[43mop\u001b[49m\u001b[43m,\u001b[49m\u001b[43m \u001b[49m\u001b[43mlvalues\u001b[49m\u001b[43m,\u001b[49m\u001b[43m \u001b[49m\u001b[43mrvalues\u001b[49m\u001b[43m)\u001b[49m\n\u001b[0;32m    246\u001b[0m \u001b[38;5;28;01melse\u001b[39;00m:\n\u001b[0;32m    247\u001b[0m     \u001b[38;5;28;01mwith\u001b[39;00m warnings\u001b[38;5;241m.\u001b[39mcatch_warnings():\n\u001b[0;32m    248\u001b[0m         \u001b[38;5;66;03m# suppress warnings from numpy about element-wise comparison\u001b[39;00m\n",
      "File \u001b[1;32m~\\AppData\\Roaming\\Python\\Python39\\site-packages\\pandas\\core\\ops\\array_ops.py:56\u001b[0m, in \u001b[0;36mcomp_method_OBJECT_ARRAY\u001b[1;34m(op, x, y)\u001b[0m\n\u001b[0;32m     54\u001b[0m     result \u001b[38;5;241m=\u001b[39m libops\u001b[38;5;241m.\u001b[39mvec_compare(x\u001b[38;5;241m.\u001b[39mravel(), y\u001b[38;5;241m.\u001b[39mravel(), op)\n\u001b[0;32m     55\u001b[0m \u001b[38;5;28;01melse\u001b[39;00m:\n\u001b[1;32m---> 56\u001b[0m     result \u001b[38;5;241m=\u001b[39m \u001b[43mlibops\u001b[49m\u001b[38;5;241;43m.\u001b[39;49m\u001b[43mscalar_compare\u001b[49m\u001b[43m(\u001b[49m\u001b[43mx\u001b[49m\u001b[38;5;241;43m.\u001b[39;49m\u001b[43mravel\u001b[49m\u001b[43m(\u001b[49m\u001b[43m)\u001b[49m\u001b[43m,\u001b[49m\u001b[43m \u001b[49m\u001b[43my\u001b[49m\u001b[43m,\u001b[49m\u001b[43m \u001b[49m\u001b[43mop\u001b[49m\u001b[43m)\u001b[49m\n\u001b[0;32m     57\u001b[0m \u001b[38;5;28;01mreturn\u001b[39;00m result\u001b[38;5;241m.\u001b[39mreshape(x\u001b[38;5;241m.\u001b[39mshape)\n",
      "File \u001b[1;32m~\\anaconda3\\lib\\site-packages\\pandas\\_libs\\ops.pyx:103\u001b[0m, in \u001b[0;36mpandas._libs.ops.scalar_compare\u001b[1;34m()\u001b[0m\n",
      "\u001b[1;31mTypeError\u001b[0m: '>' not supported between instances of 'str' and 'int'"
     ]
    },
    {
     "data": {
      "image/png": "[encoded data removed]",
      "text/plain": [
       "<Figure size 720x432 with 1 Axes>"
      ]
     },
     "metadata": {
      "needs_background": "light"
     },
     "output_type": "display_data"
    }
   ],
   "source": [
    "games_X360 = games[(games['platform'] == 'X360') & (games['critic_score'] > 0)].copy()\n",
    "from matplotlib.axes._axes import _log as matplotlib_axes_logger\n",
    "matplotlib_axes_logger.setLevel('ERROR')\n",
    "\n",
    "critic_X360 = games[(games['platform'] == 'X360') & (games['critic_score'] > 0)].copy()\n",
    "critic_X360.plot(kind='scatter', x='critic_score', y='total_sales', figsize=(10,6))\n",
    "user_X360 = games[(games['platform'] == 'X360') & (games['user_score'] > 0)].copy()\n",
    "user_X360.plot(kind='scatter', x='user_score', y='total_sales', figsize=(10,6))"
   ]
  },
  {
   "cell_type": "code",
   "execution_count": 37,
   "id": "0bf37831-036f-4470-8fef-2aa8a9999714",
   "metadata": {},
   "outputs": [
    {
     "ename": "TypeError",
     "evalue": "'>' not supported between instances of 'str' and 'int'",
     "output_type": "error",
     "traceback": [
      "\u001b[1;31m---------------------------------------------------------------------------\u001b[0m",
      "\u001b[1;31mTypeError\u001b[0m                                 Traceback (most recent call last)",
      "Input \u001b[1;32mIn [37]\u001b[0m, in \u001b[0;36m<cell line: 7>\u001b[1;34m()\u001b[0m\n\u001b[0;32m      5\u001b[0m critic_Wii \u001b[38;5;241m=\u001b[39m games[(games[\u001b[38;5;124m'\u001b[39m\u001b[38;5;124mplatform\u001b[39m\u001b[38;5;124m'\u001b[39m] \u001b[38;5;241m==\u001b[39m \u001b[38;5;124m'\u001b[39m\u001b[38;5;124mWii\u001b[39m\u001b[38;5;124m'\u001b[39m) \u001b[38;5;241m&\u001b[39m (games[\u001b[38;5;124m'\u001b[39m\u001b[38;5;124mcritic_score\u001b[39m\u001b[38;5;124m'\u001b[39m] \u001b[38;5;241m>\u001b[39m \u001b[38;5;241m0\u001b[39m)]\u001b[38;5;241m.\u001b[39mcopy()\n\u001b[0;32m      6\u001b[0m critic_Wii\u001b[38;5;241m.\u001b[39mplot(kind\u001b[38;5;241m=\u001b[39m\u001b[38;5;124m'\u001b[39m\u001b[38;5;124mscatter\u001b[39m\u001b[38;5;124m'\u001b[39m, x\u001b[38;5;241m=\u001b[39m\u001b[38;5;124m'\u001b[39m\u001b[38;5;124mcritic_score\u001b[39m\u001b[38;5;124m'\u001b[39m, y\u001b[38;5;241m=\u001b[39m\u001b[38;5;124m'\u001b[39m\u001b[38;5;124mtotal_sales\u001b[39m\u001b[38;5;124m'\u001b[39m, figsize\u001b[38;5;241m=\u001b[39m(\u001b[38;5;241m10\u001b[39m,\u001b[38;5;241m6\u001b[39m))\n\u001b[1;32m----> 7\u001b[0m user_Wii \u001b[38;5;241m=\u001b[39m games[(games[\u001b[38;5;124m'\u001b[39m\u001b[38;5;124mplatform\u001b[39m\u001b[38;5;124m'\u001b[39m] \u001b[38;5;241m==\u001b[39m \u001b[38;5;124m'\u001b[39m\u001b[38;5;124mWii\u001b[39m\u001b[38;5;124m'\u001b[39m) \u001b[38;5;241m&\u001b[39m (\u001b[43mgames\u001b[49m\u001b[43m[\u001b[49m\u001b[38;5;124;43m'\u001b[39;49m\u001b[38;5;124;43muser_score\u001b[39;49m\u001b[38;5;124;43m'\u001b[39;49m\u001b[43m]\u001b[49m\u001b[43m \u001b[49m\u001b[38;5;241;43m>\u001b[39;49m\u001b[43m \u001b[49m\u001b[38;5;241;43m0\u001b[39;49m)]\u001b[38;5;241m.\u001b[39mcopy()\n\u001b[0;32m      8\u001b[0m user_Wii\u001b[38;5;241m.\u001b[39mplot(kind\u001b[38;5;241m=\u001b[39m\u001b[38;5;124m'\u001b[39m\u001b[38;5;124mscatter\u001b[39m\u001b[38;5;124m'\u001b[39m, x\u001b[38;5;241m=\u001b[39m\u001b[38;5;124m'\u001b[39m\u001b[38;5;124muser_score\u001b[39m\u001b[38;5;124m'\u001b[39m, y\u001b[38;5;241m=\u001b[39m\u001b[38;5;124m'\u001b[39m\u001b[38;5;124mtotal_sales\u001b[39m\u001b[38;5;124m'\u001b[39m, figsize\u001b[38;5;241m=\u001b[39m(\u001b[38;5;241m10\u001b[39m,\u001b[38;5;241m6\u001b[39m))\n",
      "File \u001b[1;32m~\\AppData\\Roaming\\Python\\Python39\\site-packages\\pandas\\core\\ops\\common.py:65\u001b[0m, in \u001b[0;36m_unpack_zerodim_and_defer.<locals>.new_method\u001b[1;34m(self, other)\u001b[0m\n\u001b[0;32m     61\u001b[0m             \u001b[38;5;28;01mreturn\u001b[39;00m \u001b[38;5;28mNotImplemented\u001b[39m\n\u001b[0;32m     63\u001b[0m other \u001b[38;5;241m=\u001b[39m item_from_zerodim(other)\n\u001b[1;32m---> 65\u001b[0m \u001b[38;5;28;01mreturn\u001b[39;00m \u001b[43mmethod\u001b[49m\u001b[43m(\u001b[49m\u001b[38;5;28;43mself\u001b[39;49m\u001b[43m,\u001b[49m\u001b[43m \u001b[49m\u001b[43mother\u001b[49m\u001b[43m)\u001b[49m\n",
      "File \u001b[1;32m~\\AppData\\Roaming\\Python\\Python39\\site-packages\\pandas\\core\\ops\\__init__.py:370\u001b[0m, in \u001b[0;36m_comp_method_SERIES.<locals>.wrapper\u001b[1;34m(self, other)\u001b[0m\n\u001b[0;32m    367\u001b[0m lvalues \u001b[38;5;241m=\u001b[39m extract_array(\u001b[38;5;28mself\u001b[39m, extract_numpy\u001b[38;5;241m=\u001b[39m\u001b[38;5;28;01mTrue\u001b[39;00m)\n\u001b[0;32m    368\u001b[0m rvalues \u001b[38;5;241m=\u001b[39m extract_array(other, extract_numpy\u001b[38;5;241m=\u001b[39m\u001b[38;5;28;01mTrue\u001b[39;00m)\n\u001b[1;32m--> 370\u001b[0m res_values \u001b[38;5;241m=\u001b[39m \u001b[43mcomparison_op\u001b[49m\u001b[43m(\u001b[49m\u001b[43mlvalues\u001b[49m\u001b[43m,\u001b[49m\u001b[43m \u001b[49m\u001b[43mrvalues\u001b[49m\u001b[43m,\u001b[49m\u001b[43m \u001b[49m\u001b[43mop\u001b[49m\u001b[43m)\u001b[49m\n\u001b[0;32m    372\u001b[0m \u001b[38;5;28;01mreturn\u001b[39;00m \u001b[38;5;28mself\u001b[39m\u001b[38;5;241m.\u001b[39m_construct_result(res_values, name\u001b[38;5;241m=\u001b[39mres_name)\n",
      "File \u001b[1;32m~\\AppData\\Roaming\\Python\\Python39\\site-packages\\pandas\\core\\ops\\array_ops.py:244\u001b[0m, in \u001b[0;36mcomparison_op\u001b[1;34m(left, right, op)\u001b[0m\n\u001b[0;32m    241\u001b[0m     \u001b[38;5;28;01mreturn\u001b[39;00m invalid_comparison(lvalues, rvalues, op)\n\u001b[0;32m    243\u001b[0m \u001b[38;5;28;01melif\u001b[39;00m is_object_dtype(lvalues\u001b[38;5;241m.\u001b[39mdtype):\n\u001b[1;32m--> 244\u001b[0m     res_values \u001b[38;5;241m=\u001b[39m \u001b[43mcomp_method_OBJECT_ARRAY\u001b[49m\u001b[43m(\u001b[49m\u001b[43mop\u001b[49m\u001b[43m,\u001b[49m\u001b[43m \u001b[49m\u001b[43mlvalues\u001b[49m\u001b[43m,\u001b[49m\u001b[43m \u001b[49m\u001b[43mrvalues\u001b[49m\u001b[43m)\u001b[49m\n\u001b[0;32m    246\u001b[0m \u001b[38;5;28;01melse\u001b[39;00m:\n\u001b[0;32m    247\u001b[0m     \u001b[38;5;28;01mwith\u001b[39;00m warnings\u001b[38;5;241m.\u001b[39mcatch_warnings():\n\u001b[0;32m    248\u001b[0m         \u001b[38;5;66;03m# suppress warnings from numpy about element-wise comparison\u001b[39;00m\n",
      "File \u001b[1;32m~\\AppData\\Roaming\\Python\\Python39\\site-packages\\pandas\\core\\ops\\array_ops.py:56\u001b[0m, in \u001b[0;36mcomp_method_OBJECT_ARRAY\u001b[1;34m(op, x, y)\u001b[0m\n\u001b[0;32m     54\u001b[0m     result \u001b[38;5;241m=\u001b[39m libops\u001b[38;5;241m.\u001b[39mvec_compare(x\u001b[38;5;241m.\u001b[39mravel(), y\u001b[38;5;241m.\u001b[39mravel(), op)\n\u001b[0;32m     55\u001b[0m \u001b[38;5;28;01melse\u001b[39;00m:\n\u001b[1;32m---> 56\u001b[0m     result \u001b[38;5;241m=\u001b[39m \u001b[43mlibops\u001b[49m\u001b[38;5;241;43m.\u001b[39;49m\u001b[43mscalar_compare\u001b[49m\u001b[43m(\u001b[49m\u001b[43mx\u001b[49m\u001b[38;5;241;43m.\u001b[39;49m\u001b[43mravel\u001b[49m\u001b[43m(\u001b[49m\u001b[43m)\u001b[49m\u001b[43m,\u001b[49m\u001b[43m \u001b[49m\u001b[43my\u001b[49m\u001b[43m,\u001b[49m\u001b[43m \u001b[49m\u001b[43mop\u001b[49m\u001b[43m)\u001b[49m\n\u001b[0;32m     57\u001b[0m \u001b[38;5;28;01mreturn\u001b[39;00m result\u001b[38;5;241m.\u001b[39mreshape(x\u001b[38;5;241m.\u001b[39mshape)\n",
      "File \u001b[1;32m~\\anaconda3\\lib\\site-packages\\pandas\\_libs\\ops.pyx:103\u001b[0m, in \u001b[0;36mpandas._libs.ops.scalar_compare\u001b[1;34m()\u001b[0m\n",
      "\u001b[1;31mTypeError\u001b[0m: '>' not supported between instances of 'str' and 'int'"
     ]
    },
    {
     "data": {
      "image/png": "[encoded data removed]",
      "text/plain": [
       "<Figure size 720x432 with 1 Axes>"
      ]
     },
     "metadata": {
      "needs_background": "light"
     },
     "output_type": "display_data"
    }
   ],
   "source": [
    "games_Wii = games[(games['platform'] == 'Wii') & (games['critic_score'] > 0)].copy()\n",
    "from matplotlib.axes._axes import _log as matplotlib_axes_logger\n",
    "matplotlib_axes_logger.setLevel('ERROR')\n",
    "\n",
    "critic_Wii = games[(games['platform'] == 'Wii') & (games['critic_score'] > 0)].copy()\n",
    "critic_Wii.plot(kind='scatter', x='critic_score', y='total_sales', figsize=(10,6))\n",
    "user_Wii = games[(games['platform'] == 'Wii') & (games['user_score'] > 0)].copy()\n",
    "user_Wii.plot(kind='scatter', x='user_score', y='total_sales', figsize=(10,6))"
   ]
  },
  {
   "cell_type": "markdown",
   "id": "3055dd23-47a9-4f18-9a1c-958ea470f464",
   "metadata": {},
   "source": [
    "<div class=\"alert alert-block alert-info\">Есть подтверждение. У Wii зависимость менее выражена"
   ]
  },
  {
   "cell_type": "markdown",
   "id": "2b5757fc-a934-45c4-9ae2-3649ba4a4607",
   "metadata": {},
   "source": [
    "<a id='bullet_4'></a><h3>Часть 4. Составить порьрет пользователя для каждого региона</h3>"
   ]
  },
  {
   "cell_type": "code",
   "execution_count": 38,
   "id": "d254e96c-5b84-4e2d-84a6-996577fe5ace",
   "metadata": {},
   "outputs": [
    {
     "data": {
      "text/plain": [
       "<AxesSubplot:title={'center':'Сев. Америка'}, xlabel='platform'>"
      ]
     },
     "execution_count": 38,
     "metadata": {},
     "output_type": "execute_result"
    },
    {
     "data": {
      "image/png": "[encoded data removed]",
      "text/plain": [
       "<Figure size 432x288 with 1 Axes>"
      ]
     },
     "metadata": {
      "needs_background": "light"
     },
     "output_type": "display_data"
    },
    {
     "data": {
      "image/png": "[encoded data removed]",
      "text/plain": [
       "<Figure size 432x288 with 1 Axes>"
      ]
     },
     "metadata": {
      "needs_background": "light"
     },
     "output_type": "display_data"
    },
    {
     "data": {
      "image/png": "[encoded data removed]",
      "text/plain": [
       "<Figure size 432x288 with 1 Axes>"
      ]
     },
     "metadata": {
      "needs_background": "light"
     },
     "output_type": "display_data"
    }
   ],
   "source": [
    "# Топ-предпочтительных платформ\n",
    "games.groupby(by='platform').agg({'jp_sales':'sum'}).sort_values(by='jp_sales', ascending=False).head(5).plot(kind='bar',  title='Япония')\n",
    "games.groupby(by='platform').agg({'eu_sales':'sum'}).sort_values(by='eu_sales', ascending=False).head(5).plot(kind='bar', title='Европа')\n",
    "games.groupby(by='platform').agg({'na_sales':'sum'}).sort_values(by='na_sales', ascending=False).head(5).plot(kind='bar', title='Сев. Америка')"
   ]
  },
  {
   "cell_type": "markdown",
   "id": "c319f180-2f4e-4563-a104-47a738c319de",
   "metadata": {},
   "source": [
    "***Япония -DS<br>\n",
    "Европа - PS2<br>\n",
    "Сев. Америка - X360<br>***"
   ]
  },
  {
   "cell_type": "code",
   "execution_count": 39,
   "id": "df701828-f3c3-46e8-9833-c604a06e2ca4",
   "metadata": {},
   "outputs": [
    {
     "data": {
      "text/html": [
       "<div>\n",
       "<style scoped>\n",
       "    .dataframe tbody tr th:only-of-type {\n",
       "        vertical-align: middle;\n",
       "    }\n",
       "\n",
       "    .dataframe tbody tr th {\n",
       "        vertical-align: top;\n",
       "    }\n",
       "\n",
       "    .dataframe thead th {\n",
       "        text-align: right;\n",
       "    }\n",
       "</style>\n",
       "<table border=\"1\" class=\"dataframe\">\n",
       "  <thead>\n",
       "    <tr style=\"text-align: right;\">\n",
       "      <th></th>\n",
       "      <th>platform</th>\n",
       "      <th>name</th>\n",
       "    </tr>\n",
       "  </thead>\n",
       "  <tbody>\n",
       "    <tr>\n",
       "      <th>16</th>\n",
       "      <td>PS2</td>\n",
       "      <td>2161</td>\n",
       "    </tr>\n",
       "    <tr>\n",
       "      <th>4</th>\n",
       "      <td>DS</td>\n",
       "      <td>2151</td>\n",
       "    </tr>\n",
       "    <tr>\n",
       "      <th>17</th>\n",
       "      <td>PS3</td>\n",
       "      <td>1331</td>\n",
       "    </tr>\n",
       "    <tr>\n",
       "      <th>26</th>\n",
       "      <td>Wii</td>\n",
       "      <td>1320</td>\n",
       "    </tr>\n",
       "    <tr>\n",
       "      <th>28</th>\n",
       "      <td>X360</td>\n",
       "      <td>1262</td>\n",
       "    </tr>\n",
       "  </tbody>\n",
       "</table>\n",
       "</div>"
      ],
      "text/plain": [
       "   platform  name\n",
       "16      PS2  2161\n",
       "4        DS  2151\n",
       "17      PS3  1331\n",
       "26      Wii  1320\n",
       "28     X360  1262"
      ]
     },
     "execution_count": 39,
     "metadata": {},
     "output_type": "execute_result"
    }
   ],
   "source": [
    "#на какой платформе было выпущено больше всего игр\n",
    "most_popular_plt = games.groupby('platform').agg({'name':'count'}).reset_index()\n",
    "most_popular_plt.sort_values(by='name', ascending=False).head()"
   ]
  },
  {
   "cell_type": "markdown",
   "id": "b823d932-51d1-4d37-ad3a-72f8fa804b6c",
   "metadata": {},
   "source": [
    "***больше всего игр выпускает PS2***"
   ]
  },
  {
   "cell_type": "code",
   "execution_count": 40,
   "id": "af0474c5-3153-4ecd-aa0f-297011a5a940",
   "metadata": {},
   "outputs": [
    {
     "data": {
      "text/html": [
       "<div>\n",
       "<style scoped>\n",
       "    .dataframe tbody tr th:only-of-type {\n",
       "        vertical-align: middle;\n",
       "    }\n",
       "\n",
       "    .dataframe tbody tr th {\n",
       "        vertical-align: top;\n",
       "    }\n",
       "\n",
       "    .dataframe thead th {\n",
       "        text-align: right;\n",
       "    }\n",
       "</style>\n",
       "<table border=\"1\" class=\"dataframe\">\n",
       "  <thead>\n",
       "    <tr style=\"text-align: right;\">\n",
       "      <th></th>\n",
       "      <th>genre</th>\n",
       "      <th>name</th>\n",
       "    </tr>\n",
       "  </thead>\n",
       "  <tbody>\n",
       "    <tr>\n",
       "      <th>0</th>\n",
       "      <td>Action</td>\n",
       "      <td>3369</td>\n",
       "    </tr>\n",
       "    <tr>\n",
       "      <th>10</th>\n",
       "      <td>Sports</td>\n",
       "      <td>2348</td>\n",
       "    </tr>\n",
       "    <tr>\n",
       "      <th>3</th>\n",
       "      <td>Misc</td>\n",
       "      <td>1750</td>\n",
       "    </tr>\n",
       "    <tr>\n",
       "      <th>7</th>\n",
       "      <td>Role-Playing</td>\n",
       "      <td>1498</td>\n",
       "    </tr>\n",
       "    <tr>\n",
       "      <th>8</th>\n",
       "      <td>Shooter</td>\n",
       "      <td>1323</td>\n",
       "    </tr>\n",
       "  </tbody>\n",
       "</table>\n",
       "</div>"
      ],
      "text/plain": [
       "           genre  name\n",
       "0         Action  3369\n",
       "10        Sports  2348\n",
       "3           Misc  1750\n",
       "7   Role-Playing  1498\n",
       "8        Shooter  1323"
      ]
     },
     "execution_count": 40,
     "metadata": {},
     "output_type": "execute_result"
    }
   ],
   "source": [
    "#популярные жанры\n",
    "most_popular_genre = games.groupby('genre').agg({'name':'count'}).reset_index()\n",
    "most_popular_genre.sort_values(by='name', ascending=False).head()"
   ]
  },
  {
   "cell_type": "markdown",
   "id": "3ef1d4b0-c4fc-4337-afbb-dea07800cd81",
   "metadata": {},
   "source": [
    "***Популярен экшн жанр***"
   ]
  },
  {
   "cell_type": "code",
   "execution_count": 41,
   "id": "ea2cd222-15fa-4008-b926-8540c7a8025e",
   "metadata": {},
   "outputs": [
    {
     "data": {
      "text/plain": [
       "<AxesSubplot:title={'center':'Северная Америка'}, xlabel='genre'>"
      ]
     },
     "execution_count": 41,
     "metadata": {},
     "output_type": "execute_result"
    },
    {
     "data": {
      "image/png": "[encoded data removed]",
      "text/plain": [
       "<Figure size 432x288 with 1 Axes>"
      ]
     },
     "metadata": {
      "needs_background": "light"
     },
     "output_type": "display_data"
    },
    {
     "data": {
      "image/png": "[encoded data removed]",
      "text/plain": [
       "<Figure size 432x288 with 1 Axes>"
      ]
     },
     "metadata": {
      "needs_background": "light"
     },
     "output_type": "display_data"
    },
    {
     "data": {
      "image/png": "[encoded data removed]",
      "text/plain": [
       "<Figure size 432x288 with 1 Axes>"
      ]
     },
     "metadata": {
      "needs_background": "light"
     },
     "output_type": "display_data"
    }
   ],
   "source": [
    "#Жанровые предпочтения по регионам\n",
    "games.groupby(by='genre').agg({'jp_sales':'sum'}).sort_values(by='jp_sales', ascending=False).head(5).plot(kind='bar', title='Япония')\n",
    "games.groupby(by='genre').agg({'eu_sales':'sum'}).sort_values(by='eu_sales', ascending=False).head(5).plot(kind='bar',  title='Европа')\n",
    "games.groupby(by='genre').agg({'na_sales':'sum'}).sort_values(by='na_sales', ascending=False).head(5).plot(kind='bar', title='Северная Америка')"
   ]
  },
  {
   "cell_type": "markdown",
   "id": "f2b7db22-eb4b-4476-b376-429d6ee7e033",
   "metadata": {},
   "source": [
    "***Популярен экшн жанр*** "
   ]
  },
  {
   "cell_type": "code",
   "execution_count": 42,
   "id": "e996c771-e79e-4c53-a5c6-0f2e9cc24b06",
   "metadata": {},
   "outputs": [
    {
     "data": {
      "text/plain": [
       "<AxesSubplot:title={'center':'Сев. Америка'}, xlabel='esrb_rating'>"
      ]
     },
     "execution_count": 42,
     "metadata": {},
     "output_type": "execute_result"
    },
    {
     "data": {
      "image/png": "[encoded data removed]",
      "text/plain": [
       "<Figure size 432x288 with 1 Axes>"
      ]
     },
     "metadata": {
      "needs_background": "light"
     },
     "output_type": "display_data"
    },
    {
     "data": {
      "image/png": "[encoded data removed]",
      "text/plain": [
       "<Figure size 432x288 with 1 Axes>"
      ]
     },
     "metadata": {
      "needs_background": "light"
     },
     "output_type": "display_data"
    },
    {
     "data": {
      "image/png": "[encoded data removed]",
      "text/plain": [
       "<Figure size 432x288 with 1 Axes>"
      ]
     },
     "metadata": {
      "needs_background": "light"
     },
     "output_type": "display_data"
    }
   ],
   "source": [
    "#Влияние рейтинга ESRB на продажи в регионах\n",
    "# E - для всех\n",
    "# T - 13+ подростки\n",
    "# M - 17+\n",
    "# E10 - 10+\n",
    "games.groupby(by='esrb_rating').agg({'jp_sales':'sum'}).sort_values(by='jp_sales', ascending=False).head(5).plot(kind='bar', title='Япония')\n",
    "games.groupby(by='esrb_rating').agg({'eu_sales':'sum'}).sort_values(by='eu_sales', ascending=False).head(5).plot(kind='bar', title='Европа')\n",
    "games.groupby(by='esrb_rating').agg({'na_sales':'sum'}).sort_values(by='na_sales', ascending=False).head(5).plot(kind='bar', title='Сев. Америка')"
   ]
  },
  {
   "cell_type": "markdown",
   "id": "1e655e34-b51e-48c4-a2b7-8e1a995789f2",
   "metadata": {},
   "source": [
    "***Северная Америка играет в основном на X360 и PS2. Wii, PS3, DS - 3,4,5 место соответственно.***\n",
    "\n",
    "***Европа:  PS2 и PS3 - 1,2 места. Далее X360, Wii и PS.***\n",
    "\n",
    "***Япония: лидер - DS. Далее PS и PS2. 4,5 места -  SNES и 3DS.***\n",
    "***Европа и Америка играют в экшн-игры, шутеры и спортивне. Япония - ролевые игры преобладают, а потом уже экшн и спорт.***\n",
    "\n",
    "***Рейтинг для всех продается в Северной Америке и в Европе практиески одинаково. Далее по продажам - рейтинг \"13-19 лет\" и \"для лиц старше 17 лет\".***\n",
    "\n",
    "***Япония - первое место  - \"Для всех\", на втором - игры для детей (13-19 лет).***"
   ]
  },
  {
   "cell_type": "markdown",
   "id": "bd8d756e-8667-4f05-8e0a-e45441207cf4",
   "metadata": {},
   "source": [
    "[назад к оглавлению](#bullet_0)"
   ]
  },
  {
   "cell_type": "markdown",
   "id": "b83518e6-b72d-4844-ac1f-eef81a85d3e4",
   "metadata": {},
   "source": [
    "<div class=\"alert alert-block alert-info\">К сожалению написание функция мне дается пока с трудом"
   ]
  },
  {
   "cell_type": "markdown",
   "id": "7e9e6c52-fb07-411f-8046-ca1f81ae978e",
   "metadata": {},
   "source": [
    "<a id='bullet_5'></a><h3>Часть 5. Проверить гипотезы</h3>\n",
    "    \n",
    "* средние пользовательские рейтинги платформ Xbox One и PC одинаковые;<br>\n",
    "* средние пользовательские рейтинги жанров Action и Sports разные.<br>\n",
    "\n",
    "Для проверки обеих гипотез будем использовать t-критерий Стьюдента, т.к. в обоих случаях выборки независимы между собой.\n",
    "Определим пороговое значение alpha = 0.05"
   ]
  },
  {
   "cell_type": "code",
   "execution_count": null,
   "id": "1aa6587d-122f-4744-a0d8-5237371b0674",
   "metadata": {},
   "outputs": [],
   "source": [
    "#Принимаем H0 - средние пользовательские рейтинги платформ Xbox One и PC одинаковые.\n",
    "#Соответственно H1 - средние пользовательские рейтинги платформ Xbox One и PC отличаются.\n",
    "xbox_one_ratings = games[(games['platform'] == 'XOne') & (games['user_score'] > 0)]['user_score']\n",
    "pc_ratings = games[(games['platform'] == 'PC') & (games['user_score'] > 0)]['user_score']\n",
    "alpha = 0.05\n",
    "results = st.ttest_ind(xbox_one_ratings, pc_ratings, equal_var=False)\n",
    "if (results.pvalue < alpha):\n",
    "    print(\"Отвергаем нулевую гипотезу\")\n",
    "else:\n",
    "    print(\"Не получилось отвергнуть нулевую гипотезу\")"
   ]
  },
  {
   "cell_type": "markdown",
   "id": "8da108ae-21d9-41d7-a9dd-eeef77fd89cd",
   "metadata": {},
   "source": [
    "***С большой вероятностью допускаем, что рейтинги платформ Xbox One и PC отличаются***"
   ]
  },
  {
   "cell_type": "code",
   "execution_count": 43,
   "id": "4247c533-f829-4417-9853-44e3ce391fa4",
   "metadata": {},
   "outputs": [
    {
     "ename": "TypeError",
     "evalue": "'>' not supported between instances of 'str' and 'int'",
     "output_type": "error",
     "traceback": [
      "\u001b[1;31m---------------------------------------------------------------------------\u001b[0m",
      "\u001b[1;31mTypeError\u001b[0m                                 Traceback (most recent call last)",
      "Input \u001b[1;32mIn [43]\u001b[0m, in \u001b[0;36m<cell line: 3>\u001b[1;34m()\u001b[0m\n\u001b[0;32m      1\u001b[0m \u001b[38;5;66;03m# Принимаем H0: средний пользовательский рейтинг жанров Action и Sports одинаковый\u001b[39;00m\n\u001b[0;32m      2\u001b[0m \u001b[38;5;66;03m# Соответственоо H1: средний пользовательский рейтинг жанров Action и Sports различается\u001b[39;00m\n\u001b[1;32m----> 3\u001b[0m action \u001b[38;5;241m=\u001b[39m games[(games[\u001b[38;5;124m'\u001b[39m\u001b[38;5;124mgenre\u001b[39m\u001b[38;5;124m'\u001b[39m] \u001b[38;5;241m==\u001b[39m \u001b[38;5;124m'\u001b[39m\u001b[38;5;124mAction\u001b[39m\u001b[38;5;124m'\u001b[39m) \u001b[38;5;241m&\u001b[39m (\u001b[43mgames\u001b[49m\u001b[43m[\u001b[49m\u001b[38;5;124;43m'\u001b[39;49m\u001b[38;5;124;43muser_score\u001b[39;49m\u001b[38;5;124;43m'\u001b[39;49m\u001b[43m]\u001b[49m\u001b[43m \u001b[49m\u001b[38;5;241;43m>\u001b[39;49m\u001b[43m \u001b[49m\u001b[38;5;241;43m0\u001b[39;49m)][\u001b[38;5;124m'\u001b[39m\u001b[38;5;124muser_score\u001b[39m\u001b[38;5;124m'\u001b[39m]\n\u001b[0;32m      4\u001b[0m sports \u001b[38;5;241m=\u001b[39m games[(games[\u001b[38;5;124m'\u001b[39m\u001b[38;5;124mgenre\u001b[39m\u001b[38;5;124m'\u001b[39m] \u001b[38;5;241m==\u001b[39m \u001b[38;5;124m'\u001b[39m\u001b[38;5;124mSports\u001b[39m\u001b[38;5;124m'\u001b[39m) \u001b[38;5;241m&\u001b[39m (games[\u001b[38;5;124m'\u001b[39m\u001b[38;5;124muser_score\u001b[39m\u001b[38;5;124m'\u001b[39m] \u001b[38;5;241m>\u001b[39m \u001b[38;5;241m0\u001b[39m)][\u001b[38;5;124m'\u001b[39m\u001b[38;5;124muser_score\u001b[39m\u001b[38;5;124m'\u001b[39m]\n\u001b[0;32m      5\u001b[0m alpha \u001b[38;5;241m=\u001b[39m \u001b[38;5;241m0.05\u001b[39m\n",
      "File \u001b[1;32m~\\AppData\\Roaming\\Python\\Python39\\site-packages\\pandas\\core\\ops\\common.py:65\u001b[0m, in \u001b[0;36m_unpack_zerodim_and_defer.<locals>.new_method\u001b[1;34m(self, other)\u001b[0m\n\u001b[0;32m     61\u001b[0m             \u001b[38;5;28;01mreturn\u001b[39;00m \u001b[38;5;28mNotImplemented\u001b[39m\n\u001b[0;32m     63\u001b[0m other \u001b[38;5;241m=\u001b[39m item_from_zerodim(other)\n\u001b[1;32m---> 65\u001b[0m \u001b[38;5;28;01mreturn\u001b[39;00m \u001b[43mmethod\u001b[49m\u001b[43m(\u001b[49m\u001b[38;5;28;43mself\u001b[39;49m\u001b[43m,\u001b[49m\u001b[43m \u001b[49m\u001b[43mother\u001b[49m\u001b[43m)\u001b[49m\n",
      "File \u001b[1;32m~\\AppData\\Roaming\\Python\\Python39\\site-packages\\pandas\\core\\ops\\__init__.py:370\u001b[0m, in \u001b[0;36m_comp_method_SERIES.<locals>.wrapper\u001b[1;34m(self, other)\u001b[0m\n\u001b[0;32m    367\u001b[0m lvalues \u001b[38;5;241m=\u001b[39m extract_array(\u001b[38;5;28mself\u001b[39m, extract_numpy\u001b[38;5;241m=\u001b[39m\u001b[38;5;28;01mTrue\u001b[39;00m)\n\u001b[0;32m    368\u001b[0m rvalues \u001b[38;5;241m=\u001b[39m extract_array(other, extract_numpy\u001b[38;5;241m=\u001b[39m\u001b[38;5;28;01mTrue\u001b[39;00m)\n\u001b[1;32m--> 370\u001b[0m res_values \u001b[38;5;241m=\u001b[39m \u001b[43mcomparison_op\u001b[49m\u001b[43m(\u001b[49m\u001b[43mlvalues\u001b[49m\u001b[43m,\u001b[49m\u001b[43m \u001b[49m\u001b[43mrvalues\u001b[49m\u001b[43m,\u001b[49m\u001b[43m \u001b[49m\u001b[43mop\u001b[49m\u001b[43m)\u001b[49m\n\u001b[0;32m    372\u001b[0m \u001b[38;5;28;01mreturn\u001b[39;00m \u001b[38;5;28mself\u001b[39m\u001b[38;5;241m.\u001b[39m_construct_result(res_values, name\u001b[38;5;241m=\u001b[39mres_name)\n",
      "File \u001b[1;32m~\\AppData\\Roaming\\Python\\Python39\\site-packages\\pandas\\core\\ops\\array_ops.py:244\u001b[0m, in \u001b[0;36mcomparison_op\u001b[1;34m(left, right, op)\u001b[0m\n\u001b[0;32m    241\u001b[0m     \u001b[38;5;28;01mreturn\u001b[39;00m invalid_comparison(lvalues, rvalues, op)\n\u001b[0;32m    243\u001b[0m \u001b[38;5;28;01melif\u001b[39;00m is_object_dtype(lvalues\u001b[38;5;241m.\u001b[39mdtype):\n\u001b[1;32m--> 244\u001b[0m     res_values \u001b[38;5;241m=\u001b[39m \u001b[43mcomp_method_OBJECT_ARRAY\u001b[49m\u001b[43m(\u001b[49m\u001b[43mop\u001b[49m\u001b[43m,\u001b[49m\u001b[43m \u001b[49m\u001b[43mlvalues\u001b[49m\u001b[43m,\u001b[49m\u001b[43m \u001b[49m\u001b[43mrvalues\u001b[49m\u001b[43m)\u001b[49m\n\u001b[0;32m    246\u001b[0m \u001b[38;5;28;01melse\u001b[39;00m:\n\u001b[0;32m    247\u001b[0m     \u001b[38;5;28;01mwith\u001b[39;00m warnings\u001b[38;5;241m.\u001b[39mcatch_warnings():\n\u001b[0;32m    248\u001b[0m         \u001b[38;5;66;03m# suppress warnings from numpy about element-wise comparison\u001b[39;00m\n",
      "File \u001b[1;32m~\\AppData\\Roaming\\Python\\Python39\\site-packages\\pandas\\core\\ops\\array_ops.py:56\u001b[0m, in \u001b[0;36mcomp_method_OBJECT_ARRAY\u001b[1;34m(op, x, y)\u001b[0m\n\u001b[0;32m     54\u001b[0m     result \u001b[38;5;241m=\u001b[39m libops\u001b[38;5;241m.\u001b[39mvec_compare(x\u001b[38;5;241m.\u001b[39mravel(), y\u001b[38;5;241m.\u001b[39mravel(), op)\n\u001b[0;32m     55\u001b[0m \u001b[38;5;28;01melse\u001b[39;00m:\n\u001b[1;32m---> 56\u001b[0m     result \u001b[38;5;241m=\u001b[39m \u001b[43mlibops\u001b[49m\u001b[38;5;241;43m.\u001b[39;49m\u001b[43mscalar_compare\u001b[49m\u001b[43m(\u001b[49m\u001b[43mx\u001b[49m\u001b[38;5;241;43m.\u001b[39;49m\u001b[43mravel\u001b[49m\u001b[43m(\u001b[49m\u001b[43m)\u001b[49m\u001b[43m,\u001b[49m\u001b[43m \u001b[49m\u001b[43my\u001b[49m\u001b[43m,\u001b[49m\u001b[43m \u001b[49m\u001b[43mop\u001b[49m\u001b[43m)\u001b[49m\n\u001b[0;32m     57\u001b[0m \u001b[38;5;28;01mreturn\u001b[39;00m result\u001b[38;5;241m.\u001b[39mreshape(x\u001b[38;5;241m.\u001b[39mshape)\n",
      "File \u001b[1;32m~\\anaconda3\\lib\\site-packages\\pandas\\_libs\\ops.pyx:103\u001b[0m, in \u001b[0;36mpandas._libs.ops.scalar_compare\u001b[1;34m()\u001b[0m\n",
      "\u001b[1;31mTypeError\u001b[0m: '>' not supported between instances of 'str' and 'int'"
     ]
    }
   ],
   "source": [
    "# Принимаем H0: средний пользовательский рейтинг жанров Action и Sports одинаковый\n",
    "# Соответственоо H1: средний пользовательский рейтинг жанров Action и Sports различается\n",
    "action = games[(games['genre'] == 'Action') & (games['user_score'] > 0)]['user_score']\n",
    "sports = games[(games['genre'] == 'Sports') & (games['user_score'] > 0)]['user_score']\n",
    "alpha = 0.05\n",
    "results = st.ttest_ind(action, sports, equal_var=False)\n",
    "if (results.pvalue < alpha):\n",
    "    print(\"Отвергаем нулевую гипотезу\")\n",
    "else:\n",
    "    print(\"Не получилось отвергнуть нулевую гипотезу\")"
   ]
  },
  {
   "cell_type": "markdown",
   "id": "e0e0b2c5-0eb7-4c00-ac7c-3d0cc17d968a",
   "metadata": {},
   "source": [
    "***Действительно средние пользовательские рейтинги жанров Action и Sports одинаковы***"
   ]
  },
  {
   "cell_type": "markdown",
   "id": "d65128ac-bc08-46a9-be0c-09f1eee9ec34",
   "metadata": {},
   "source": [
    "[назад к оглавлению](#bullet_0)"
   ]
  },
  {
   "cell_type": "markdown",
   "id": "9411ccc2-aa33-464d-bb3b-5eab08b8d5e7",
   "metadata": {},
   "source": [
    "<div class=\"alert alert-block alert-info\">equal_var (от англ. equal variance, «равная дисперсия») — необязательный параметр, задающий считать ли равными дисперсии выборок. Передаётся как \"equal_var = True\" или \"equal_var = False\" (True — считать, False — не считать). Есть основание полагать, что выборки взяты из схожих по параметрам совокупностей? Тогда укажите этот параметр как True, и дисперсия каждой выборки будет оценена по объединённому датасету из двух выборок, а не для каждой по отдельности по значениям в ней самой.\n",
    "Так делают, чтобы получить более точные результаты. Но только в том случае, если считать примерно равными дисперсии генеральных совокупностей, из которых взяты выборки. Иначе параметр нужно указать как False; по умолчанию он задан как True (если вообще его не указывать)."
   ]
  },
  {
   "cell_type": "code",
   "execution_count": 44,
   "id": "dbdaade1-c67d-4d75-8c70-36c3e11a1ec9",
   "metadata": {},
   "outputs": [
    {
     "ename": "NameError",
     "evalue": "name 'xbox_one_ratings' is not defined",
     "output_type": "error",
     "traceback": [
      "\u001b[1;31m---------------------------------------------------------------------------\u001b[0m",
      "\u001b[1;31mNameError\u001b[0m                                 Traceback (most recent call last)",
      "Input \u001b[1;32mIn [44]\u001b[0m, in \u001b[0;36m<cell line: 1>\u001b[1;34m()\u001b[0m\n\u001b[1;32m----> 1\u001b[0m np\u001b[38;5;241m.\u001b[39mvar(\u001b[43mxbox_one_ratings\u001b[49m)\n",
      "\u001b[1;31mNameError\u001b[0m: name 'xbox_one_ratings' is not defined"
     ]
    }
   ],
   "source": [
    "np.var(xbox_one_ratings)"
   ]
  },
  {
   "cell_type": "code",
   "execution_count": null,
   "id": "18f28d8c-5683-4224-828f-1a0a6a58d174",
   "metadata": {},
   "outputs": [],
   "source": [
    "np.var(pc_ratings)"
   ]
  },
  {
   "cell_type": "code",
   "execution_count": null,
   "id": "000122bb-7667-48d2-8f6b-a7d5f20f6fda",
   "metadata": {},
   "outputs": [],
   "source": [
    "np.var(action)"
   ]
  },
  {
   "cell_type": "code",
   "execution_count": null,
   "id": "8173ac69-515a-493f-a542-1e9e86ce8e52",
   "metadata": {},
   "outputs": [],
   "source": [
    "np.var(sports)"
   ]
  },
  {
   "cell_type": "markdown",
   "id": "e287b703-8d1a-4adb-af95-b9069cbcffc5",
   "metadata": {},
   "source": [
    "<a id='bullet_6'></a><h2>Общий вывод</h2>"
   ]
  },
  {
   "cell_type": "markdown",
   "id": "9e10692f-4597-4895-b0dd-83e864b4626d",
   "metadata": {},
   "source": [
    "***Перед нами стояла задача установить закономерности, определяющие успешность игр, для построения маркетингоавой стратегии стримингово сервиса.***<br>\n",
    "На первом этапе была изучена общая информация, проведена обработка даннх. Проверили на наличие дубликатов <br> Проведена замена типов данных<br>\n",
    "\n",
    "\n",
    "Есть период роста продаж с 1990 го по 2011 с пиками(возможно технологческие прорывы). В 2011 году падение. Возможно 2011-2015 г. можно взять за период намечающейся новой тенденции с возможным ростом или продолжением снижения интереса к играм в 2017.<br>\n",
    "\n",
    "\n",
    "Выявили шсть безусловных лидеров популярных платформ, в порядке убывания: PS2, X360, PS3, Wii, DS, PS<br>\n",
    "\n",
    "\n",
    "Установили среднюю продолжительность \"жизни платформ - 10 лет видимо до выхода более технологичной и мощной модели.<br> \n",
    "\n",
    "\n",
    "\n",
    "Установили среднее значение по продажам до 1,2 млн долларов. Медиана - 0,2 миллиона долларов.\n",
    "Медиана по топовым платформам варьируется от 0,2 до 0,25 млн долларов прибыли за игру.\n",
    "Верхняя граница предела, за которыми уже определяются аномалии, у двух платформ - PS3 и X360 - на уровне 1,7 млн долларов.\n",
    "У остальных - от 1 до 1,5 миллионов долларов.\n",
    "\n",
    "Были установлены зависимости продаж от рейтинга критиков\n",
    "Мнение игроков также может повлиять на продажи, но в меньшей степени\n",
    "\n",
    "\n",
    "***Установили:***\n",
    "\n",
    "Популярные платформы по регионам:<br>\n",
    "\n",
    "Япония -DS<br>\n",
    "Европа - PS2<br>\n",
    "Сев. Америка - X360<br>\n",
    "\n",
    "Больше всего игр выпускает PS2<br>\n",
    "\n",
    "Популярен экшн жанр<br>\n",
    "\n",
    "Северная Америка играет в основном на X360 и PS2. Wii, PS3, DS - 3,4,5 место соответственно.<br>\n",
    "\n",
    "Европа:  PS2 и PS3 - 1,2 места. Далее X360, Wii и PS.<br>\n",
    "\n",
    "Япония: лидер - DS. Далее PS и PS2. 4,5 места -  SNES и 3DS.<br>\n",
    "Европа и Америка играют в экшн-игры, шутеры и спортивне. Япония - ролевые игры преобладают, а потом уже экшн и спорт.<br>\n",
    "\n",
    "Топ-рейтинг по регионам:<br>\n",
    "\n",
    "Рейтинг \"для всех\" продается в Северной Америке и в Европе практиески одинаково. Далее по продажам - рейтинг \"13-19 лет\" и \"для лиц старше 17 лет\".<br>\n",
    "Япония - первое место  - \"Для всех\", на втором - игры для детей (13-19 лет).<br>\n",
    "\n",
    "\n",
    "***Итогове рекомендации:*** \n",
    "\n",
    "Рынок находится на спаде, тем неменее крупные и средние производители продолжают выпускать новые игры, платформы совершенствуются и стриминговые интернет ресурсы и сервисы волне могут быть рентабелены. \n",
    "Для повышения продаж целесообразно продвигать игры через критиков и экспертов. В меньшей степени расчитывать на отзывы игроков.<br> \n",
    "Стоит отдавать предпочтение на продвижение игр жанра экшн и спорт, с общим рейтингом, выходящих для наиболее популярных платформах: PS2, X360, PS3, Wii, DS, PS<br>\n"
   ]
  }
 ],
 "metadata": {
  "kernelspec": {
   "display_name": "Python 3 (ipykernel)",
   "language": "python",
   "name": "python3"
  },
  "language_info": {
   "codemirror_mode": {
    "name": "ipython",
    "version": 3
   },
   "file_extension": ".py",
   "mimetype": "text/x-python",
   "name": "python",
   "nbconvert_exporter": "python",
   "pygments_lexer": "ipython3",
   "version": "3.9.12"
  }
 },
 "nbformat": 4,
 "nbformat_minor": 5
}
