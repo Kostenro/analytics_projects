{
 "cells": [
  {
   "cell_type": "markdown",
   "id": "16b5f7d4-9ac8-409a-8832-645080847178",
   "metadata": {},
   "source": [
    "# Исследование объявлений о продаже квартир\n",
    "\n",
    "**<br/> Нужно научиться определять рыночную стоимость объектов недвижимости.**\n",
    "<br/>**Задача — установить параметры для построения автоматизированной системы: она отследит аномалии и мошенническую деятельность.** \n",
    "\n",
    "<br/>**Что делаем**\n",
    "\n",
    "<br/>**Предобработка**\n",
    "\n",
    "<br/>**Добавляем в таблицу:**\n",
    "<br/>цену кв. метра\n",
    "<br/>день недели месяц и год рубликации объявления\n",
    "<br/>Этаж квартиры(первый последний, другой)\n",
    "<br/>Отношение жилой и общей площади\n",
    "<br/>Отношение площади кухни к общей\n",
    "<br/>Расстояние до центра в км(Int)\n",
    "<br/>***Строим гистограмму для:***\n",
    "<br/>площадь\n",
    "<br/>Цена\n",
    "<br/>Число комнат\n",
    "<br/>Высота потолков\n",
    "<br/>Время продажи квартиры\n",
    "<br/>**Для Время продажи** - посчитать медиану и среднее, убрать редкие и выбивающиеся значения\n",
    "<br/>**Построить зависимости:**\n",
    "<br/>цена - площадь\n",
    "<br/>цена - число комнат\n",
    "<br/>цена - удаленность от центра\n",
    "<br/>цена - этажность\n",
    "<br/>цена - дата размещения\n",
    "<br/>**Строим сводную таблицу топ 10(по кол. объявления) населенных пунктов с самой высокой и самой низкой стоимостью жилья**\n",
    "<br/>Насеоенный пункт - количество объявлений - стоимость квадратного метра.\n",
    "<br/>**Определяем какая область входит в центр:**\n",
    "<br/>считаем среднюю цену для каждого километра от цента в СПб\n",
    "<br/>сторим график зависимости\n",
    "<br/>**Строим зависимости для квартир в центре**\n",
    "<br/>см общие"
   ]
  },
  {
   "cell_type": "markdown",
   "id": "56a8ed1f-90bd-4d1f-b4da-5a143cf86240",
   "metadata": {},
   "source": [
    "### Шаг 1. Откройте файл с данными и изучите общую информацию."
   ]
  },
  {
   "cell_type": "code",
   "execution_count": 1,
   "id": "632522d0-3c40-4db8-909c-cd87016065cf",
   "metadata": {},
   "outputs": [
    {
     "ename": "ModuleNotFoundError",
     "evalue": "No module named 'pymystem3'",
     "output_type": "error",
     "traceback": [
      "\u001b[1;31m---------------------------------------------------------------------------\u001b[0m",
      "\u001b[1;31mModuleNotFoundError\u001b[0m                       Traceback (most recent call last)",
      "Input \u001b[1;32mIn [1]\u001b[0m, in \u001b[0;36m<cell line: 4>\u001b[1;34m()\u001b[0m\n\u001b[0;32m      2\u001b[0m \u001b[38;5;28;01mimport\u001b[39;00m \u001b[38;5;21;01mseaborn\u001b[39;00m \u001b[38;5;28;01mas\u001b[39;00m \u001b[38;5;21;01msns\u001b[39;00m\n\u001b[0;32m      3\u001b[0m \u001b[38;5;28;01mimport\u001b[39;00m \u001b[38;5;21;01mmatplotlib\u001b[39;00m\u001b[38;5;21;01m.\u001b[39;00m\u001b[38;5;21;01mpyplot\u001b[39;00m \u001b[38;5;28;01mas\u001b[39;00m \u001b[38;5;21;01mplt\u001b[39;00m\n\u001b[1;32m----> 4\u001b[0m \u001b[38;5;28;01mfrom\u001b[39;00m \u001b[38;5;21;01mpymystem3\u001b[39;00m \u001b[38;5;28;01mimport\u001b[39;00m Mystem\n\u001b[0;32m      5\u001b[0m \u001b[38;5;28;01mfrom\u001b[39;00m \u001b[38;5;21;01mnltk\u001b[39;00m\u001b[38;5;21;01m.\u001b[39;00m\u001b[38;5;21;01mstem\u001b[39;00m \u001b[38;5;28;01mimport\u001b[39;00m SnowballStemmer\n\u001b[0;32m      6\u001b[0m \u001b[38;5;28;01mfrom\u001b[39;00m \u001b[38;5;21;01mcollections\u001b[39;00m \u001b[38;5;28;01mimport\u001b[39;00m Counter\n",
      "\u001b[1;31mModuleNotFoundError\u001b[0m: No module named 'pymystem3'"
     ]
    }
   ],
   "source": [
    "import pandas as pd\n",
    "import seaborn as sns\n",
    "import matplotlib.pyplot as plt\n",
    "from pymystem3 import Mystem\n",
    "from nltk.stem import SnowballStemmer\n",
    "from collections import Counter\n",
    "import numpy as np\n",
    "import math as mth\n",
    "from datetime import datetime"
   ]
  },
  {
   "cell_type": "code",
   "execution_count": null,
   "id": "e8582fff-a649-46e7-b6b3-21fe4f19ccae",
   "metadata": {},
   "outputs": [],
   "source": [
    "#estate.head(20)\n",
    "flat = pd.read_csv('/datasets/real_estate_data.csv', sep='\\t')\n",
    "#flat.head(20)"
   ]
  },
  {
   "cell_type": "code",
   "execution_count": null,
   "id": "cc15b24b-bbfe-4cda-a5fe-b2155db3ce8c",
   "metadata": {},
   "outputs": [],
   "source": [
    "flat.info()"
   ]
  },
  {
   "cell_type": "code",
   "execution_count": null,
   "id": "4d5fd044-41fd-49ad-a122-e3e2294d92e6",
   "metadata": {},
   "outputs": [],
   "source": [
    "flat.duplicated().sum()"
   ]
  },
  {
   "cell_type": "code",
   "execution_count": null,
   "id": "b4a69954-2f03-41ac-bc44-83af3cb2ac7d",
   "metadata": {},
   "outputs": [],
   "source": [
    "flat.isnull().sum()"
   ]
  },
  {
   "cell_type": "markdown",
   "id": "c0b10141-9427-4069-b848-2435cb6962a6",
   "metadata": {},
   "source": [
    " describe(). У последней есть классный аргумент include. Например include = ['object']"
   ]
  },
  {
   "cell_type": "markdown",
   "id": "fbbedb9b-3774-408a-b783-66fe396462b7",
   "metadata": {},
   "source": [
    "### Вывод"
   ]
  },
  {
   "cell_type": "markdown",
   "id": "cd6a8c96-83d5-47a8-84e0-6bfb2a1f0b00",
   "metadata": {},
   "source": [
    "**first_day_exposition** – формат\n",
    "<br/>**ceiling_height** – отсутствие значений: скорее всего зачастую продавец не считает этот параметр важным и влияющим на стоимость. Только 3х метровые потолки и выше, по моему мнению, могут влиять на стоимость, потому что за такие потолки уже можно просить доп. деньги (это комфорт, и в такой кв. можно сделать мансардный этаж)  взять стандартные потолки 2.70 или 2.50 или нулями заменить. Есть странности в максимаьных значениях\n",
    "<br/>**living_area , kitchen_area** – выжные параметры влияющие на стоимость. \n",
    "Сколько отсутствующих значений в обоих параметрах – удалить\n",
    "Заамеить отсутствующие значения в living_area  средним для сегмента по числу комнат и стоимости \n",
    "<br/>**is_apartment** – никто не знает что это значит, кроме тех кто продает апартаменты, будем считать, что все NaNы – это false\n",
    "<br/>**balcony** – nan заменим на 0  -балкон если есть его надо указывать это влияет на стоимость, вряд ли кто то поленился указать.  \n",
    "<br/>**airports_nearest** – заменяем на 0\n",
    "<br/>**locality_name** - удалим\n",
    "<br/>**cityCenters_nearest** – берем расстояния от центра для населеннго пункта\n",
    "<br/>**parks_around3000** – парки оставляем или заменяем на 0\n",
    "<br/>**parks_nearest** – тоже самое, можно поимскать парки по населенному пункту\n",
    "<br/>**ponds_around3000** – наплевать на прууды\n",
    "<br/>**days_exposition** – нет смысла заменять эти значения, будем оценивать имеющиеся данные\n",
    "<br/>**типы данных поменять**\n",
    "<br/>дату\n",
    "<br/>balcony -to int\n",
    "\n",
    "<br/>floors_total – to int\n",
    "<br/>is_apartment – to bool\n",
    "<br/>days_exposition to int\n",
    "\n",
    "**Дубликатов нет**\n"
   ]
  },
  {
   "cell_type": "markdown",
   "id": "10aa6573-df95-44b3-af93-1aefa68c9a9c",
   "metadata": {},
   "source": [
    "### Шаг 2. Предобработка данных"
   ]
  },
  {
   "cell_type": "code",
   "execution_count": null,
   "id": "c3a7f4d1-981b-4b52-b430-f7aa1888a021",
   "metadata": {},
   "outputs": [],
   "source": [
    "#высота потолков\n",
    "#flat[flat['ceiling_height'] > 5].sort_values('ceiling_height')"
   ]
  },
  {
   "cell_type": "code",
   "execution_count": null,
   "id": "199902a5-343f-431b-ac20-45636dd0cb72",
   "metadata": {},
   "outputs": [],
   "source": [
    "#100 метровые потолки удалим.\n",
    "flat.drop([6,22869], inplace = True)"
   ]
  },
  {
   "cell_type": "code",
   "execution_count": null,
   "id": "703f9c3d-9665-494f-8014-822e7b353cf4",
   "metadata": {},
   "outputs": [],
   "source": [
    "# заменим совсем уж сказочные значения на стандартные по региону\n",
    "#def fix_ceiling_height(row):\n",
    "   # if row > 4:\n",
    "     #   return 2.5\n",
    "   # elif row >= 25:\n",
    "     #   return row / 10\n",
    "   # else:\n",
    "     #   return row\n",
    "#flat['ceiling_height'] = flat['ceiling_height'].apply(fix_ceiling_height)\n",
    "#flat.iloc[21823]\n",
    "#flat[flat['ceiling_height'] > 4].sort_values('ceiling_height')"
   ]
  },
  {
   "cell_type": "code",
   "execution_count": null,
   "id": "d911905a-70ce-4184-9af8-4082f65a7514",
   "metadata": {},
   "outputs": [],
   "source": [
    "def fix_ceiling_height(row):\n",
    "    if row < 4:\n",
    "        return row\n",
    "    if row > 25:\n",
    "        return row / 10\n",
    "    return 2.5               \n",
    "       \n",
    "flat['ceiling_height'] = flat['ceiling_height'].apply(fix_ceiling_height)\n",
    "#flat.iloc[21823]\n",
    "flat[flat['ceiling_height'] > 4].sort_values('ceiling_height')"
   ]
  },
  {
   "cell_type": "markdown",
   "id": "f18e8da9-4374-48df-89e4-84afbd2d083e",
   "metadata": {},
   "source": [
    "https://medium.com/lemon-code/guard-clauses-3bc0cd96a2d3"
   ]
  },
  {
   "cell_type": "code",
   "execution_count": null,
   "id": "9a0ab862-91f7-41b7-8382-a12ed14d61e2",
   "metadata": {},
   "outputs": [],
   "source": [
    "#заменим пропуски на стандартную высоту потолков 2,5\n",
    "flat['ceiling_height'] = flat['ceiling_height'].fillna(2.5)\n",
    "flat['ceiling_height'].isnull().sum()"
   ]
  },
  {
   "cell_type": "code",
   "execution_count": null,
   "id": "7706c279-372e-4b95-877d-6ecaafa0346c",
   "metadata": {},
   "outputs": [],
   "source": [
    "#балконы на 0\n",
    "flat['balcony'] = flat['balcony'].fillna(0)\n",
    "#заменим тип данных\n",
    "flat['balcony'] = flat['balcony'].astype('int', errors='ignore')\n",
    "#flat.info()"
   ]
  },
  {
   "cell_type": "code",
   "execution_count": null,
   "id": "cb0660c6-154f-430f-ac19-c4fc69e8e2ee",
   "metadata": {},
   "outputs": [],
   "source": [
    "mean_rooms_area = pd.pivot_table(flat, index = 'rooms', values = 'living_area').sort_values('rooms')\n",
    "mean_rooms_area.head(20)"
   ]
  },
  {
   "cell_type": "code",
   "execution_count": null,
   "id": "2ffd5307-eecc-43cd-81d1-532ad6c58510",
   "metadata": {},
   "outputs": [],
   "source": [
    "#возьмем среднюю площадь квартир для каждого колиества комнат и заменим наши пропуски \n",
    "flat['living_area'] = flat.groupby('rooms')['living_area'].transform(lambda x: x.fillna(x.mean()))\n",
    "#flat.iloc[14602]"
   ]
  },
  {
   "cell_type": "code",
   "execution_count": null,
   "id": "e04fd11e-3d21-4f69-b238-f35c6c3ac0b5",
   "metadata": {},
   "outputs": [],
   "source": [
    "#flat.sort_values('locality_name')['locality_name'].value_counts()"
   ]
  },
  {
   "cell_type": "code",
   "execution_count": null,
   "id": "fbe39958-a9f1-4425-8566-8112ab16e4d0",
   "metadata": {},
   "outputs": [],
   "source": [
    "flat[flat['locality_name'].isnull()]"
   ]
  },
  {
   "cell_type": "markdown",
   "id": "7d03f254-164b-4377-9498-46d84d94881b",
   "metadata": {},
   "source": [
    "**49 строк с неизвестным городом.\n",
    "У нас в строках с пропусками в названии насеоенного пункта есть расстояние от центра.\n",
    "Пусть все кто в пределах 20 км  - будут считаться Санкт Петербургом - так пропусков станет поменьше**"
   ]
  },
  {
   "cell_type": "code",
   "execution_count": null,
   "id": "40df6099-e415-4c17-9681-976475fc2e8d",
   "metadata": {},
   "outputs": [],
   "source": [
    "flat.loc[flat['cityCenters_nearest'] < 20000, 'locality_name'] = flat.loc[flat['cityCenters_nearest'] < 20000, 'locality_name'].fillna('Санкт-Петербург')\n",
    "#flat.head(20)"
   ]
  },
  {
   "cell_type": "code",
   "execution_count": null,
   "id": "8f5c06a8-0ca9-4119-a557-49f5a01e7126",
   "metadata": {},
   "outputs": [],
   "source": [
    "flat['locality_name'].isnull().sum()"
   ]
  },
  {
   "cell_type": "code",
   "execution_count": null,
   "id": "d5697a33-4fbb-46f1-af45-720ad1f3b1ab",
   "metadata": {},
   "outputs": [],
   "source": [
    "flat.sort_values('locality_name')['locality_name'].value_counts()\n",
    "#вроде все на месте"
   ]
  },
  {
   "cell_type": "code",
   "execution_count": null,
   "id": "c826bca7-efd4-4f19-aaaf-29524c9aab32",
   "metadata": {},
   "outputs": [],
   "source": [
    "#измним формат даты, уберем лишнее\n",
    "flat['first_day_exposition'] = pd.to_datetime(flat['first_day_exposition'], format = '%Y-%m-%d')\n",
    "#flat['first_day_exposition'].head(5)\n",
    "#balcony to int\n",
    "flat['balcony'] = flat['balcony'].astype('int', errors='ignore')\n",
    "# floors_total- to int\n",
    "flat['floors_total'] = flat['floors_total'].astype('int', errors='ignore')\n",
    "#is_apartment – to bool\n",
    "flat['is_apartment'] = flat['is_apartment'].astype('bool', errors='ignore')\n",
    "#days_exposition to int\n",
    "flat['days_exposition'] = flat['days_exposition'].astype('int', errors='ignore')\n",
    "#'last_price' to int\n",
    "flat['last_price'] = flat['last_price'].astype('int', errors='ignore')\n",
    "flat['total_area'] = flat['total_area'].astype('int', errors='ignore').round(2)\n",
    "\n",
    "flat.info()"
   ]
  },
  {
   "cell_type": "markdown",
   "id": "857e9cb9-4a48-4d9b-90a4-5ad4b7d491da",
   "metadata": {},
   "source": [
    "**Выводы по предобработке:** \n",
    "\n",
    "<br/>**first_day_exposition** – поправил формат\n",
    "<br/>**ceiling_height** – заменили отсутствующие и сказочные значения на стандартную высоту потолков в России 2.5., потому что если продавец поленился измерить высту потолков или попросту не посчитал этот параметр важным, значит он не влияет на стоимость квартиры и, следовательно, является стандартным по России. Кроме того, были 100 метровые потолки - удалии(1 значение).Странные значения от 4 метров и выше заменил на стандартные 2,5, 25 и 27 метров - здесь можно сделать вывод, что это артефакт и в этих цифрах просто не проставили запятую в нужном месте - исправил (19 значения). В дальнейшем посмотрим не осталось ли выбивающихся значений. Думаю основная причина пропусков и неверных диких значений  -  это недобросовестное заполнение этих пунктов пользователем.\n",
    "<br/>**living_area (1903 пропуска) - для этих строк пвзял среднюю жилую площадь для n - комнатной квартиры. \n",
    "\n",
    "\n",
    "<br/>**is_apartment** – никто не знает что это значит, кроме тех кто продает апартаменты, будем считать, что все NaNы – это false, потому что, человек, когдато купивший апарты должен был разобраться что это и, соответственно, при продаже обратитть внимание на этот пункт. Есть еще вариант, что данные начали собирать до того как появилась такая категория жилья. В любом случае восстановить эти значения по имеющимся данным не получится (можно было оставить пропуски)\n",
    "<br/>**balcony** – nan заменим на 0  -балкон если есть его надо указывать это влияет на стоимость, вряд ли кто то поленился указать.  \n",
    "<br/>**airports_nearest** – оставил\n",
    "<br/>**locality_name** - по расстоянию от центра присвоили некоторым пропущенным значениям название \"Санкт-Петербург\" \n",
    "<br/>**cityCenters_nearest, parks_around3000, parks_nearest, ponds_around3000, days_exposition** – оставил пропуски\n",
    "<br/>**типы данных поменять**\n",
    "\n",
    "Произвел замену типов данных для красоты и удобства\n",
    "\n",
    "**Дубликатов нет**"
   ]
  },
  {
   "cell_type": "markdown",
   "id": "d2343939-1038-49b8-ad63-c36e8e869d95",
   "metadata": {},
   "source": [
    "### Шаг 3. Посчитайте и добавьте в таблицу"
   ]
  },
  {
   "cell_type": "code",
   "execution_count": null,
   "id": "b50295a4-d5c5-434a-b24d-f4d2520122df",
   "metadata": {},
   "outputs": [],
   "source": [
    "#Добавляем в таблицу:\n",
    "#цену кв. метра\n",
    "#день недели месяц и год рубликации объявления\n",
    "flat['price_per_sqmeters'] = (flat['last_price'] / flat['total_area']).astype('int')\n",
    "flat['post_weekday'] = flat['first_day_exposition'].dt.weekday\n",
    "flat['post_month'] = flat['first_day_exposition'].dt.month\n",
    "flat['post_year'] = flat['first_day_exposition'].dt.year\n",
    "#Этаж квартиры(первый последний, другой)\n",
    "def floor_category(row):\n",
    "    if row['floor'] == 1:\n",
    "        return 'первый'\n",
    "    elif row['floor'] == row['floors_total']:\n",
    "        return 'последний'\n",
    "    return 'другой'\n",
    "flat['floor_category'] = flat.apply(floor_category, axis=1)\n",
    "#Отношение жилой и общей площади\n",
    "flat['useful_area'] = flat['living_area'] / flat['total_area']\n",
    "#Отношение площади кухни к общей\n",
    "flat['kitchen_ratio_total_area'] = flat['kitchen_area'] / flat['total_area']\n",
    "flat.head()"
   ]
  },
  {
   "cell_type": "code",
   "execution_count": null,
   "id": "24548d7c-3bf1-486e-9691-9475ad7e28b4",
   "metadata": {},
   "outputs": [],
   "source": [
    "flat['ceiling_height'].value_counts()\n"
   ]
  },
  {
   "cell_type": "markdown",
   "id": "ac841fea-0886-4448-8339-2896a333388a",
   "metadata": {},
   "source": [
    "## ВЫВОД:\n",
    "**Произвел рассчеты параметров, необходимых для анализа данных, и добавил их в таблицу**"
   ]
  },
  {
   "cell_type": "markdown",
   "id": "f79ee723-05ca-48b2-9800-afee7767a81b",
   "metadata": {},
   "source": [
    "## Шаг 4. Проведите исследовательский анализ данных и выполните инструкции:"
   ]
  },
  {
   "cell_type": "markdown",
   "id": "697b0394-25ff-4056-ab84-d9d5ba72ebe5",
   "metadata": {},
   "source": [
    "***4.1 Изучите следующие параметры: площадь, цeна, число комнат, высота потолков. Постройте гистортщграммы для каждого параметра***"
   ]
  },
  {
   "cell_type": "code",
   "execution_count": null,
   "id": "5f5a14f2-b9de-4f67-b094-d95a3b053bd3",
   "metadata": {},
   "outputs": [],
   "source": [
    "#изучем параметры\n",
    "flat[['total_area', 'rooms', 'ceiling_height']].describe()"
   ]
  },
  {
   "cell_type": "code",
   "execution_count": null,
   "id": "13634f17-c76b-4e0b-a657-b9b3baed6bcb",
   "metadata": {},
   "outputs": [],
   "source": [
    "#гистограмму для total_area\n",
    "flat.plot(y='total_area', kind='hist', bins=100, grid=True, figsize=(20,5), range=(0,300))\n",
    "plt.xlabel(\"total_area\")\n",
    "plt.ylabel(\"Frequency\")"
   ]
  },
  {
   "cell_type": "code",
   "execution_count": null,
   "id": "4ffae317-d331-4c73-a445-a132c254d7c0",
   "metadata": {},
   "outputs": [],
   "source": [
    "flat['last_price'] = flat['last_price'] / 1000\n",
    "flat['last_price'].describe()"
   ]
  },
  {
   "cell_type": "code",
   "execution_count": null,
   "id": "edc03776-c6ed-489e-a673-ee7975ea5fd4",
   "metadata": {},
   "outputs": [],
   "source": [
    "#гистограмма для last_price\n",
    "flat.plot(y='last_price', kind='hist', bins=100, grid=True, range=(400,13000), figsize=(10,5))\n",
    "plt.xlabel('last_price')"
   ]
  },
  {
   "cell_type": "code",
   "execution_count": null,
   "id": "0b2c3e1c-7c3e-46be-838c-6607b21bed8c",
   "metadata": {},
   "outputs": [],
   "source": [
    "#гистограмма для rooms\n",
    "flat.plot(y='rooms', kind='hist', bins=30, grid=True, range=(0,20), figsize=(10,5))\n",
    "plt.xlabel('rooms')"
   ]
  },
  {
   "cell_type": "code",
   "execution_count": null,
   "id": "35d0246e-219f-4147-9ff8-aa53cd3d46d1",
   "metadata": {},
   "outputs": [],
   "source": [
    "#гистограмма для ceiling_height\n",
    "flat.plot(y='ceiling_height', kind='hist', bins=10, grid=True, range=(2,5), figsize=(10,5))\n",
    "plt.xlabel(\"ceiling_height\")"
   ]
  },
  {
   "cell_type": "markdown",
   "id": "4008b1a8-afa0-407a-b5cd-b21e64fe1b32",
   "metadata": {},
   "source": [
    "### Выводы по 4.1:\n",
    "**В выборку попали площади попали от 12 до 900 кв. м. Среднее значение 60. Большая часть продаваемых квартир - это квартиры 40-60 кв. м\n",
    "Стоимость активно продаваемого жилья 3,4 - 6,8 млн. руб. в основном это 1,2,3х комнатные квартиры, преобладают 1,2х комнатные. Высота потолков в основном 2,5 - 2,7 м., есть 3х метровые**  \n"
   ]
  },
  {
   "cell_type": "markdown",
   "id": "811c06fe-208e-4031-a117-f0a4a203e8f6",
   "metadata": {},
   "source": [
    "## 4.2.\n",
    "***Изучите время продажи квартиры. Постройте гистограмму. Посчитайте среднее и медиану. Сделать выводы.***"
   ]
  },
  {
   "cell_type": "code",
   "execution_count": null,
   "id": "4e36b6a9-5f36-46e8-8be3-c9604a3ea8d6",
   "metadata": {},
   "outputs": [],
   "source": [
    "flat['days_exposition'].describe()"
   ]
  },
  {
   "cell_type": "code",
   "execution_count": null,
   "id": "9fe1c4e6-8a68-41d4-8229-908eeeb3d498",
   "metadata": {},
   "outputs": [],
   "source": [
    "**Максимум квартиру продавали 4 с лишним года. В среднем квартира продается за пол года. Ходя медиана около 4 месяцев.**"
   ]
  },
  {
   "cell_type": "code",
   "execution_count": null,
   "id": "7ba8fe4c-ec99-4615-8258-80958ca24ff8",
   "metadata": {},
   "outputs": [],
   "source": [
    "flat.plot(y = 'days_exposition', kind = 'hist', bins = 30, grid = True, figsize=(10,5), range = (1,1600))\n",
    "plt.xlabel(\"days_exposition\")\n",
    "\n"
   ]
  },
  {
   "cell_type": "code",
   "execution_count": null,
   "id": "eec9d460-0f4f-4a78-9728-2556453e9df3",
   "metadata": {},
   "outputs": [],
   "source": [
    "#посмотрим выбросы\n",
    "flat.boxplot(column='days_exposition')"
   ]
  },
  {
   "cell_type": "code",
   "execution_count": null,
   "id": "40cc9f20-7a77-4a1a-a3c2-7005c0f2f02f",
   "metadata": {},
   "outputs": [],
   "source": [
    "#построим гистограмму без выбросов\n",
    "flat.plot(y = 'days_exposition', kind = 'hist', bins = 100, grid = True, figsize=(10,5), range = (1,500))\n",
    "plt.xlabel('days_exposition')"
   ]
  },
  {
   "cell_type": "code",
   "execution_count": null,
   "id": "e73f0fa2-63b2-4c4a-a165-47cf1e8e9129",
   "metadata": {},
   "outputs": [],
   "source": [
    "#посмотрим, что за пики\n",
    "flat.plot(y = 'days_exposition', kind = 'hist', bins = 70, grid = True, figsize=(10,5), range = (40,70))\n",
    "plt.xlabel(\"total_area\")"
   ]
  },
  {
   "cell_type": "markdown",
   "id": "c2ee9f6f-e1d6-4c4b-9813-8ffc638d1f87",
   "metadata": {},
   "source": [
    "## Выводы по 4.2:\n",
    "**в основной массе квартиры продаются в первые 90 дней. Максимум квартиру продавали 4 с лишним года . В среднем квартира продается за пол года. Медианное значение около 4 месяцев. Странные пики на 45 и 60 могут быть системными (например снятие обьявление с публикации через опр период)**"
   ]
  },
  {
   "cell_type": "markdown",
   "id": "442d106f-9593-4d70-8a5e-45a18f6db6f1",
   "metadata": {},
   "source": [
    "## 4.3 \n",
    "**Изучите, зависит ли цена от площади, числа комнат, удаленности от центра. <br/>Цена от этажа, на кот. расположена кв. <br/>Цена от даты размещения: дня, месяца, года**"
   ]
  },
  {
   "cell_type": "code",
   "execution_count": null,
   "id": "c4cc8a88-0b06-43fb-b354-f9a4e6733b10",
   "metadata": {},
   "outputs": [],
   "source": [
    "#total_area\n",
    "total_area_relation = flat.pivot_table(index = 'total_area', values = 'price_per_sqmeters', aggfunc = ['mean', 'median'])\n",
    "total_area_relation.columns = ['mean', 'median']\n",
    "total_area_relation.sort_values('mean', ascending=False)"
   ]
  },
  {
   "cell_type": "code",
   "execution_count": null,
   "id": "b7530795-1405-4ef6-a3d0-9b659387dbe3",
   "metadata": {},
   "outputs": [],
   "source": [
    "flat['total_area'].corr(flat['price_per_sqmeters'])\n",
    "#с увеличением площади цена растет, но незначительно!"
   ]
  },
  {
   "cell_type": "code",
   "execution_count": null,
   "id": "9773e49c-1d22-447b-a6d3-3e559c78622a",
   "metadata": {},
   "outputs": [],
   "source": [
    "flat.plot(x='total_area', y='price_per_sqmeters', kind='scatter') "
   ]
  },
  {
   "cell_type": "code",
   "execution_count": null,
   "id": "6fea6875-c2ce-431c-8382-d89b46233236",
   "metadata": {},
   "outputs": [],
   "source": [
    "(flat\n",
    "         .query('price_per_sqmeters < 250000 and total_area < 200')\n",
    "         #.plot(x='total_area', y='price_per_sqmeters', kind='hexbin', gridsize=15, figsize=(10,5), sharex=False, grid=True)\n",
    "         .plot(x='total_area', y='price_per_sqmeters', kind='scatter',figsize=(20,10), alpha=0.3)\n",
    ")"
   ]
  },
  {
   "cell_type": "markdown",
   "id": "786a98af-a892-44a2-ac36-75afbc4e5b75",
   "metadata": {},
   "source": [
    "### ВЫВОД : \n",
    "**с жильем до 100 м кв. цена колеблется примерно от 25000 до 200000 т. С увеличением площади жилья прослеживается незначительный рост цены за кв. метр. С увеличением площади жилья разброс цен сужается - завышать стоимость жилья на значительные площади сложнее, поэтому цена за кв метр стремится к средним значениям**"
   ]
  },
  {
   "cell_type": "code",
   "execution_count": null,
   "id": "47d56303-c1b0-4043-b324-a5aeb8d03889",
   "metadata": {},
   "outputs": [],
   "source": [
    "#число комнат\n",
    "rooms_relation = flat.pivot_table(index = 'rooms', values = 'last_price', aggfunc = ['mean', 'count', 'median'])\n",
    "rooms_relation.columns = ['mean', 'count', 'median']\n",
    "rooms_relation.sort_values('rooms')"
   ]
  },
  {
   "cell_type": "code",
   "execution_count": null,
   "id": "5e66455e-51ca-4547-bec6-b1c6bb154b98",
   "metadata": {},
   "outputs": [],
   "source": [
    "(rooms_relation\n",
    "                 .query('median < 300000')\n",
    "                 .plot(y='median', style='-')\n",
    ")\n",
    "#цена растет до 7 комна"
   ]
  },
  {
   "cell_type": "code",
   "execution_count": null,
   "id": "5719e654-c135-4cae-8aae-49f1cf0d587c",
   "metadata": {},
   "outputs": [],
   "source": [
    "flat['rooms'].corr(flat['last_price'])"
   ]
  },
  {
   "cell_type": "code",
   "execution_count": null,
   "id": "a758f015-c63f-424e-89ca-90cbbb330129",
   "metadata": {},
   "outputs": [],
   "source": [
    "rooms_relation = flat.pivot_table(index = 'rooms', values = 'price_per_sqmeters', aggfunc = ['mean', 'count', 'median'])\n",
    "rooms_relation.columns = ['mean', 'count', 'median']\n",
    "rooms_relation.sort_values('rooms')"
   ]
  },
  {
   "cell_type": "code",
   "execution_count": null,
   "id": "bd4947d9-eb99-4219-8aac-00ac3e13fd4d",
   "metadata": {},
   "outputs": [],
   "source": [
    "(rooms_relation\n",
    "                 .query('median < 300000')\n",
    "                 .plot(y='median', style='o')\n",
    ")"
   ]
  },
  {
   "cell_type": "markdown",
   "id": "0a5337b7-e314-4d1f-9840-866591eacdae",
   "metadata": {},
   "source": [
    "## Вывод:\n",
    "**Стоимость квартиры логично повышается с увеличением числа комнат. Но квартиры от 7 до 10 комнат судя по графику стоят почти одинаково. Стоимость квадратного метра жилья снижается до 3х комнатных квартир. Судя по графику самая низкая стоимость квадратного метра жилья у 3х комнатных квартир. от 3х комнат и выше стоимость квадратного метра внова растет.** "
   ]
  },
  {
   "cell_type": "markdown",
   "id": "d9a9d27c-3d02-4e9b-97d4-39209950c39e",
   "metadata": {},
   "source": [
    "### Удаленность от центра - цена"
   ]
  },
  {
   "cell_type": "code",
   "execution_count": null,
   "id": "44641c22-1e04-49a2-ac80-acb3bae60517",
   "metadata": {},
   "outputs": [],
   "source": [
    "center_relation = flat.pivot_table(index = 'last_price', values = 'cityCenters_nearest')\n",
    "#rooms_relation.columns = ['mean', 'count', 'median']\n",
    "center_relation.sort_values('last_price')"
   ]
  },
  {
   "cell_type": "code",
   "execution_count": null,
   "id": "edbe1ba7-20dc-4017-9a39-14342d91e801",
   "metadata": {},
   "outputs": [],
   "source": [
    "(center_relation\n",
    "                 .query('last_price < 150000 and cityCenters_nearest < 30000')\n",
    "                 .plot(style='o', figsize=(10,6))\n",
    ")"
   ]
  },
  {
   "cell_type": "markdown",
   "id": "baa2b517-474e-4577-b38f-3637c8ee4c68",
   "metadata": {},
   "source": [
    "### ВЫВОД:\n",
    "**ближе к центру города определенно увеличивается сегмент дорогого жилья, но нижняя граница цен растет незначительно, т.е в центре есть некий сегмент недвижимости по стандартным для города ценам - вопрос, что это за жилье и какого уровня.**"
   ]
  },
  {
   "cell_type": "markdown",
   "id": "ea2de01f-09b1-4693-9142-3553264d9e72",
   "metadata": {},
   "source": [
    "### Цена от этажа, на кот. расположена кв."
   ]
  },
  {
   "cell_type": "code",
   "execution_count": null,
   "id": "24805f0b-205d-492d-94b3-6a7d53d13665",
   "metadata": {},
   "outputs": [],
   "source": [
    "floor_relation = flat.pivot_table(index = 'floor_category', values = 'last_price', aggfunc = ['mean', 'count', 'median'])\n",
    "floor_relation.columns = ['mean', 'count', 'median']\n",
    "floor_relation.sort_values('mean')"
   ]
  },
  {
   "cell_type": "code",
   "execution_count": null,
   "id": "ba90cffa-2908-414a-97c6-736de9ab4fcc",
   "metadata": {},
   "outputs": [],
   "source": [
    "(floor_relation\n",
    "                 #.query('median < 6000 and floor < 12 and count > 200')\n",
    "                 .plot(y='median', style='-', figsize=(10,6))\n",
    ")"
   ]
  },
  {
   "cell_type": "markdown",
   "id": "9c9c28e3-64ce-4b4f-990c-15a8faf5f428",
   "metadata": {},
   "source": [
    "### ВЫВОД:\n",
    "***самый дешевый первый этаж, посдледний деше стоит дешевле чем другие, но дороже чем первый*** "
   ]
  },
  {
   "cell_type": "markdown",
   "id": "4b65671e-daa5-431f-b2b5-3dbd68a3c309",
   "metadata": {},
   "source": [
    "## Цена от даты размещения: дня, месяца, года"
   ]
  },
  {
   "cell_type": "code",
   "execution_count": null,
   "id": "56ac7f76-5bb6-4b16-b939-b3ed994a67be",
   "metadata": {},
   "outputs": [],
   "source": [
    "post_year_relation = flat.pivot_table(index = 'post_year', values = 'last_price', aggfunc = ['mean', 'count', 'median'])\n",
    "post_year_relation.columns = ['mean', 'count', 'median']\n",
    "post_year_relation.sort_values('post_year')\n",
    "(post_year_relation\n",
    "                 #.query('median < 6000 and floor < 12 and count > 200')\n",
    "                 .plot(y='mean', kind='bar', figsize=(10,6))\n",
    ")"
   ]
  },
  {
   "cell_type": "markdown",
   "id": "b705aee9-51b6-4d10-9ebb-ff51a3be7af1",
   "metadata": {},
   "source": [
    "**ВЫВОД: рекордные цены по выборке в 2014 году - скорее всего это было спровоцированно валютным кризисом 2014-2015 г, далее все пошло на спад и к 2016 цена нормализовалась. в 2018 - заметное снижение** "
   ]
  },
  {
   "cell_type": "code",
   "execution_count": null,
   "id": "5879ab46-d6ac-422c-b143-1341616ed103",
   "metadata": {},
   "outputs": [],
   "source": [
    "post_month_relation = flat.pivot_table(index = 'post_month', values = 'last_price', aggfunc = ['mean', 'count', 'median'])\n",
    "post_month_relation.columns = ['mean', 'count', 'median']\n",
    "post_month_relation.sort_values('post_month')\n",
    "(post_month_relation\n",
    "                 #.query('median < 6000 and floor < 12 and count > 200')\n",
    "                 .plot(y='mean', kind='bar', figsize=(10,6))\n",
    ")"
   ]
  },
  {
   "cell_type": "markdown",
   "id": "e5eafbe8-9548-4ca7-8a4d-d6e4a9272880",
   "metadata": {},
   "source": [
    "### ВЫВОД\n",
    "***цена циклически снижается - повышается по кварталам, начиная с начала года. Пик в сентябре нарушает картину - возможно, какие то события подхлестнули спрос!***"
   ]
  },
  {
   "cell_type": "code",
   "execution_count": null,
   "id": "fc97b27c-3284-4ee2-a1ea-52b4deafe5b4",
   "metadata": {},
   "outputs": [],
   "source": [
    "day_relation = flat.pivot_table(index = 'post_weekday', values = 'last_price', aggfunc = ['mean', 'count', 'median'])\n",
    "day_relation.columns = ['mean', 'count', 'median']\n",
    "day_relation.sort_values('post_weekday')"
   ]
  },
  {
   "cell_type": "code",
   "execution_count": null,
   "id": "e7382e63-5295-486d-b5be-d980348dd394",
   "metadata": {},
   "outputs": [],
   "source": [
    "(day_relation\n",
    "                 #.query('median < 6000 and floor < 12 and count > 200')\n",
    "                 .plot(y='mean', kind='bar', figsize=(10,6))\n",
    ")"
   ]
  },
  {
   "cell_type": "markdown",
   "id": "245652be-aa8e-4fe4-b2f5-f0a62d4b574e",
   "metadata": {},
   "source": [
    "### ВЫВОД:\n",
    "***зависимость не прослеживается. Единственное, что можно увидеть - повышение цены в субботу***"
   ]
  },
  {
   "cell_type": "markdown",
   "id": "ce4bb5ce-70d6-4991-92a8-dfd3d36b9a2c",
   "metadata": {},
   "source": [
    "### 5. ***Выбрать 10 населенных пунктов с наибольшим числом обьявления. найди для них среднюю цену. найти населенные пункты с самой низкой и самой высокой стоимостью жилья***"
   ]
  },
  {
   "cell_type": "code",
   "execution_count": null,
   "id": "59bccf54-759c-44ef-a189-7f0b1691b092",
   "metadata": {},
   "outputs": [],
   "source": [
    "top_10 = flat['locality_name'].value_counts().index.tolist()[:10]\n",
    "high_low_top_price = [flat[flat['locality_name'] == city]['last_price'].median() for city in top_10]\n",
    "frame = {'Город': top_10, 'цена': high_low_top_price}\n",
    "df = pd.DataFrame(frame).sort_values('цена', ascending=False)\n",
    "df"
   ]
  },
  {
   "cell_type": "markdown",
   "id": "2ed80d75-1f96-4a04-bde0-f0f35225c46c",
   "metadata": {},
   "source": [
    "### ВЫВОД:\n",
    "**Самые дорогие квартиры в Санкт-Петербурге и Пушкине, самые дшевые в Выборге!**"
   ]
  },
  {
   "cell_type": "markdown",
   "id": "577c7ec9-cff0-4ab7-b29f-b6628b5746b2",
   "metadata": {},
   "source": [
    "### График для расстояния от центра"
   ]
  },
  {
   "cell_type": "code",
   "execution_count": null,
   "id": "fe9adba8-736f-4b57-af9a-4a587fba954a",
   "metadata": {},
   "outputs": [],
   "source": [
    "spb_flats = flat.query('locality_name == \"Санкт-Петербург\"')"
   ]
  },
  {
   "cell_type": "code",
   "execution_count": null,
   "id": "7bd2049b-b119-4caf-9248-b5eb362b4e05",
   "metadata": {},
   "outputs": [],
   "source": [
    "spb_flats.loc[:, 'cityCenters_nearest_km'] = (spb_flats.loc[:, 'cityCenters_nearest'] / 1000).round()\n",
    "spb_flats.head(10)"
   ]
  },
  {
   "cell_type": "code",
   "execution_count": null,
   "id": "71369bf4-814b-4daf-ae27-27c3a1dc39df",
   "metadata": {},
   "outputs": [],
   "source": [
    "km_relation = spb_flats.pivot_table(index = 'cityCenters_nearest_km', values = 'last_price', aggfunc = ['mean', 'count', 'median'])\n",
    "km_relation.columns = ['mean', 'count', 'median']\n",
    "km_relation.sort_values('cityCenters_nearest_km')"
   ]
  },
  {
   "cell_type": "code",
   "execution_count": null,
   "id": "fd3293df-2ffb-42a4-8576-268ab0f6914e",
   "metadata": {},
   "outputs": [],
   "source": [
    "(km_relation\n",
    "                 .query('cityCenters_nearest_km < 100')\n",
    "                 .plot(y='median', style='-', figsize=(10,6))\n",
    ")"
   ]
  },
  {
   "cell_type": "markdown",
   "id": "e2d511f1-cba6-4d42-a048-146b34078cee",
   "metadata": {},
   "source": [
    "### ВЫВОД: \n",
    "***график показал что цена резко меняется в сторону увеличения на 1,3 км - определим это как самый центр. Общий рост график показывает на 9 км -этот радиус и будем считать центром города. Есть пики на 20, и даже 30 км - скорое всего они относятся к неким элитным районам, пользующимся спросом вне зависимости от удаленности от центра.*** "
   ]
  },
  {
   "cell_type": "markdown",
   "id": "254eca69-6962-4742-9217-3fb0a0513098",
   "metadata": {},
   "source": [
    "### Смотрим на квартиры в центре"
   ]
  },
  {
   "cell_type": "code",
   "execution_count": null,
   "id": "e337b8a8-daad-4f08-8a4e-72399059f99d",
   "metadata": {},
   "outputs": [],
   "source": [
    "spbCenter_data = spb_flats.query('cityCenters_nearest_km < 9')\n",
    "spbCenter_data"
   ]
  },
  {
   "cell_type": "code",
   "execution_count": null,
   "id": "f8bf5c87-9418-467a-ab18-a67a0a1598dd",
   "metadata": {},
   "outputs": [],
   "source": [
    "spbCenter_data[['last_price', 'total_area', 'rooms', 'ceiling_height']].describe()"
   ]
  },
  {
   "cell_type": "code",
   "execution_count": null,
   "id": "b842dcf6-25de-4a9f-98ad-c82dae15b910",
   "metadata": {},
   "outputs": [],
   "source": [
    "flat[['last_price', 'total_area', 'rooms', 'ceiling_height']].describe()"
   ]
  },
  {
   "cell_type": "code",
   "execution_count": null,
   "id": "7f9c51b2-0792-4f64-8ce8-6f851b369631",
   "metadata": {},
   "outputs": [],
   "source": [
    "flat.info()"
   ]
  },
  {
   "cell_type": "code",
   "execution_count": null,
   "id": "f18d1676-52e5-441d-b80f-3a8e0d9b06b8",
   "metadata": {},
   "outputs": [],
   "source": [
    "#посмотррим завиимость стоимости кв метра от этажа в центре.\n",
    "spbCenter_floor_relation = spbCenter_data.pivot_table(index = 'floor_category', values = 'price_per_sqmeters', aggfunc = ['mean', 'count', 'median'])\n",
    "spbCenter_floor_relation.columns = ['mean', 'count', 'median']\n",
    "spbCenter_floor_relation.plot(y = 'median')\n",
    "spbCenter_floor_relation"
   ]
  },
  {
   "cell_type": "markdown",
   "id": "4c1fb5b7-d6b4-45c1-8644-1d1af2cd2902",
   "metadata": {},
   "source": [
    "**ВЫВОД: В центре зависимость стоимости квадратного метра жилья от этажности сохраняется такая же как и по остальным районам первый - самый дешевый, последний подороже, чемпервый, остальные - в пользуются спросом и стоят дороже.**"
   ]
  },
  {
   "cell_type": "code",
   "execution_count": null,
   "id": "5cb2bebd-fd64-41a5-a243-c65245c403ad",
   "metadata": {},
   "outputs": [],
   "source": [
    "#смотрим зависимость стоимости жилья в центре от количества комнат\n",
    "spbCenter_rooms_relation = spbCenter_data.pivot_table(index = 'rooms', values = 'price_per_sqmeters', aggfunc = ['mean', 'count', 'median'])\n",
    "spbCenter_rooms_relation.columns = ['mean', 'count', 'median']\n",
    "spbCenter_rooms_relation.plot(y = 'median')\n",
    "spbCenter_rooms_relation"
   ]
  },
  {
   "cell_type": "code",
   "execution_count": null,
   "id": "a5cbb2c2-041a-4914-a7e5-8ca26ef38f1d",
   "metadata": {},
   "outputs": [],
   "source": [
    "spbCenter_data['rooms'].corr(spbCenter_data['price_per_sqmeters'])"
   ]
  },
  {
   "cell_type": "markdown",
   "id": "131e4bfc-603c-47a2-ad15-0b1f1aba7f6b",
   "metadata": {},
   "source": [
    "**ВЫВОД: в центре зависимость цены от количества комнат незначительная.**"
   ]
  },
  {
   "cell_type": "code",
   "execution_count": null,
   "id": "a520e5e1-9321-4e8e-8820-dfcf64894e57",
   "metadata": {},
   "outputs": [],
   "source": [
    "#смотрим зависимость по удаленности от центра, хотя мы уже в центре! \n",
    "spbCenter_data.plot(kind = 'scatter', y = 'price_per_sqmeters', x = 'cityCenters_nearest', alpha=0.3 )\n",
    "spbCenter_data['cityCenters_nearest'].corr(spbCenter_data['price_per_sqmeters'])\n"
   ]
  },
  {
   "cell_type": "markdown",
   "id": "e3757de2-bbd4-428d-81e1-cfef817c4dcc",
   "metadata": {},
   "source": [
    "**ВЫВОД: изменений цены по всему центру не наблюдается, все ровненько**"
   ]
  },
  {
   "cell_type": "code",
   "execution_count": null,
   "id": "854481df-82c1-4395-a22a-adacd0ec1a5b",
   "metadata": {},
   "outputs": [],
   "source": [
    "#зависимость день недели стоимость кв метра в центре\n",
    "spbCenter_pw_relation = spbCenter_data.pivot_table(index = 'post_weekday', values = 'price_per_sqmeters', aggfunc = ['mean', 'count', 'median'])\n",
    "spbCenter_pw_relation.columns = ['mean', 'count', 'median']\n",
    "spbCenter_pw_relation.plot(y = 'mean')\n",
    "spbCenter_pw_relation"
   ]
  },
  {
   "cell_type": "markdown",
   "id": "5fdff22d-93ff-441f-94fd-a7f2bb738b21",
   "metadata": {},
   "source": [
    "**ВЫВОД: в обьявлениях, опубликовнных в субботу график показал всокую стоимости квадратного метра жилья, по сравнению с остальными днями. Также прослеживается снижение в среду и четверг. На общей выборке субботний пик также прослеживается**"
   ]
  },
  {
   "cell_type": "code",
   "execution_count": null,
   "id": "57572710-9b1c-4ea4-a4ac-18ff853525ac",
   "metadata": {},
   "outputs": [],
   "source": [
    "spbCenter_pm_relation = spbCenter_data.pivot_table(index = 'post_month', values = 'price_per_sqmeters', aggfunc = ['mean', 'count', 'median'])\n",
    "spbCenter_pm_relation.columns = ['mean', 'count', 'median']\n",
    "spbCenter_pm_relation.plot(y = 'mean')\n",
    "spbCenter_pm_relation"
   ]
  },
  {
   "cell_type": "markdown",
   "id": "08273062-919e-4806-9b7b-50cc5cbf65c3",
   "metadata": {},
   "source": [
    "**ВЫВОДЫ: апрель получился самым дорогим для покупки жилья в центре. Снижения в маеи октябре. В целов в общей ыборке болеен стабильная картина по росту и снижению**"
   ]
  },
  {
   "cell_type": "code",
   "execution_count": null,
   "id": "74d37304-8778-4f8e-bf4d-fd2215877ef1",
   "metadata": {},
   "outputs": [],
   "source": [
    "spbCenter_py_relation = spbCenter_data.pivot_table(index = 'post_year', values = 'price_per_sqmeters', aggfunc = ['mean', 'count', 'median'])\n",
    "spbCenter_py_relation.columns = ['mean', 'count', 'median']\n",
    "spbCenter_py_relation.plot(y = 'mean')\n",
    "spbCenter_py_relation"
   ]
  },
  {
   "cell_type": "markdown",
   "id": "f6364510-6049-4f69-bd78-f2b71a8d4833",
   "metadata": {},
   "source": [
    "**ВЫВОД: снижение до 2019 года, как и в общем случае.**"
   ]
  },
  {
   "cell_type": "markdown",
   "id": "2ff12e92-3bcd-45c6-99db-33946258a0e4",
   "metadata": {},
   "source": [
    "### Шаг 5. Общий вывод"
   ]
  },
  {
   "cell_type": "markdown",
   "id": "bdc97984-aafc-4445-8345-33c14f8ecfdc",
   "metadata": {},
   "source": [
    "Стояла задача научиться определять рыночную стоимость объектов недвижимости.\n",
    "Для этого необходимо установить параметры для построения автоматизированной системы, которая будет отслеживать аномалии и мошенническую деятельность.\n",
    "\n",
    "Предобработка данных включала в себя предварительный анализ данных, работу с пропущенными значениями значениями и типами данных, а также проверку на дубликаты, чистку данных от артефактов и выбивающихся значний.  \n",
    "Часть отсутствующих данных была восстановлена логическим путем и с использованием имеющихся данных. \n",
    " В целом, критических замечаний по сборке и обработке данных нет. Основные причины отсутствующих данных  - пользователь. Возможно есть необходимость добавлять всплывающие подсказки для некоторых граф (например is_epartment), для пояснения пользователю какие данные должна содержать графа и для чего. Для некоторых граф, таких как удаленность от центра, близость аэропорта, парка и пр. - рассмотреть возможность автоматического определения и заполнения растояний на основе данных гис.\n",
    " \n",
    "Далее были проведены расчеты и добавлены в таблицу небходимые для анализа параметры, проведена необходимая категоризация.\n",
    "\n",
    "Рассчитаны и добавлены к имеющимся данным:\n",
    "#цена кв. метра\n",
    "#день недели месяц и год рубликации объявления\n",
    "#Этаж квартиры разбит на категории(первый последний, другой)\n",
    "#Отношение жилой и общей площади\n",
    "#Отношение площади кухни к общей\n",
    "\n",
    "\n",
    "На следующем этапе, для определения зависимостей были изучены следующие параметры: площадь, цeна, число комнат, высота потолков. \n",
    "\n",
    "В выборку попали площади от 12 до 900 кв. м. Среднее значение 60. Большая часть продаваемых квартир - это квартиры 40-60 кв. м Стоимость активно продаваемого жилья 3,4 - 6,8 млн. руб. В основном это 1,2,3х комнатные квартиры, преобладают 1,2х комнатные. Высота потолков в основном 2,5 - 2,7 м., есть 3х метровые. \n",
    "\n",
    "Провели анализ время продажи квартиры:\n",
    "\n",
    "максимум квартиру продавали 4 с лишним года. В среднем квартира продается за пол года. Ходя медиана около 4 месяцев. В основной массе квартиры продаются в первые 90 дней. Максимум квартиру продавали 4 с лишним года . В среднем квартира продается за пол года. Медианное значение около 4 месяцев. Странные пики на 45 и 60 могут быть системными (например снятие обьявление с публикации через опр период)\n",
    "\n",
    "Эти данные необходимо использовать для формирования логики отслеживания выбивающихся и подозрительных значений.\n",
    "Так же, для того, что бы будущая система могла адекватно оценивать аномальную и мошенническую деятельность, были установлены зависимости цены от различных параметров продаваемого жилья ( площадь, число комнат, удаленность от центра, этаж, на кот. расположена кваритра).\n",
    "\n",
    "Были установлены следующие зависимости:\n",
    "\n",
    "**Цена зависит от площади жилья** \n",
    "с жильем до 100 м кв. цена колеблется примерно от 25000 до 200000 т. С увеличением площади жилья выше 100м кв., прослеживается незначительный рост цены за кв. метр. С увеличением площади жилья разброс цен сужается, предположительно завышать стоимость жилья на значительные площади сложнее, поэтому цена за кв. метр стремится к средним значениям.\n",
    "\n",
    "**Есть зависимость стоимости картиры от количества комнат:**\n",
    "Стоимость квартиры логично повышается с увеличением числа комнат. Но квартиры от 7 до 10 комнат судя по графику стоят почти одинаково. Стоимость квадратного метра жилья снижается до 3х комнатных квартир. Самая низкая стоимость квадратного метра жилья у 3х комнатных квартир. от 3х комнат и выше стоимость квадратного метра снова растет.\n",
    "\n",
    "**Установлена зависимость цены от удаленности от центра:**¶\n",
    "ближе к центру города определенно увеличивается сегмент дорогого жилья, но нижняя граница цен растет незначительно, т.е в центре есть некий сегмент недвижимости по стандартным для города ценам - вопрос, что это за жилье и какого уровня.\n",
    "\n",
    "**Есть четкая зависимость цены от этажа, на кот. расположена кв.**\n",
    "\n",
    "самый дешевый первый этаж, посдледний деше стоит дешевле чем другие, но дороже чем первый\n",
    "\n",
    "**Проведена проверка на наличие зависимости цены от даты размещения: дня, месяца, года:**\n",
    " Период в год скорее отражает общую рыночную ситуацию. Периоды в месяц и неделя четкоой зависимости не показывают.\n",
    "¶\n",
    "рекордные цены по выборке в 2014 году - скорее всего это было спровоцированно валютным кризисом 2014-2015 г, далее все пошло на спад и к 2016 цена нормализовалась. в 2018 - заметное снижение\n",
    "цена циклически снижается - повышается по кварталам, начиная с начала года. Пик в сентябре нарушает картину - возможно, какие то события подхлестнули спрос!\n",
    "зависимость не прослеживается. Единственное, что можно увидеть - повышение цены в субботу\n",
    "\n",
    "**Были оперделены минимум и максимум цены. А также населенные пункты с самой низкой и самой высокой стоимостью жилья¶**\n",
    "\n",
    "Самые дорогие квартиры в Санкт-Петербурге и Пушкине, самые дшевые в Выборге!\n",
    "\n",
    "**Следующим этапом был выделен и проанализирован сегмент квартир в центре города Санкт Петербург** \n",
    "\n",
    "\n",
    "В центре зависимость стоимости квадратного метра жилья от этажности сохраняется такая же как и по остальным районам первый - самый дешевый, последний подороже, чемпервый, остальные - в пользуются спросом и стоят дороже.\n",
    "В центре зависимость цены от количества комнат незначительная.\n",
    "Изменений цены по всему центру не наблюдается, все ровненько\n",
    "В обьявлениях, опубликовнных в субботу график показал всокую стоимости квадратного метра жилья, по сравнению с остальными днями. Также прослеживается снижение в среду и четверг. На общей выборке субботний пик также прослеживается\n",
    "Апрель получился самым дорогим для покупки жилья в центре. Снижения в маеи октябре. В целов в общей ыборке болеен стабильная картина по росту и снижению\n",
    "Снижение до 2019 года, как и в общем случае.\n"
   ]
  },
  {
   "cell_type": "code",
   "execution_count": null,
   "id": "dd57df01-cee5-462d-9619-769c320df81e",
   "metadata": {},
   "outputs": [],
   "source": []
  },
  {
   "cell_type": "code",
   "execution_count": null,
   "id": "4330aec1-2b46-4aa8-9c74-5248eb6e683c",
   "metadata": {},
   "outputs": [],
   "source": []
  },
  {
   "cell_type": "code",
   "execution_count": null,
   "id": "23632469-6a22-48a0-8194-6a9efbaf9667",
   "metadata": {},
   "outputs": [],
   "source": []
  },
  {
   "cell_type": "code",
   "execution_count": null,
   "id": "df7eb94c-6834-47bf-bbc6-8f9a099c81d8",
   "metadata": {},
   "outputs": [],
   "source": []
  },
  {
   "cell_type": "code",
   "execution_count": null,
   "id": "98ef90a9-2215-4e94-9eca-c1db25987e6c",
   "metadata": {},
   "outputs": [],
   "source": []
  },
  {
   "cell_type": "code",
   "execution_count": null,
   "id": "82434c0e-c7a2-4fc5-882b-57dae9db1996",
   "metadata": {},
   "outputs": [],
   "source": []
  },
  {
   "cell_type": "code",
   "execution_count": null,
   "id": "30b0d5ae-f888-4a0a-8d0e-297fb30d567a",
   "metadata": {},
   "outputs": [],
   "source": []
  },
  {
   "cell_type": "code",
   "execution_count": null,
   "id": "28a4ed86-c3a4-4a81-9532-9a31c70e80ac",
   "metadata": {},
   "outputs": [],
   "source": []
  }
 ],
 "metadata": {
  "kernelspec": {
   "display_name": "Python 3 (ipykernel)",
   "language": "python",
   "name": "python3"
  },
  "language_info": {
   "codemirror_mode": {
    "name": "ipython",
    "version": 3
   },
   "file_extension": ".py",
   "mimetype": "text/x-python",
   "name": "python",
   "nbconvert_exporter": "python",
   "pygments_lexer": "ipython3",
   "version": "3.9.12"
  }
 },
 "nbformat": 4,
 "nbformat_minor": 5
}
