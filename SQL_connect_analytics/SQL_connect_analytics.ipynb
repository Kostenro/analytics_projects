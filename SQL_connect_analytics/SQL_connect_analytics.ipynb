{
 "cells": [
  {
   "cell_type": "markdown",
   "id": "91495916-168f-4f33-af2c-54899d805cdd",
   "metadata": {},
   "source": [
    "<h2>Проект по SQL</h2>\n",
    "Крупный сервис для чтения книг по подписке.<br>\n",
    "Задача проанализировать базу данных.\n",
    "В ней — информация о книгах, издательствах, авторах, а также пользовательские обзоры книг.\n",
    "Эти данные помогут сформулировать ценностное предложение для нового продукта.\n",
    "\n",
    "<h3>Описание данных</h3>\n",
    "\n",
    "**Таблица books**\n",
    "\n",
    "Содержит данные о книгах: \n",
    "\n",
    "    book_id — идентификатор книги;\n",
    "    author_id — идентификатор автора;\n",
    "    title — название книги;\n",
    "    num_pages — количество страниц;\n",
    "    publication_date — дата публикации книги;\n",
    "    publisher_id — идентификатор издателя.\n",
    "\n",
    "**Таблица authors**\n",
    "\n",
    "Содержит данные об авторах:\n",
    "\n",
    "    author_id — идентификатор автора;\n",
    "    author — имя автора.\n",
    "\n",
    "**Таблица publishers**\n",
    "\n",
    "Содержит данные об издательствах:\n",
    "\n",
    "    publisher_id — идентификатор издательства;\n",
    "    publisher — название издательства;\n",
    "\n",
    "**Таблица ratings**\n",
    "\n",
    "Содержит данные о пользовательских оценках книг:\n",
    "\n",
    "    rating_id — идентификатор оценки;\n",
    "    book_id — идентификатор книги;\n",
    "    username — имя пользователя, оставившего оценку;\n",
    "    rating — оценка книги.\n",
    "    \n",
    "**Таблица reviews**\n",
    "\n",
    "Содержит данные о пользовательских обзорах:\n",
    "\n",
    "    review_id — идентификатор обзора;\n",
    "    book_id — идентификатор книги;\n",
    "    username — имя автора обзора;\n",
    "    text — текст обзора."
   ]
  },
  {
   "cell_type": "markdown",
   "id": "4c66c5fc-0cd4-4c75-b13e-a2bd3101d07e",
   "metadata": {},
   "source": [
    "**Задача**<br>\n",
    "* Посчитать, сколько книг вышло после 1 января 2000 года;<br>\n",
    "* Для каждой книги посчитать количество обзоров и среднюю оценку;<br>\n",
    "* Определить издательство, которое выпустило наибольшее число книг толще 50 страниц (так можно исключить из анализа брошюры;)<br>\n",
    "* Определить автора с самой высокой средней оценкой книг (учитываем только книги с 50 и более оценками;)<br>\n",
    "* Посчитаем среднее количество обзоров от пользователей, которые поставили больше 50 оценок.<br>\n",
    "\n",
    "**План**<br>\n",
    "* Цели исследования;<br>\n",
    "* Исследование таблиц — вывести первые строки;<br>\n",
    "* SQL-запросы для решения каждого задачи;<br>\n",
    "* Вывести результат каждого запроса;<br>\n",
    "* Выводы.<br>"
   ]
  },
  {
   "cell_type": "code",
   "execution_count": 3,
   "id": "03aeb119-4956-41e5-9a5f-5a5054dd106f",
   "metadata": {},
   "outputs": [
    {
     "ename": "ModuleNotFoundError",
     "evalue": "No module named 'psycopg2'",
     "output_type": "error",
     "traceback": [
      "\u001b[1;31m---------------------------------------------------------------------------\u001b[0m",
      "\u001b[1;31mModuleNotFoundError\u001b[0m                       Traceback (most recent call last)",
      "Input \u001b[1;32mIn [3]\u001b[0m, in \u001b[0;36m<cell line: 16>\u001b[1;34m()\u001b[0m\n\u001b[0;32m     10\u001b[0m connection_string \u001b[38;5;241m=\u001b[39m \u001b[38;5;124m'\u001b[39m\u001b[38;5;124mpostgresql://\u001b[39m\u001b[38;5;132;01m{}\u001b[39;00m\u001b[38;5;124m:\u001b[39m\u001b[38;5;132;01m{}\u001b[39;00m\u001b[38;5;124m@\u001b[39m\u001b[38;5;132;01m{}\u001b[39;00m\u001b[38;5;124m:\u001b[39m\u001b[38;5;132;01m{}\u001b[39;00m\u001b[38;5;124m/\u001b[39m\u001b[38;5;132;01m{}\u001b[39;00m\u001b[38;5;124m'\u001b[39m\u001b[38;5;241m.\u001b[39mformat(db_config[\u001b[38;5;124m'\u001b[39m\u001b[38;5;124muser\u001b[39m\u001b[38;5;124m'\u001b[39m],\n\u001b[0;32m     11\u001b[0m                                                          db_config[\u001b[38;5;124m'\u001b[39m\u001b[38;5;124mpwd\u001b[39m\u001b[38;5;124m'\u001b[39m],\n\u001b[0;32m     12\u001b[0m                                                          db_config[\u001b[38;5;124m'\u001b[39m\u001b[38;5;124mhost\u001b[39m\u001b[38;5;124m'\u001b[39m],\n\u001b[0;32m     13\u001b[0m                                                          db_config[\u001b[38;5;124m'\u001b[39m\u001b[38;5;124mport\u001b[39m\u001b[38;5;124m'\u001b[39m],\n\u001b[0;32m     14\u001b[0m                                                          db_config[\u001b[38;5;124m'\u001b[39m\u001b[38;5;124mdb\u001b[39m\u001b[38;5;124m'\u001b[39m])\n\u001b[0;32m     15\u001b[0m \u001b[38;5;66;03m# сохраняем коннектор\u001b[39;00m\n\u001b[1;32m---> 16\u001b[0m engine \u001b[38;5;241m=\u001b[39m \u001b[43mcreate_engine\u001b[49m\u001b[43m(\u001b[49m\u001b[43mconnection_string\u001b[49m\u001b[43m,\u001b[49m\u001b[43m \u001b[49m\u001b[43mconnect_args\u001b[49m\u001b[38;5;241;43m=\u001b[39;49m\u001b[43m{\u001b[49m\u001b[38;5;124;43m'\u001b[39;49m\u001b[38;5;124;43msslmode\u001b[39;49m\u001b[38;5;124;43m'\u001b[39;49m\u001b[43m:\u001b[49m\u001b[38;5;124;43m'\u001b[39;49m\u001b[38;5;124;43mrequire\u001b[39;49m\u001b[38;5;124;43m'\u001b[39;49m\u001b[43m}\u001b[49m\u001b[43m)\u001b[49m\n",
      "File \u001b[1;32m<string>:2\u001b[0m, in \u001b[0;36mcreate_engine\u001b[1;34m(url, **kwargs)\u001b[0m\n",
      "File \u001b[1;32m~\\anaconda3\\lib\\site-packages\\sqlalchemy\\util\\deprecations.py:309\u001b[0m, in \u001b[0;36mdeprecated_params.<locals>.decorate.<locals>.warned\u001b[1;34m(fn, *args, **kwargs)\u001b[0m\n\u001b[0;32m    302\u001b[0m     \u001b[38;5;28;01mif\u001b[39;00m m \u001b[38;5;129;01min\u001b[39;00m kwargs:\n\u001b[0;32m    303\u001b[0m         _warn_with_version(\n\u001b[0;32m    304\u001b[0m             messages[m],\n\u001b[0;32m    305\u001b[0m             versions[m],\n\u001b[0;32m    306\u001b[0m             version_warnings[m],\n\u001b[0;32m    307\u001b[0m             stacklevel\u001b[38;5;241m=\u001b[39m\u001b[38;5;241m3\u001b[39m,\n\u001b[0;32m    308\u001b[0m         )\n\u001b[1;32m--> 309\u001b[0m \u001b[38;5;28;01mreturn\u001b[39;00m fn(\u001b[38;5;241m*\u001b[39margs, \u001b[38;5;241m*\u001b[39m\u001b[38;5;241m*\u001b[39mkwargs)\n",
      "File \u001b[1;32m~\\anaconda3\\lib\\site-packages\\sqlalchemy\\engine\\create.py:560\u001b[0m, in \u001b[0;36mcreate_engine\u001b[1;34m(url, **kwargs)\u001b[0m\n\u001b[0;32m    558\u001b[0m         \u001b[38;5;28;01mif\u001b[39;00m k \u001b[38;5;129;01min\u001b[39;00m kwargs:\n\u001b[0;32m    559\u001b[0m             dbapi_args[k] \u001b[38;5;241m=\u001b[39m pop_kwarg(k)\n\u001b[1;32m--> 560\u001b[0m     dbapi \u001b[38;5;241m=\u001b[39m dialect_cls\u001b[38;5;241m.\u001b[39mdbapi(\u001b[38;5;241m*\u001b[39m\u001b[38;5;241m*\u001b[39mdbapi_args)\n\u001b[0;32m    562\u001b[0m dialect_args[\u001b[38;5;124m\"\u001b[39m\u001b[38;5;124mdbapi\u001b[39m\u001b[38;5;124m\"\u001b[39m] \u001b[38;5;241m=\u001b[39m dbapi\n\u001b[0;32m    564\u001b[0m dialect_args\u001b[38;5;241m.\u001b[39msetdefault(\u001b[38;5;124m\"\u001b[39m\u001b[38;5;124mcompiler_linting\u001b[39m\u001b[38;5;124m\"\u001b[39m, compiler\u001b[38;5;241m.\u001b[39mNO_LINTING)\n",
      "File \u001b[1;32m~\\anaconda3\\lib\\site-packages\\sqlalchemy\\dialects\\postgresql\\psycopg2.py:782\u001b[0m, in \u001b[0;36mPGDialect_psycopg2.dbapi\u001b[1;34m(cls)\u001b[0m\n\u001b[0;32m    780\u001b[0m \u001b[38;5;129m@classmethod\u001b[39m\n\u001b[0;32m    781\u001b[0m \u001b[38;5;28;01mdef\u001b[39;00m \u001b[38;5;21mdbapi\u001b[39m(\u001b[38;5;28mcls\u001b[39m):\n\u001b[1;32m--> 782\u001b[0m     \u001b[38;5;28;01mimport\u001b[39;00m \u001b[38;5;21;01mpsycopg2\u001b[39;00m\n\u001b[0;32m    784\u001b[0m     \u001b[38;5;28;01mreturn\u001b[39;00m psycopg2\n",
      "\u001b[1;31mModuleNotFoundError\u001b[0m: No module named 'psycopg2'"
     ]
    }
   ],
   "source": [
    "# доступ к базе данных по сертификату СА.pem добавляется в папку проекта\n",
    "# импорт библиотек\n",
    "\n",
    "import pandas as pd\n",
    "from sqlalchemy import create_engine\n",
    "# устанавливаем параметры\n",
    "db_config = {'user': '____________', # имя пользователя\n",
    "             'pwd': 'Sdf4$2;d-d30pp', # пароль\n",
    "             'host': 'rc1b-wcoijxj3yxfsf3fs.mdb.yandexcloud.net',\n",
    "             'port': 6432, # порт подключения\n",
    "             'db': 'data-analyst-final-project-db'} # название базы данных\n",
    "connection_string = 'postgresql://{}:{}@{}:{}/{}'.format(db_config['user'],\n",
    "                                                         db_config['pwd'],\n",
    "                                                         db_config['host'],\n",
    "                                                         db_config['port'],\n",
    "                                                         db_config['db'])\n",
    "# сохраняем коннектор\n",
    "engine = create_engine(connection_string, connect_args={'sslmode':'require'})"
   ]
  },
  {
   "cell_type": "code",
   "execution_count": null,
   "id": "48662f65-e3d1-4271-b914-b3c250f66dd4",
   "metadata": {},
   "outputs": [],
   "source": [
    "query = '''\n",
    "SELECT *\n",
    "FROM books\n",
    "LIMIT 5\n",
    "'''\n",
    "display(pd.io.sql.read_sql(query, con = engine))\n",
    "pd.io.sql.read_sql(query, con = engine).info()"
   ]
  },
  {
   "cell_type": "code",
   "execution_count": null,
   "id": "ae822484-cef5-475b-9cc8-b8cfd11b419e",
   "metadata": {},
   "outputs": [],
   "source": [
    "query = '''\n",
    "SELECT *\n",
    "FROM publishers\n",
    "LIMIT 5\n",
    "'''\n",
    "display(pd.io.sql.read_sql(query, con = engine))\n",
    "pd.io.sql.read_sql(query, con = engine).info()"
   ]
  },
  {
   "cell_type": "code",
   "execution_count": null,
   "id": "2115deec-f3fa-4c66-9743-6e5b3339071e",
   "metadata": {},
   "outputs": [],
   "source": [
    "query = '''\n",
    "SELECT *\n",
    "FROM ratings\n",
    "LIMIT 5\n",
    "'''\n",
    "display(pd.io.sql.read_sql(query, con = engine))\n",
    "pd.io.sql.read_sql(query, con = engine).info()"
   ]
  },
  {
   "cell_type": "code",
   "execution_count": null,
   "id": "3398a913-4b1e-4bdd-beb2-7e96d3b0c660",
   "metadata": {},
   "outputs": [],
   "source": [
    "query = '''\n",
    "SELECT *\n",
    "FROM reviews\n",
    "LIMIT 5\n",
    "'''\n",
    "display(pd.io.sql.read_sql(query, con = engine))\n",
    "pd.io.sql.read_sql(query, con = engine).info()"
   ]
  },
  {
   "cell_type": "markdown",
   "id": "6359d867-bd39-48a4-b060-32b2c8a9c989",
   "metadata": {},
   "source": [
    "<h2>Запросы по задаче¶</h2>"
   ]
  },
  {
   "cell_type": "markdown",
   "id": "2aea2446-4719-43ce-9aad-9da285db5b39",
   "metadata": {},
   "source": [
    "**2.1. Посчитаем, сколько книг вышло после 1 января 2000 года**"
   ]
  },
  {
   "cell_type": "code",
   "execution_count": null,
   "id": "eee3375f-c8d9-46b0-bc8f-621f79fed512",
   "metadata": {},
   "outputs": [],
   "source": [
    "query = '''\n",
    "SELECT\n",
    "    COUNT(DISTINCT book_id) AS book_cnt\n",
    "FROM\n",
    "    books\n",
    "WHERE\n",
    "    publication_date > '2000-01-01'\n",
    "'''\n",
    "pd.io.sql.read_sql(query, con = engine)"
   ]
  },
  {
   "cell_type": "markdown",
   "id": "15763acc-7ee3-4cbb-b077-14b6cff10b90",
   "metadata": {},
   "source": [
    "После 1 января 2000 года вышло 819 книг."
   ]
  },
  {
   "cell_type": "markdown",
   "id": "ab9494d7-b800-435f-bc37-eb30e77bf922",
   "metadata": {},
   "source": [
    "**2.2. Для каждой книги посчитаем количество обзоров и среднюю оценку**"
   ]
  },
  {
   "cell_type": "code",
   "execution_count": null,
   "id": "37b70fee-4f94-4236-ac75-fb531e81229c",
   "metadata": {},
   "outputs": [],
   "source": [
    "query = '''\n",
    "SELECT\n",
    "    books.book_id AS id,\n",
    "    books.title AS title,\n",
    "    COUNT(DISTINCT reviews.review_id) AS cnt_reviews,\n",
    "    ROUND(AVG(ratings.rating), 2) AS avg_rating\n",
    "FROM\n",
    "    books\n",
    "INNER JOIN reviews ON reviews.book_id = books.book_id\n",
    "INNER JOIN ratings ON ratings.book_id = books.book_id\n",
    "GROUP BY id\n",
    "ORDER BY  avg_rating DESC, cnt_reviews DESC\n",
    "'''\n",
    "pd.io.sql.read_sql(query, con = engine)"
   ]
  },
  {
   "cell_type": "markdown",
   "id": "c3dda124-4621-4b07-8ae0-ec808bd205c2",
   "metadata": {},
   "source": [
    "**2.3. Определим издательство, которое выпустило наибольшее число книг толще 50 страниц — так мы исключите из анализа брошюры**"
   ]
  },
  {
   "cell_type": "code",
   "execution_count": null,
   "id": "7a41c8a5-04ff-4cba-9882-2204a2377005",
   "metadata": {},
   "outputs": [],
   "source": [
    "query = '''\n",
    "SELECT\n",
    "    publishers.publisher as publisher,\n",
    "    COUNT(books.publisher_id) as cnt\n",
    "FROM\n",
    "    books\n",
    "INNER JOIN publishers ON publishers.publisher_id = books.publisher_id\n",
    "WHERE\n",
    "    books.num_pages > 50\n",
    "GROUP BY publisher\n",
    "ORDER BY cnt DESC\n",
    "LIMIT 10\n",
    "'''\n",
    "pd.io.sql.read_sql(query, con = engine)"
   ]
  },
  {
   "cell_type": "markdown",
   "id": "8206eb76-e240-4a3e-8e16-47a316b3af6f",
   "metadata": {},
   "source": [
    "Penguin Books выпустило больше всего книг объемом более 50 страниц."
   ]
  },
  {
   "cell_type": "markdown",
   "id": "0ec081bb-8a53-408f-a352-57edaf1d5433",
   "metadata": {},
   "source": [
    "**2.4. Определим автора с самой высокой средней оценкой книг — учитываем только книги с 50 и более оценками**"
   ]
  },
  {
   "cell_type": "code",
   "execution_count": null,
   "id": "2fd1821b-88ad-40bf-9c83-ea61ec188ac9",
   "metadata": {},
   "outputs": [],
   "source": [
    "query = '''\n",
    "SELECT \n",
    "    authors.author,\n",
    "    ROUND(AVG(rating), 2) AS avg_rating,\n",
    "    COUNT(rating_id) AS cnt_rating\n",
    "FROM\n",
    "    authors\n",
    "INNER JOIN books ON authors.author_id = books.author_id\n",
    "AND books.book_id IN (\n",
    "                    SELECT\n",
    "                        book_id\n",
    "                    FROM\n",
    "                        ratings\n",
    "                    GROUP BY\n",
    "                        book_id\n",
    "                    HAVING COUNT(rating_id) >= 50\n",
    "                    )\n",
    "INNER JOIN ratings ON books.book_id = ratings.book_id\n",
    "GROUP BY\n",
    "    authors.author\n",
    "ORDER BY AVG(rating) DESC\n",
    "    \n",
    "'''\n",
    "pd.io.sql.read_sql(query, con = engine)"
   ]
  },
  {
   "cell_type": "markdown",
   "id": "05b94d95-6fc6-450b-a0f4-d868c3faeb3b",
   "metadata": {},
   "source": [
    "Автор J.K. Rowling/Mary GrandPré имеет самую высокую среднюю оценку книг."
   ]
  },
  {
   "cell_type": "markdown",
   "id": "287241cb-5551-4b5b-82e7-29280fb40bd1",
   "metadata": {},
   "source": [
    "**2.5. Посчитаем среднее количество обзоров от пользователей, которые поставили больше 50 оценок***"
   ]
  },
  {
   "cell_type": "code",
   "execution_count": null,
   "id": "c5a2cc23-3f08-46b9-9ed5-d64b16978e5d",
   "metadata": {},
   "outputs": [],
   "source": [
    "query = '''\n",
    "SELECT\n",
    "    'Cреднее количество обзоров от пользователей:',\n",
    "    ROUND(AVG(cnt_reviews), 2) AS avg_cnt_reviews\n",
    "FROM\n",
    "    (SELECT\n",
    "        (SELECT\n",
    "            COUNT(*)\n",
    "        FROM\n",
    "            reviews\n",
    "        WHERE\n",
    "            username = ratings.username\n",
    "        ) AS cnt_reviews\n",
    "    FROM\n",
    "        ratings\n",
    "    GROUP BY\n",
    "        username\n",
    "    HAVING\n",
    "    COUNT(*) >= 50\n",
    "    ) AS SUBQ\n",
    "'''\n",
    "pd.io.sql.read_sql(query, con = engine)"
   ]
  },
  {
   "cell_type": "markdown",
   "id": "dab2e570-296a-4012-b3c4-66334510a4d4",
   "metadata": {},
   "source": [
    "* После 1 января 2000 года вышло 819 книг.\n",
    "* Penguin Books выпустило больше всего книг объемом более 50 страниц.\n",
    "* Автор J.K. Rowling/Mary GrandPré имеет самую высокую среднюю оценку книг.\n",
    "* Среднее количество обзоров от пользователей 24"
   ]
  },
  {
   "cell_type": "code",
   "execution_count": null,
   "id": "7520fdf3-110f-4f58-a2e2-658cdd89b958",
   "metadata": {},
   "outputs": [],
   "source": []
  },
  {
   "cell_type": "code",
   "execution_count": null,
   "id": "afd55a28-12ba-4ee8-a13b-a4cbdf9dac15",
   "metadata": {},
   "outputs": [],
   "source": []
  },
  {
   "cell_type": "code",
   "execution_count": null,
   "id": "8186c908-b08e-412b-a757-024741c057a1",
   "metadata": {},
   "outputs": [],
   "source": []
  },
  {
   "cell_type": "code",
   "execution_count": null,
   "id": "5a0db991-57f6-4b0e-8c54-ceaa91c63b25",
   "metadata": {},
   "outputs": [],
   "source": []
  },
  {
   "cell_type": "code",
   "execution_count": null,
   "id": "f59d2ee5-d3b0-4cd9-939b-2603870263dc",
   "metadata": {},
   "outputs": [],
   "source": []
  },
  {
   "cell_type": "code",
   "execution_count": null,
   "id": "756eee67-eff4-4f21-9581-c69d60c94e8c",
   "metadata": {},
   "outputs": [],
   "source": []
  },
  {
   "cell_type": "code",
   "execution_count": null,
   "id": "81a006c6-3937-4c1b-aee5-cf3592eb3efa",
   "metadata": {},
   "outputs": [],
   "source": []
  }
 ],
 "metadata": {
  "kernelspec": {
   "display_name": "Python 3 (ipykernel)",
   "language": "python",
   "name": "python3"
  },
  "language_info": {
   "codemirror_mode": {
    "name": "ipython",
    "version": 3
   },
   "file_extension": ".py",
   "mimetype": "text/x-python",
   "name": "python",
   "nbconvert_exporter": "python",
   "pygments_lexer": "ipython3",
   "version": "3.9.12"
  }
 },
 "nbformat": 4,
 "nbformat_minor": 5
}
