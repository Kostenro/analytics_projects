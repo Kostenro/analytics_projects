{
 "cells": [
  {
   "cell_type": "markdown",
   "id": "607af403-16dd-41b0-aa48-de30886cf754",
   "metadata": {},
   "source": [
    "<H1>Определение перспективного тарифа для телеком компании</H1>\n",
    "\n",
    "Проанализировать **два тарифных плана**, чтобы скорректировать рекламный бюджет. Коммерческий департамент хочет понять, **какой тариф приносит больше денег**. Необходимо сделать предварительный анализ тарифов на небольшой выборке клиентов. Есть данные 500 пользователей «Мегалайна»: кто они, откуда, каким тарифом пользуются, сколько звонков и сообщений каждый отправил за 2018 год. Нужно проанализировать поведение клиентов и сделать вывод — какой тариф лучше (приносит больше денег).\n",
    "\n",
    "\n",
    "\n",
    "<h3>Тариф \"Смарт\"</h3>\n",
    "\n",
    "Ежемесячная плата: 550 рублей<br>\n",
    "Включено 500 минут разговора, 50 сообщений и 15 Гб интернет-трафика<br>\n",
    "Стоимость услуг сверх тарифного пакета:<br>\n",
    "минута разговора: 3 рубля<br>\n",
    "сообщение: 3 рубля<br>\n",
    "1 Гб интернет-трафика: 200 рублей<br>\n",
    "\n",
    "<h3>Тариф \"Ультра\"</h3>\n",
    "\n",
    "Ежемесячная плата: 1950 рублей<br>\n",
    "Включено 3000 минут разговора, 1000 сообщений и 30 Гб интернет-трафика<br>\n",
    "Стоимость услуг сверх тарифного пакета:<br>\n",
    "минута разговора: 1 рубль<br>\n",
    "сообщение: 1 рубль<br>\n",
    "1 Гб интернет-трафика: 150 рублей<br>\n",
    "\n",
    "\n",
    "\n",
    "<h3>Таблица (информация о пользователях):</h3>\n",
    "\n",
    "user_id — уникальный идентификатор пользователя<br>\n",
    "first_name — имя пользователя<br>\n",
    "last_name — фамилия пользователя<br>\n",
    "age — возраст пользователя (годы)<br>\n",
    "reg_date — дата подключения тарифа (день, месяц, год)<br>\n",
    "churn_date — дата прекращения пользования тарифом (если значение пропущено, то тариф ещё действовал на момент выгрузки данных)<br>\n",
    "city — город проживания пользователя<br>\n",
    "tariff — название тарифного плана<br>\n",
    "\n",
    "<h3>Таблица (информация о звонках):</h3>\n",
    "\n",
    "id — уникальный номер звонка<br>\n",
    "call_date — дата звонка<br>\n",
    "duration — длительность звонка в минутах<br>\n",
    "user_id — идентификатор пользователя, сделавшего звонок<br>\n",
    "\n",
    "<h3>Таблица (информация о сообщениях):</h3>\n",
    "\n",
    "id — уникальный номер сообщения<br>\n",
    "message_date — дата сообщения<br>\n",
    "user_id — идентификатор пользователя, отправившего сообщение<br>\n",
    "\n",
    "<h3>Таблица (информация об интернет-сессиях):</h3>\n",
    "\n",
    "id — уникальный номер сессии\n",
    "mb_used — объём потраченного за сессию интернет-трафика (в мегабайтах)<br>\n",
    "session_date — дата интернет-сессии<br>\n",
    "user_id — идентификатор пользователя<br>\n",
    "\n",
    "<h3>Таблица (информация о тарифах):</h3>\n",
    "\n",
    "tariff_name — название тарифа<br>\n",
    "rub_monthly_fee — ежемесячная абонентская плата в рублях<br>\n",
    "minutes_included — количество минут разговора в месяц, включённых в абонентскую плату<br>\n",
    "messages_included — количество сообщений в месяц, включённых в абонентскую плату<br>\n",
    "mb_per_month_included — объём интернет-трафика, включённого в абонентскую плату (в мегабайтах)<br>\n",
    "rub_per_minute — стоимость минуты разговора сверх тарифного пакета (например, если в тарифе 100 минут разговора в месяц, то со 101 минуты будет взиматься плата)<br>\n",
    "rub_per_message — стоимость отправки сообщения сверх тарифного пакета<br>\n",
    "rub_per_gb — стоимость дополнительного гигабайта интернет-трафика сверх тарифного пакета (1 гигабайт = 1024 мегабайта)<br>"
   ]
  },
  {
   "cell_type": "markdown",
   "id": "88a9cf48-a96d-4e92-9edf-30e1d2ee3f3e",
   "metadata": {},
   "source": [
    "<h1>Задачи</h1>\n",
    "<h3>Шаг 1. Откройть файл с данными и изучите общую информацию</h3>\n",
    "Путь к файлам:<br>\n",
    "/datasets/calls.csv. Скачать датасет<br>\n",
    "/datasets/internet.csv. Скачать датасет<br>\n",
    "/datasets/messages.csv. Скачать датасет<br>\n",
    "/datasets/tariffs.csv. Скачать датасет<br>\n",
    "/datasets/users.csv. Скачать датасет<br>\n",
    "<h3>Шаг 2. Подготовьте данные</h3>\n",
    "Приведите данные к нужным типам;<br>\n",
    "Найдите и исправьте ошибки в данных.<br>\n",
    "Поясните, какие ошибки вы нашли и как их исправили. Обратите внимание, что длительность многих звонков — 0.0 минут. Это могут быть пропущенные звонки. Обрабатывать ли эти нулевые значения, решать вам — оцените, как их отсутствие повлияет на результаты анализа.<br>\n",
    "Посчитайте для каждого пользователя:<br>\n",
    "количество сделанных звонков и израсходованных минут разговора по месяцам;<br>\n",
    "количество отправленных сообщений по месяцам;<br>\n",
    "объем израсходованного интернет-трафика по месяцам;<br>\n",
    "помесячную выручку с каждого пользователя (вычтите бесплатный лимит из суммарного количества звонков, сообщений и интернет-трафика; остаток умножьте на значение из тарифного плана; прибавьте абонентскую плату, соответствующую тарифному плану).\n",
    "<h3>Шаг 3. Проанализируйте данные</h3>\n",
    "Опишите поведение клиентов оператора, исходя из выборки. Сколько минут разговора, сколько сообщений и какой объём интернет-трафика требуется пользователям каждого тарифа в месяц? Посчитайте среднее количество, дисперсию и стандартное отклонение. Постройте гистограммы. Опишите распределения.\n",
    "<h3>Шаг 4. Проверьте гипотезы</h3>\n",
    "средняя выручка пользователей тарифов «Ультра» и «Смарт» различается;\n",
    "средняя выручка пользователей из Москвы отличается от выручки пользователей из других регионов;\n",
    "Пороговое значение alpha задайте самостоятельно.\n",
    "Поясните:\n",
    "как вы формулировали нулевую и альтернативную гипотезы;\n",
    "какой критерий использовали для проверки гипотез и почему.\n",
    "<h3>Шаг 5. Напишите общий вывод</h3>\n",
    "Оформление: Задание выполните в Jupyter Notebook. Программный код заполните в ячейках типа code, текстовые пояснения — в ячейках типа markdown. Примените форматирование и заголовки."
   ]
  },
  {
   "cell_type": "code",
   "execution_count": null,
   "id": "a7de1573-d76d-4e57-a38f-d2c207cc4ef0",
   "metadata": {},
   "outputs": [],
   "source": [
    "import pandas as pd\n",
    "import seaborn as sns\n",
    "import matplotlib.pyplot as plt\n",
    "from pymystem3 import Mystem\n",
    "from nltk.stem import SnowballStemmer\n",
    "import numpy as np\n",
    "import math as mt\n",
    "from matplotlib import pyplot as plt\n",
    "from math import factorial\n",
    "from scipy import stats as st"
   ]
  },
  {
   "cell_type": "code",
   "execution_count": null,
   "id": "29177a39-5a81-4802-9b34-bab9625ba110",
   "metadata": {},
   "outputs": [],
   "source": [
    "calls = pd.read_csv('/datasets/calls.csv')\n",
    "internet = pd.read_csv('/datasets/internet.csv')\n",
    "messages = pd.read_csv('/datasets/messages.csv')\n",
    "tariffs = pd.read_csv('/datasets/tariffs.csv')\n",
    "users = pd.read_csv('/datasets/users.csv')"
   ]
  },
  {
   "cell_type": "code",
   "execution_count": null,
   "id": "d5bbe58f-f759-49d0-9f58-77bdf2357387",
   "metadata": {},
   "outputs": [],
   "source": [
    "calls.info()\n",
    "calls.head(5)"
   ]
  },
  {
   "cell_type": "code",
   "execution_count": null,
   "id": "cf78ef76-76ee-4878-8219-7c2d97639219",
   "metadata": {},
   "outputs": [],
   "source": [
    "calls.tail(5)"
   ]
  },
  {
   "cell_type": "code",
   "execution_count": null,
   "id": "d309b3b2-20d9-49f3-b784-c83a3b8df895",
   "metadata": {},
   "outputs": [],
   "source": [
    "calls.duplicated().sum()"
   ]
  },
  {
   "cell_type": "code",
   "execution_count": null,
   "id": "cf384937-cff3-4e5f-bf4b-77a24d95e3a2",
   "metadata": {},
   "outputs": [],
   "source": [
    "calls.isnull().sum()"
   ]
  },
  {
   "cell_type": "code",
   "execution_count": null,
   "id": "fb082e2a-3de1-4b3b-a2bd-a04a981ca447",
   "metadata": {},
   "outputs": [],
   "source": [
    "calls.describe()"
   ]
  },
  {
   "cell_type": "code",
   "execution_count": null,
   "id": "5a277f41-3070-4cdb-addc-f4c99ca775a4",
   "metadata": {},
   "outputs": [],
   "source": [
    "internet.info()\n",
    "internet.head(5)"
   ]
  },
  {
   "cell_type": "code",
   "execution_count": null,
   "id": "eb6e7d77-273e-46d3-8ec5-1a2fcdc021ab",
   "metadata": {},
   "outputs": [],
   "source": [
    "internet.tail(5)"
   ]
  },
  {
   "cell_type": "code",
   "execution_count": null,
   "id": "a37790ba-cbeb-44c7-8e8a-242babcc40e7",
   "metadata": {},
   "outputs": [],
   "source": [
    "internet.duplicated().sum()"
   ]
  },
  {
   "cell_type": "code",
   "execution_count": null,
   "id": "87c40148-4c3f-46be-842f-c63cb7050929",
   "metadata": {},
   "outputs": [],
   "source": [
    "internet.isnull().sum()"
   ]
  },
  {
   "cell_type": "code",
   "execution_count": null,
   "id": "bc53807a-51ca-4fa7-955f-f61e20a8b741",
   "metadata": {},
   "outputs": [],
   "source": [
    "internet.describe()"
   ]
  },
  {
   "cell_type": "code",
   "execution_count": null,
   "id": "2c70fc44-6358-4788-a5ab-2cca4dbf6aa7",
   "metadata": {},
   "outputs": [],
   "source": [
    "messages.info()\n",
    "messages.head(5)"
   ]
  },
  {
   "cell_type": "code",
   "execution_count": null,
   "id": "4c326f83-533e-4b36-bf57-bcb9bb8dc1c6",
   "metadata": {},
   "outputs": [],
   "source": [
    "messages.tail(5)"
   ]
  },
  {
   "cell_type": "code",
   "execution_count": null,
   "id": "bec4c920-d83c-4e3f-8b7a-3014457cbc7d",
   "metadata": {},
   "outputs": [],
   "source": [
    "messages.isnull().sum()"
   ]
  },
  {
   "cell_type": "code",
   "execution_count": null,
   "id": "5b6de32d-47c5-4c0f-8b15-96965f15f4fd",
   "metadata": {},
   "outputs": [],
   "source": [
    "messages.duplicated().sum()"
   ]
  },
  {
   "cell_type": "code",
   "execution_count": null,
   "id": "b87964af-e0d7-44aa-a20c-9f24b9525694",
   "metadata": {},
   "outputs": [],
   "source": [
    "messages.describe()"
   ]
  },
  {
   "cell_type": "code",
   "execution_count": null,
   "id": "f8678553-1f91-4e8a-bd40-f163d80aee25",
   "metadata": {},
   "outputs": [],
   "source": [
    "tariffs.info()\n",
    "tariffs"
   ]
  },
  {
   "cell_type": "code",
   "execution_count": null,
   "id": "0dd1d89c-3f1d-4afc-8690-b9c7b6175794",
   "metadata": {},
   "outputs": [],
   "source": [
    "tariffs = tariffs.rename(columns={'tariff_name':'tariff'})"
   ]
  },
  {
   "cell_type": "code",
   "execution_count": null,
   "id": "e2b7c6da-df2a-4ca8-af8a-9254312cfd21",
   "metadata": {},
   "outputs": [],
   "source": [
    "tariffs.describe()\n",
    "tariffs.head()"
   ]
  },
  {
   "cell_type": "code",
   "execution_count": null,
   "id": "87bb9aac-64bc-45fb-b4d2-955f75d18da1",
   "metadata": {},
   "outputs": [],
   "source": [
    "users.info()\n",
    "users.head(5)"
   ]
  },
  {
   "cell_type": "code",
   "execution_count": null,
   "id": "d6d87766-b23e-4d67-ad66-b1d8416e1f2a",
   "metadata": {},
   "outputs": [],
   "source": [
    "users.tail(5)"
   ]
  },
  {
   "cell_type": "code",
   "execution_count": null,
   "id": "493f906d-4770-4f8f-964f-f91683919c71",
   "metadata": {},
   "outputs": [],
   "source": [
    "users.isnull().sum()"
   ]
  },
  {
   "cell_type": "code",
   "execution_count": null,
   "id": "4308b1cf-0eed-41db-ae16-190b709243b8",
   "metadata": {},
   "outputs": [],
   "source": [
    "users.duplicated().sum()"
   ]
  },
  {
   "cell_type": "code",
   "execution_count": null,
   "id": "3981cd43-9a07-4f74-8796-3f49f2be1680",
   "metadata": {},
   "outputs": [],
   "source": [
    "users.describe()"
   ]
  },
  {
   "cell_type": "markdown",
   "id": "4834dee4-1c53-4fd3-8eb6-208f3bf072f2",
   "metadata": {},
   "source": [
    "**ВЫВОДЫ:**<br> **выгрузили, посмотрели данные. \n",
    "Пропуски  в churn_date 38 отключенных от тарифа - оставим - в анализе не участвуют.<br>\n",
    "Нужно поменять формат даты где она есть. Нулевые значения в длительности звонка принимаем за неотвеченный(непринятый) вызовы и нули в интернет трафике - удалим эти строки нам нужны кол.-во минут разговора и количество израсходованного трафика, а нулевые значения дадут смещения в расчетах. Округлим минуты и гигабайты в пользу \"Мегалайн\"**   "
   ]
  },
  {
   "cell_type": "markdown",
   "id": "5a634a4a-cd9e-4232-afb7-a77c08b96c28",
   "metadata": {},
   "source": [
    "<h3>Подготовим данные</h3>"
   ]
  },
  {
   "cell_type": "code",
   "execution_count": null,
   "id": "ca007046-4dda-4356-a5d6-1dee9d911ec0",
   "metadata": {},
   "outputs": [],
   "source": [
    "#заменим формат даты, добавим столбец по месяцам\n",
    "internet['session_date'] = pd.to_datetime(internet['session_date'], format='%Y-%m-%d')\n",
    "internet['month'] = internet['session_date'].apply(lambda x: x.month)\n",
    "messages['message_date'] = pd.to_datetime(messages['message_date'], format='%Y-%m-%d')\n",
    "messages['month'] = messages['message_date'].apply(lambda x: x.month)\n",
    "users['reg_date'] = pd.to_datetime(users['reg_date'], format='%Y-%m-%d')\n",
    "users['month'] = users['reg_date'].apply(lambda x: x.month)\n",
    "calls['call_date'] = pd.to_datetime(calls['call_date'], format='%Y-%m-%d')\n",
    "calls['month'] = calls['call_date'].apply(lambda x: x.month)"
   ]
  },
  {
   "cell_type": "code",
   "execution_count": null,
   "id": "0eaff307-9321-441d-8c14-9ffebd15d531",
   "metadata": {},
   "outputs": [],
   "source": [
    "#округляем минуты, и убираем нули. Удалять строки с нулями не будем, что бы не терять большой объем данных\n",
    "calls['duration'] = calls['duration'].apply(np.ceil)\n",
    "calls['duration'] = calls['duration'].replace(0, np.NaN)"
   ]
  },
  {
   "cell_type": "code",
   "execution_count": null,
   "id": "8bf42540-9012-42bf-964b-b668a3522f85",
   "metadata": {},
   "outputs": [],
   "source": [
    "#округлим в плюс до целого интернет трафик, и заменим нули на пропущенные значения\n",
    "internet['mb_used'] = internet['mb_used'].apply(np.ceil)\n",
    "internet['mb_used'] = internet['mb_used'].replace(0, np.NaN)"
   ]
  },
  {
   "cell_type": "code",
   "execution_count": null,
   "id": "2792c885-800d-435f-bf64-78912421240c",
   "metadata": {},
   "outputs": [],
   "source": [
    "#соберем данные по количеству сделанных звонков и израсходованных минут. Сгруппируем по месяца\n",
    "calls_month_dt = calls.groupby(['user_id', 'month'])['duration'].agg(['sum', 'count']).reset_index()\n",
    "messages_month_dt = messages.groupby(['user_id', 'month'])['id'].agg(['count']).reset_index()\n",
    "internet_month_dt =internet.groupby(['user_id', 'month']).agg({'mb_used': 'sum'}).reset_index()\n",
    "#internet_month_dt\n",
    "#messages_month_dt\n",
    "calls_month_dt.head()"
   ]
  },
  {
   "cell_type": "code",
   "execution_count": null,
   "id": "1095f048-d047-478e-a0c0-24ee2f22fc7c",
   "metadata": {},
   "outputs": [],
   "source": [
    "messages_month_dt.head()"
   ]
  },
  {
   "cell_type": "code",
   "execution_count": null,
   "id": "d3c5f1d4-840b-4e14-abe0-861518ac4a91",
   "metadata": {},
   "outputs": [],
   "source": [
    "internet_month_dt.head()"
   ]
  },
  {
   "cell_type": "code",
   "execution_count": null,
   "id": "6037a401-611e-49c5-8601-f24ca058ec39",
   "metadata": {},
   "outputs": [],
   "source": [
    "users.head()"
   ]
  },
  {
   "cell_type": "code",
   "execution_count": null,
   "id": "af5aa27d-c4ab-41ca-8200-568261352b63",
   "metadata": {},
   "outputs": [],
   "source": [
    "#соберем данные и посчитаем помесячную выручку для каждого пользователя\n",
    "full_dt = calls_month_dt.merge(messages_month_dt, on=['user_id','month'], how='outer')\n",
    "full_dt = full_dt.merge(internet_month_dt, on=['user_id','month'], how='outer')\n",
    "full_dt = full_dt.rename(columns={'count_x':'month_calls_count', 'count_y': 'month_messages_count', 'sum': 'month_call_time'})\n",
    "full_dt.head()"
   ]
  },
  {
   "cell_type": "code",
   "execution_count": null,
   "id": "c5e42d36-fc3b-4101-a791-f537e05e7420",
   "metadata": {},
   "outputs": [],
   "source": [
    "#что бы посчитать помесячную выручку нужно добавить данны по тарифному плану\n",
    "full_dt = full_dt.merge(users, on='user_id', how='left')\n",
    "full_dt.head()\n",
    "#full_dt = full_dt.merge(tariffs['tariff_name'], on='tariff_x', how='outer')\n",
    "#full_dt.head(40)"
   ]
  },
  {
   "cell_type": "code",
   "execution_count": null,
   "id": "cf3d953f-2127-4423-a0a0-3efc6282ad37",
   "metadata": {},
   "outputs": [],
   "source": [
    "full_dt = full_dt.merge(tariffs, on='tariff', how='left')\n",
    "full_dt"
   ]
  },
  {
   "cell_type": "code",
   "execution_count": null,
   "id": "bc97afcf-53cf-43b5-b928-d153594c4797",
   "metadata": {},
   "outputs": [],
   "source": [
    "#проверим, что получилось\n",
    "full_dt.info()\n",
    "full_dt.duplicated().sum()"
   ]
  },
  {
   "cell_type": "code",
   "execution_count": null,
   "id": "c1f7db6f-6ffe-477a-806b-f41587ef70dc",
   "metadata": {},
   "outputs": [],
   "source": [
    "full_dt.isna().sum()"
   ]
  },
  {
   "cell_type": "code",
   "execution_count": null,
   "id": "6f048b80-4ada-4746-bdaa-382ffd7b8dc4",
   "metadata": {},
   "outputs": [],
   "source": [
    "full_dt['mb_per_month_included']"
   ]
  },
  {
   "cell_type": "code",
   "execution_count": null,
   "id": "cc61b75e-f7a2-441d-9623-9217a120a293",
   "metadata": {},
   "outputs": [],
   "source": [
    "full_dt['mb_used']"
   ]
  },
  {
   "cell_type": "code",
   "execution_count": null,
   "id": "156cb101-71bd-4c9b-b616-2b41c3bd81ef",
   "metadata": {},
   "outputs": [],
   "source": [
    "full_dt['month_call_time'] = full_dt['month_call_time'].fillna(0)\n",
    "full_dt['month_messages_count'] = full_dt['month_messages_count'].fillna(0)\n",
    "full_dt['month_calls_count'] = full_dt['month_calls_count'].fillna(0)\n",
    "full_dt['mb_used'] = full_dt['mb_used'].fillna(0)\n",
    "#full_dt.isna().sum()"
   ]
  },
  {
   "cell_type": "code",
   "execution_count": null,
   "id": "153f081c-fe7f-4b19-b209-1150859df5db",
   "metadata": {},
   "outputs": [],
   "source": [
    "#превышение по смс, минутам и мегабайтам\n",
    "def more_then_tariff(row):   \n",
    "    sms = (row['month_messages_count'] - row['messages_included']) * row['rub_per_message']\n",
    "    minutes = (row['month_call_time'] - row['minutes_included']) * row['rub_per_minute']\n",
    "    mbs = mt.ceil((row['mb_used'] - row['mb_per_month_included']) * row['rub_per_gb'] / 1024)\n",
    "    total = 0\n",
    "    for i in [sms, minutes, mbs]:\n",
    "        if i > 0:\n",
    "            total += i\n",
    "    return total"
   ]
  },
  {
   "cell_type": "code",
   "execution_count": null,
   "id": "730b5c55-3c49-49f0-aa1b-34062bfadc09",
   "metadata": {},
   "outputs": [],
   "source": [
    "full_dt['more_then_tariff'] = full_dt.apply(lambda x: more_then_tariff(x), axis=1)"
   ]
  },
  {
   "cell_type": "code",
   "execution_count": null,
   "id": "70ef37df-1d63-4036-90da-13d622445a9c",
   "metadata": {},
   "outputs": [],
   "source": [
    "# всего пользователь тарифом потратил\n",
    "full_dt['total_paid'] = full_dt['rub_monthly_fee'] + full_dt['more_then_tariff']\n"
   ]
  },
  {
   "cell_type": "code",
   "execution_count": null,
   "id": "e6f62bb0-0513-45e8-ae80-4e9e74c22c87",
   "metadata": {},
   "outputs": [],
   "source": [
    "full_dt.head()"
   ]
  },
  {
   "cell_type": "code",
   "execution_count": null,
   "id": "5e4c2888-308a-4526-a64a-03beeffd66eb",
   "metadata": {},
   "outputs": [],
   "source": [
    "full_dt.info()"
   ]
  },
  {
   "cell_type": "markdown",
   "id": "ed39daa3-a505-4b3f-b046-77dc082f09c0",
   "metadata": {},
   "source": [
    "**ВЫВОДЫ: в этом пункте округлили длительность звонков и израсходованые мегабайты, согласно тарифу. Были расчитаны и добавлены в таблицу необходимые для анализа данные. Собрали все данные в сводную таблицу.**"
   ]
  },
  {
   "cell_type": "markdown",
   "id": "7b06dc47-a568-4dce-8b65-47b6c3e1a510",
   "metadata": {},
   "source": [
    "<h3>Анализ данных</h3>\n",
    "\n",
    "Нужно посмотреть:<br>\n",
    "    сколько минут разговора требуется пользователям каждого тарифа<br>\n",
    "    сколько требуется сообщений<br>\n",
    "    склько требуется интернет трафика<br>\n",
    " "
   ]
  },
  {
   "cell_type": "code",
   "execution_count": null,
   "id": "d863dc71-2376-42e0-a657-d78dade76487",
   "metadata": {},
   "outputs": [],
   "source": [
    "#сколько говорят в месяц пользователи тарифа ultra \n",
    "title = 'Количество израсходованных минут для Ultra'\n",
    "\n",
    "\n",
    "full_dt[full_dt['tariff'] == 'ultra']['month_call_time'].plot(kind='hist', bins=20, title=title, ec='black')"
   ]
  },
  {
   "cell_type": "markdown",
   "id": "c4dfc4b4-a96f-46ac-a555-b7f9b2a85f98",
   "metadata": {},
   "source": [
    "***Пользователи ultra не выговаривают и половины оплаченых 3000 минут***"
   ]
  },
  {
   "cell_type": "code",
   "execution_count": null,
   "id": "6c7617f6-bbaf-418a-8532-c5b473c1cc29",
   "metadata": {},
   "outputs": [],
   "source": [
    "#сколько говорят в месяц пользователи тарифа smart\n",
    "title = 'Количество израсходованных минут - Smart'\n",
    "plt.xlabel('Минуты разговора - Smart')\n",
    "full_dt[full_dt['tariff'] == 'smart']['month_call_time'].plot(kind='hist', bins=20, title=title, ec='black')"
   ]
  },
  {
   "cell_type": "markdown",
   "id": "433b3c17-a4a3-4840-ba19-653908bfa687",
   "metadata": {},
   "source": [
    "***Пользователям smart 500 минут недостаточно*** "
   ]
  },
  {
   "cell_type": "code",
   "execution_count": null,
   "id": "d2727ec3-935b-4e84-9f29-c1a416833025",
   "metadata": {},
   "outputs": [],
   "source": [
    "#сколько сообщений отправляют пользователи тарифа ultra\n",
    "title = 'Отправлено sms в месяц для ultra '\n",
    "plt.xlabel('Количество sms - ultra')\n",
    "full_dt[full_dt['tariff'] == 'ultra']['month_messages_count'].plot(kind='hist', bins=20, title=title, ec='black')"
   ]
  },
  {
   "cell_type": "code",
   "execution_count": null,
   "id": "90d222f4-8a94-4824-9e67-ae0aa5c53656",
   "metadata": {},
   "outputs": [],
   "source": [
    "#сколько сообщений отправляют пользователи тарифа smart\n",
    "title = 'Отправлено sms в месяц для Smart'\n",
    "plt.xlabel('количество sms - Smart')\n",
    "full_dt[full_dt['tariff'] == 'smart']['month_messages_count'].plot(kind='hist', bins=20, title=title, ec='black')"
   ]
  },
  {
   "cell_type": "markdown",
   "id": "4f6e5b50-cc0e-46d3-a39f-db2879d976e5",
   "metadata": {},
   "source": [
    "***смс не пользуется популярностью в обоих тарифах***"
   ]
  },
  {
   "cell_type": "code",
   "execution_count": null,
   "id": "4a5d8deb-df23-4185-8eaa-6a18b18ef85c",
   "metadata": {},
   "outputs": [],
   "source": [
    "#какой объем интернет-трафика требуется пользователям ultra\n",
    "title = 'Расход интернет трафика для Ultra'\n",
    "plt.xlabel('Количество Mb')\n",
    "full_dt[full_dt['tariff'] == 'ultra']['mb_used'].plot(kind='hist', bins=20, title=title, ec='black')"
   ]
  },
  {
   "cell_type": "code",
   "execution_count": null,
   "id": "ad8c1592-ae72-42d4-8d3b-fb2dd6eb1159",
   "metadata": {},
   "outputs": [],
   "source": [
    "#какой объем интернет-трафика требуется пользователям smart\n",
    "title = 'Расход интернет трафика для Smart'\n",
    "plt.xlabel('Количество Mb для Smart')\n",
    "full_dt[full_dt['tariff'] == 'smart']['mb_used'].plot(kind='hist', bins=20, title=title, ec='black')"
   ]
  },
  {
   "cell_type": "markdown",
   "id": "944599f0-a88d-470d-bbdd-a689f4bd22c2",
   "metadata": {},
   "source": [
    "***Большая часть пользователе smart докупают недостающий трафик.***"
   ]
  },
  {
   "cell_type": "code",
   "execution_count": null,
   "id": "7073602a-3494-4ea4-8c55-c38d33e4884a",
   "metadata": {},
   "outputs": [],
   "source": [
    "#посчитаем среднее, дисперсию и стандартное отклонение для звонков\n",
    "full_dt.groupby('tariff').agg({'month_call_time':['median','mean','var','std']}).style.format(\"{:.2f}\")"
   ]
  },
  {
   "cell_type": "code",
   "execution_count": null,
   "id": "af57aa45-c954-41ce-85a6-803429c09f66",
   "metadata": {},
   "outputs": [],
   "source": [
    "full_dt.groupby('tariff').agg({'month_calls_count':['median','mean','var','std']}).style.format(\"{:.2f}\")"
   ]
  },
  {
   "cell_type": "code",
   "execution_count": null,
   "id": "a54acdd8-72f5-4113-a36f-4242be2d2236",
   "metadata": {},
   "outputs": [],
   "source": [
    "#посчитаем среднее, дисперсию и стандартное отклонение для sms\n",
    "full_dt.groupby('tariff').agg({'month_messages_count':['median','mean','var','std']}).style.format(\"{:.2f}\")"
   ]
  },
  {
   "cell_type": "code",
   "execution_count": null,
   "id": "28d84504-9e7f-459c-8be2-75526812b6c2",
   "metadata": {},
   "outputs": [],
   "source": [
    "#посчитаем среднее, дисперсию и стандартное отклонение для intrnet\n",
    "full_dt.groupby('tariff').agg({'mb_used':['median','mean','var','std']}).style.format(\"{:.2f}\")"
   ]
  },
  {
   "cell_type": "code",
   "execution_count": null,
   "id": "b186069d-a9b1-40d7-afdc-2a1f683a29ce",
   "metadata": {},
   "outputs": [],
   "source": [
    "#общая выручка по тарифам\n",
    "full_dt.groupby('tariff').agg({'total_paid':['sum']})"
   ]
  },
  {
   "cell_type": "code",
   "execution_count": null,
   "id": "bef2458e-8f0a-498c-9823-0a94b8a24191",
   "metadata": {},
   "outputs": [],
   "source": [
    "full_dt.pivot_table(index='tariff', values='total_paid', aggfunc='median')"
   ]
  },
  {
   "cell_type": "markdown",
   "id": "ace9e76d-a48f-4ce7-acde-ddac15dce2e6",
   "metadata": {},
   "source": [
    "<h3>Что видим в итоге:</h3>\n",
    "\n",
    "***Пользователи тарифа Smart:***<br>\n",
    "трятят минут: 417 (500)<br> \n",
    "sms в среднем: 33  (50)<br>\n",
    "трафик:16229  (15000)<br>\n",
    "\n",
    "Из гистограмы видно, что пользователям тарифа Smart часто приходится докупать минуты и средний расход трафика лежит за пределами лимита.\n",
    "\n",
    "***Пользователи тарифа Ultra:***<br>\n",
    "трятят минут: 526 (3000)<br>\n",
    "sms в среднем: 49 (1000)<br>\n",
    "трафик:19486 (30000)<br>\n",
    "\n",
    "Количество предоставляемых в рамках услуг минут явно избыточно. Самые разговорчивые не тратят и половины лимита. Тоже можно сказать иб интернет трафике"
   ]
  },
  {
   "cell_type": "markdown",
   "id": "136a3e9a-5586-4fc0-8a45-045b9c5a223a",
   "metadata": {},
   "source": [
    "<h3>Проверка гипотиз</h3>\n",
    "\n",
    "H0  — средняя выручка пользователей тарифа «Ультра» равна средней выручке пользователей тарифа «Смарт».\n",
    "\n",
    "H1  — средняя выручка пользователей тарифов «Ультра» и «Смарт» различаются.\n",
    "\n",
    "α=1%"
   ]
  },
  {
   "cell_type": "code",
   "execution_count": null,
   "id": "6330320c-5b4c-45f0-aba1-ded386dc5bd5",
   "metadata": {},
   "outputs": [],
   "source": [
    "ultra = full_dt.query('tariff == \"ultra\"')['total_paid']\n",
    "smart = full_dt.query('tariff == \"smart\"')['total_paid']\n",
    "\n",
    "alpha = .01\n",
    "\n",
    "results = st.ttest_ind(\n",
    "    ultra, \n",
    "    smart, \n",
    "    equal_var=False)\n",
    "\n",
    "print('p-значение:', results.pvalue)\n",
    "\n",
    "if (results.pvalue < alpha):\n",
    "    print(\"Отвергаем нулевую гипотезу\")\n",
    "else:\n",
    "    print(\"Не получилось отвергнуть нулевую гипотезу\")"
   ]
  },
  {
   "cell_type": "code",
   "execution_count": null,
   "id": "e06bebfb-cd2c-4ff9-8de5-7c8355976514",
   "metadata": {},
   "outputs": [],
   "source": [
    "full_dt.pivot_table(index='tariff', values='total_paid', aggfunc='median')"
   ]
  },
  {
   "cell_type": "code",
   "execution_count": null,
   "id": "fd4f593b-5dae-4aac-9234-bec0b9a50042",
   "metadata": {},
   "outputs": [],
   "source": [
    "sns.catplot(x=\"tariff\", y='total_paid', kind=\"box\", data=full_dt, orient='v')"
   ]
  },
  {
   "cell_type": "markdown",
   "id": "7f644137-9e2b-4b60-b5c6-46d70b3dd530",
   "metadata": {},
   "source": [
    "**ВЫВОД**\n",
    "Средние значения выручки по тарифам значительно различаются. Если у пользователя подключен тариф \"Смарт\" с абонентской платой в 550 рублей, то он скорее всего по итогам месяца заплатит гораздо больше из-за нехватки услуг в рамках тарифного пакета.\n"
   ]
  },
  {
   "cell_type": "markdown",
   "id": "365b0974-01b3-422e-bf8b-a94d801f32cd",
   "metadata": {},
   "source": [
    "H0  — средняя выручка пользователей из Москвы равна средней выручке пользователей из других регионов.\n",
    "\n",
    "H1  — средняя выручка пользователей из Москвы отличается от средней выручке пользователей из других регионов.\n",
    "\n",
    "α=1%"
   ]
  },
  {
   "cell_type": "code",
   "execution_count": null,
   "id": "38fa7c80-d997-4811-8837-31d057d9ec93",
   "metadata": {},
   "outputs": [],
   "source": [
    "moscow = full_dt.query('city == \"Москва\"')['total_paid']\n",
    "regions = full_dt.query('city != \"Москва\"')['total_paid']"
   ]
  },
  {
   "cell_type": "code",
   "execution_count": null,
   "id": "9811ce9a-89b9-496a-a2fc-458aa3ad39a4",
   "metadata": {},
   "outputs": [],
   "source": [
    "np.var(moscow)"
   ]
  },
  {
   "cell_type": "code",
   "execution_count": null,
   "id": "d6d0014d-08b1-4e9d-bbeb-0d448aa9bf4b",
   "metadata": {},
   "outputs": [],
   "source": [
    "np.var(regions)"
   ]
  },
  {
   "cell_type": "markdown",
   "id": "cee8716a-5792-42b2-b8f5-e40200643b69",
   "metadata": {},
   "source": [
    "дисперсии сравниваемых совокупностей не равны, и, как следствие, выполняет t-тест в модификации Уэлча"
   ]
  },
  {
   "cell_type": "code",
   "execution_count": null,
   "id": "e9ae023a-411a-45a9-8266-69846f0ec8b6",
   "metadata": {},
   "outputs": [],
   "source": [
    "alpha = .01\n",
    "\n",
    "results = st.ttest_ind(\n",
    "    moscow, \n",
    "    regions, \n",
    "    equal_var=False)\n",
    "\n",
    "print('p-значение:', results.pvalue)\n",
    "\n",
    "if (results.pvalue < alpha):\n",
    "    print(\"Отвергаем нулевую гипотезу\")\n",
    "else:\n",
    "    print(\"Не получилось отвергнуть нулевую гипотезу\")"
   ]
  },
  {
   "cell_type": "code",
   "execution_count": null,
   "id": "5a47bc16-f3de-4b09-814c-ab4ed6520b19",
   "metadata": {},
   "outputs": [],
   "source": [
    "def det_region(city):\n",
    "    if city == 'Москва': return 'Москва'\n",
    "    else: return 'Другой регион'\n",
    "    \n",
    "full_dt['region'] = full_dt['city'].apply(det_region)\n",
    "full_dt.pivot_table(index='region', values='total_paid', aggfunc='median')"
   ]
  },
  {
   "cell_type": "code",
   "execution_count": null,
   "id": "483fe720-d028-4374-89a5-96cdd23967c6",
   "metadata": {},
   "outputs": [],
   "source": [
    "sns.catplot(x=\"region\", y='total_paid', kind=\"box\", data=full_dt, orient='v')"
   ]
  },
  {
   "cell_type": "markdown",
   "id": "982c333d-093a-4450-b108-1de5779f42d2",
   "metadata": {},
   "source": [
    "**Вывод**\n",
    "Опровергнуть нулевую гипотизу не получилсь - доходы в Москве практически не отличаются от других регионов."
   ]
  },
  {
   "cell_type": "markdown",
   "id": "f318fccd-c3e1-4633-8dff-9a1c241ad0bc",
   "metadata": {},
   "source": [
    "<h3>Общий вывод</h3>\n",
    "Стояла задача проанализировать два тарифных плана, чтобы скорректировать рекламный бюджет. Коммерческий департамент хочет понять, какой тариф приносит больше денег<br>\n",
    "\n",
    "На первом этапе выгрузили, посмотрели данные. Пропуски в churn_date 38 отключенных от тарифа - оставили - в анализе не участвуют. Поменяли формат даты. Обработали нулевые значения в длительности звонкови и в интернет трафике. Обработали минуты и гигабайты и привели значения в соответствие согласно правилам Мегалайн.\n",
    "\n",
    "По результатам статистического анализа доходы от тарифа Ultra больше, чем от тарифа Smart: в среднем Мегалайн от одного пользователя в месяц получает 1950 рублей и 959 рублей. Тариф Smart популярен из-за низкой стоимости, хотя пользователям смарт недостаточно включенных минут и интернет трафика и им приходится докупать их по более высокой стоимости.  \n",
    "Пользователи тарифа «Ультра», напротив, не используют тарифный пакет в полном объеме.\n",
    "Средние доходы от пользователей в Москве не отличаются от доходов в других населенных пунктах."
   ]
  },
  {
   "cell_type": "code",
   "execution_count": null,
   "id": "5f546e88-e7e3-4a68-bd28-e2e85e210a81",
   "metadata": {},
   "outputs": [],
   "source": []
  },
  {
   "cell_type": "code",
   "execution_count": null,
   "id": "fbffd118-f23d-4adc-9793-87d0edb83021",
   "metadata": {},
   "outputs": [],
   "source": []
  },
  {
   "cell_type": "code",
   "execution_count": null,
   "id": "15028ac4-368a-45ba-8dcd-f64d4ca831eb",
   "metadata": {},
   "outputs": [],
   "source": []
  },
  {
   "cell_type": "code",
   "execution_count": null,
   "id": "a87ee375-6a15-4201-9310-aca11d2ba2c2",
   "metadata": {},
   "outputs": [],
   "source": []
  },
  {
   "cell_type": "code",
   "execution_count": null,
   "id": "3a2c8c6c-8e49-4c1b-820b-472dc85911c5",
   "metadata": {},
   "outputs": [],
   "source": []
  },
  {
   "cell_type": "code",
   "execution_count": null,
   "id": "8c974682-e062-455a-9c2e-76c47524cacf",
   "metadata": {},
   "outputs": [],
   "source": []
  },
  {
   "cell_type": "code",
   "execution_count": null,
   "id": "13e73880-1ca2-4a57-9c7f-6133cded2def",
   "metadata": {},
   "outputs": [],
   "source": []
  },
  {
   "cell_type": "code",
   "execution_count": null,
   "id": "fbb84c05-2a26-470c-a85a-e879350258f5",
   "metadata": {},
   "outputs": [],
   "source": []
  },
  {
   "cell_type": "code",
   "execution_count": null,
   "id": "ad6d2de4-e1bf-4f72-8c1d-10c64bad2beb",
   "metadata": {},
   "outputs": [],
   "source": []
  },
  {
   "cell_type": "code",
   "execution_count": null,
   "id": "18351efa-052d-4287-b176-7d82b1effe31",
   "metadata": {},
   "outputs": [],
   "source": []
  },
  {
   "cell_type": "code",
   "execution_count": null,
   "id": "f0a9ffd0-1670-4973-80e9-f21b1eb08a33",
   "metadata": {},
   "outputs": [],
   "source": []
  },
  {
   "cell_type": "code",
   "execution_count": null,
   "id": "f2d210d1-d59a-45c3-9c5b-3dfd677d2fc7",
   "metadata": {},
   "outputs": [],
   "source": []
  },
  {
   "cell_type": "code",
   "execution_count": null,
   "id": "95383315-1ec9-4a11-a5b9-70f808542512",
   "metadata": {},
   "outputs": [],
   "source": []
  }
 ],
 "metadata": {
  "kernelspec": {
   "display_name": "Python 3 (ipykernel)",
   "language": "python",
   "name": "python3"
  },
  "language_info": {
   "codemirror_mode": {
    "name": "ipython",
    "version": 3
   },
   "file_extension": ".py",
   "mimetype": "text/x-python",
   "name": "python",
   "nbconvert_exporter": "python",
   "pygments_lexer": "ipython3",
   "version": "3.9.12"
  }
 },
 "nbformat": 4,
 "nbformat_minor": 5
}
